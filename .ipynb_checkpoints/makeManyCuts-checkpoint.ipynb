{
 "cells": [
  {
   "cell_type": "code",
   "execution_count": 3,
   "metadata": {
    "collapsed": false
   },
   "outputs": [],
   "source": [
    "import numpy as np\n",
    "import pandas as pd\n",
    "from matplotlib import pyplot as plt\n",
    "import h5py\n",
    "from fact.io import read_h5py, read_h5py_chunked\n",
    "from sklearn.model_selection import train_test_split\n",
    "from sklearn.ensemble import RandomForestClassifier\n",
    "import pickle\n",
    "plt.style.use('ggplot')\n",
    "%matplotlib inline"
   ]
  },
  {
   "cell_type": "code",
   "execution_count": 6,
   "metadata": {
    "collapsed": false
   },
   "outputs": [
    {
     "name": "stdout",
     "output_type": "stream",
     "text": [
      "-----loading crab datas\n"
     ]
    }
   ],
   "source": [
    "\"\"\"This are the most relevant features,\n",
    "for source indibendent classification. There is although the feature theta to \n",
    "make a theta cut because in the crab dataset are a few gammas too. Because \n",
    "theta is the best parameter for classification I make a litlle gamma cut to \n",
    "tread sure that there are only hadrons in the crab-set.\n",
    "\"\"\"\n",
    "feature = ['conc_core',\n",
    "\t'concentration_one_pixel',    \n",
    "\t'concentration_two_pixel',\n",
    "\t'leakage', \n",
    "\t'leakage2', \n",
    "\t'size', \n",
    "\t'width', \n",
    "\t'num_islands', \n",
    "\t'num_pixel_in_shower', \n",
    "\t'ph_charge_shower_max',\n",
    "\t'ph_charge_shower_mean',\n",
    "\t'ph_charge_shower_min',\n",
    "\t'ph_charge_shower_variance',\n",
    "\t'theta_deg']\n",
    "\n",
    "gammas = pd.read_hdf('data/gamma_precuts.hdf5')\n",
    "\n",
    "print('-----loading crab datas')\n",
    "crab_it = read_h5py_chunked(\n",
    "\t'data/crab_precuts.hdf5',\n",
    "\tkey='events',\n",
    "\tcolumns=feature,\n",
    "\tchunksize=950000)\n",
    "Crab, start, end = next(crab_it)"
   ]
  },
  {
   "cell_type": "code",
   "execution_count": 7,
   "metadata": {
    "collapsed": false
   },
   "outputs": [
    {
     "data": {
      "text/plain": [
       "count    692836.000000\n",
       "mean          0.238744\n",
       "std           0.204557\n",
       "min           0.000200\n",
       "25%           0.102982\n",
       "50%           0.182923\n",
       "75%           0.308680\n",
       "max           3.259737\n",
       "Name: theta_deg, dtype: float64"
      ]
     },
     "execution_count": 7,
     "metadata": {},
     "output_type": "execute_result"
    }
   ],
   "source": [
    "gammas.theta_deg.describe()"
   ]
  },
  {
   "cell_type": "code",
   "execution_count": 10,
   "metadata": {
    "collapsed": false
   },
   "outputs": [
    {
     "data": {
      "image/png": "[encoded data removed]",
      "text/plain": [
       "<matplotlib.figure.Figure at 0x7f8bbf45d470>"
      ]
     },
     "metadata": {},
     "output_type": "display_data"
    }
   ],
   "source": [
    "plt.hist(gammas.sample(10000).theta_deg**2, bins=50, range=[0, 2])\n",
    "None"
   ]
  },
  {
   "cell_type": "code",
   "execution_count": null,
   "metadata": {
    "collapsed": false
   },
   "outputs": [],
   "source": [
    "plt.hist(Crab.sample(100000).theta_deg**2, bins=50, range=[0, 0.9]\n",
    "None"
   ]
  },
  {
   "cell_type": "code",
   "execution_count": 14,
   "metadata": {
    "collapsed": false
   },
   "outputs": [
    {
     "data": {
      "text/plain": [
       "0.8301947368421053"
      ]
     },
     "execution_count": 14,
     "metadata": {},
     "output_type": "execute_result"
    }
   ],
   "source": [
    "len(Crab.query('theta_deg**2 >= 0.5')) / len(Crab)"
   ]
  },
  {
   "cell_type": "code",
   "execution_count": 16,
   "metadata": {
    "collapsed": false
   },
   "outputs": [
    {
     "name": "stdout",
     "output_type": "stream",
     "text": [
      "0.0\n",
      "1.1\n",
      "2.2\n",
      "3.3\n",
      "4.4\n",
      "5.6\n",
      "6.7\n",
      "7.8\n",
      "8.9\n",
      "10.0\n"
     ]
    }
   ],
   "source": [
    "for thetaCut in np.round(np.linspace(0,10,10),1):\n",
    "    \n",
    "    print(thetaCut)\n",
    "    crab = Crab[(Crab.theta_deg)**2>thetaCut].drop('theta_deg', axis=1)\n",
    "    crab['label'] = 0\n",
    "    gammas['label'] = 1\n",
    "    length = min(len(crab), len(gammas))\n",
    "    dataCrab = pd.concat([gammas[:length], crab[:length]], axis=0)\n",
    "    dataCrab.to_pickle('data/theta-cuts/dataCrab'+str(thetaCut))"
   ]
  },
  {
   "cell_type": "code",
   "execution_count": 17,
   "metadata": {
    "collapsed": false
   },
   "outputs": [
    {
     "name": "stdout",
     "output_type": "stream",
     "text": [
      "0.0\n",
      "1.1\n",
      "2.2\n",
      "3.3\n",
      "4.4\n",
      "5.6\n",
      "6.7\n",
      "7.8\n",
      "8.9\n",
      "10.0\n"
     ]
    }
   ],
   "source": [
    "dataCrab = pd.read_pickle('data/dataCrab')\n",
    "score = np.array([[], []])\n",
    "for thetaCut in np.round(np.linspace(0,10,10),1):\n",
    "    print(thetaCut)\n",
    "    dataCrabCut = pd.read_pickle('data/theta-cuts/dataCrab'+str(thetaCut))\n",
    "    X_train ,X_test, y_train, y_test = train_test_split(dataCrabCut.drop('label', axis=1),dataCrabCut.label, test_size=0.8)\n",
    "    Tree = RandomForestClassifier(max_depth=10, n_estimators=200,n_jobs=20).fit(X_train, y_train)\n",
    "    score = np.append(score, [[Tree.score(X_test, y_test)], [Tree.score(dataCrab.drop('label', axis=1), dataCrab.label)]], axis=1)"
   ]
  },
  {
   "cell_type": "code",
   "execution_count": 18,
   "metadata": {
    "collapsed": false
   },
   "outputs": [
    {
     "data": {
      "text/plain": [
       "<matplotlib.legend.Legend at 0x7f11d9660940>"
      ]
     },
     "execution_count": 18,
     "metadata": {},
     "output_type": "execute_result"
    },
    {
     "data": {
      "image/png": "[encoded data removed]",
      "text/plain": [
       "<matplotlib.figure.Figure at 0x7f11d9748d68>"
      ]
     },
     "metadata": {},
     "output_type": "display_data"
    }
   ],
   "source": [
    "plt.plot(np.round(np.linspace(0,10,10),1), score[0,:], label='Theta-cut score')\n",
    "plt.plot(np.round(np.linspace(0,10,10),1), score[1,:], label='Generell score')\n",
    "plt.legend(loc='best')"
   ]
  },
  {
   "cell_type": "code",
   "execution_count": null,
   "metadata": {
    "collapsed": false
   },
   "outputs": [],
   "source": []
  },
  {
   "cell_type": "code",
   "execution_count": null,
   "metadata": {
    "collapsed": false
   },
   "outputs": [],
   "source": []
  },
  {
   "cell_type": "code",
   "execution_count": null,
   "metadata": {
    "collapsed": true
   },
   "outputs": [],
   "source": []
  }
 ],
 "metadata": {
  "kernelspec": {
   "display_name": "Python [default]",
   "language": "python",
   "name": "python3"
  },
  "language_info": {
   "codemirror_mode": {
    "name": "ipython",
    "version": 3
   },
   "file_extension": ".py",
   "mimetype": "text/x-python",
   "name": "python",
   "nbconvert_exporter": "python",
   "pygments_lexer": "ipython3",
   "version": "3.5.2"
  }
 },
 "nbformat": 4,
 "nbformat_minor": 2
}
