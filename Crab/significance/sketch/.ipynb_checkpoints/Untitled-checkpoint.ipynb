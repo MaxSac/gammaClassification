{
 "cells": [
  {
   "cell_type": "code",
   "execution_count": null,
   "metadata": {},
   "outputs": [],
   "source": [
    "from xgboost.sklearn import XGBClassifier\n",
    "from sklearn.ensemble import RandomForestClassifier\n",
    "from fact.io import read_h5py\n",
    "from matplotlib import pyplot as plt\n",
    "plt.style.use('msackel')\n",
    "\n",
    "exec(open('/home/msackel/Desktop/gammaClassification/programm/theta_cut/theta_cut.py').read())\n",
    "exec(open('/home/msackel/Desktop/gammaClassification/programm/model_significance/model_significance.py').read())\n",
    "\n",
    "xgbc = XGBClassifier(\n",
    "\t\t\t\tmax_depth= 1,\n",
    "\t\t\t\tlearning_rate= 0.5,\n",
    "\t\t\t\tn_estimators= 100,\n",
    "\t\t\t\tbooster= 'gbtree', \n",
    "\t\t\t\tgamma= 0.5,\n",
    "\t\t\t\tn_jobs= 15,\n",
    "\t\t\t\treg_lambda= 0.1,\n",
    "\t\t\t\tsubsample= 0.20,\n",
    "\t\t\t\teval_metric= 'auc'\n",
    "\t\t\t\t)\n",
    "\n",
    "Tree = RandomForestClassifier(\n",
    "\t\t\t\tmax_depth=15, \n",
    "\t\t\t\tmax_features=7, \n",
    "\t\t\t\tcriterion='entropy', \n",
    "\t\t\t\tn_estimators=100, \n",
    "\t\t\t\tn_jobs=25\n",
    "\t\t\t\t)\n",
    "\n",
    "\n",
    "with open('/home/msackel/Desktop/gammaClassification/config/feature.yaml') as f:\n",
    "\t\tfeature = yaml.load(f)\n",
    "\n",
    "eval_data = pd.read_hdf('/home/msackel/Desktop/gammaClassification/data/raw_data/proton_precuts.hdf5')[feature]\n",
    "\n",
    "print('---Theta**2 = 0.5')\n",
    "train_Tree= theta_cut('/home/msackel/Desktop/gammaClassification/data/raw_data/gamma_precuts.hdf5', \n",
    "\t\t\t\t'/home/msackel/Desktop/gammaClassification/data/raw_data/crab_precuts.hdf5', 0.5) \n",
    "train_XGBC= theta_cut('/home/msackel/Desktop/gammaClassification/data/raw_data/gamma_precuts.hdf5', \n",
    "\t\t\t\t'/home/msackel/Desktop/gammaClassification/data/raw_data/crab_precuts.hdf5', 0.1) \n",
    "xgbc.fit(train_XGBC.drop('label', axis=1), train_XGBC.label)\n",
    "Tree.fit(train_Tree.drop('label', axis=1), train_Tree.label)"
   ]
  },
  {
   "cell_type": "code",
   "execution_count": 23,
   "metadata": {},
   "outputs": [],
   "source": [
    "stack_data = pd.read_pickle('/home/msackel/Desktop/gammaClassification/data/dataSimu')\n",
    "stack_data = pd.concat([stack_data.query('label ==1')[:20000],stack_data.query('label ==0')[:100000]])\n",
    "pred_tree = Tree.predict_proba(stack_data.drop('label', axis=1))[:,1]\n",
    "pred_xgbc = xgbc.predict_proba(stack_data.drop('label', axis=1))[:,1]"
   ]
  },
  {
   "cell_type": "code",
   "execution_count": null,
   "metadata": {},
   "outputs": [],
   "source": [
    "fig = plt.figure()\n",
    "ax1 = fig.add_subplot(211)\n",
    "plt.title('Confidence distribution Tree')\n",
    "plt.hist([pred_tree[stack_data['label']==1], pred_tree[stack_data['label']==0]], stacked=True, normed=True, bins=10, range=[0.7,1])\n",
    "plt.ylim(0,6)\n",
    "\n",
    "ax2 = fig.add_subplot(212)\n",
    "plt.title('Confidence distribution XGBC')\n",
    "plt.hist([pred_xgbc[stack_data['label']==1], pred_xgbc[stack_data['label']==0]], label=['test', 'train'] stacked=True, normed=True, bins=10, range=[0.7,1])\n",
    "plt.ylim(0,6)\n",
    "fig.tight_layout()\n",
    "fig.set_size_inches(5,7)\n",
    "plt.legend()\n",
    "plt.show()"
   ]
  },
  {
   "cell_type": "code",
   "execution_count": 27,
   "metadata": {},
   "outputs": [
    {
     "name": "stderr",
     "output_type": "stream",
     "text": [
      "/home/msackel/.conda/envs/msackel/lib/python3.6/site-packages/tables/group.py:1187: UserWarning: problems loading leaf ``/runs/source``::\n",
      "\n",
      "  variable length strings are not supported yet\n",
      "\n",
      "The leaf will become an ``UnImplemented`` node.\n",
      "  % (self._g_join(childname), exc))\n"
     ]
    },
    {
     "ename": "ValueError",
     "evalue": "No dataset in HDF5 file.",
     "output_type": "error",
     "traceback": [
      "\u001b[0;31m---------------------------------------------------------------------------\u001b[0m",
      "\u001b[0;31mValueError\u001b[0m                                Traceback (most recent call last)",
      "\u001b[0;32m<ipython-input-27-f366a98e6eb8>\u001b[0m in \u001b[0;36m<module>\u001b[0;34m()\u001b[0m\n\u001b[0;32m----> 1\u001b[0;31m \u001b[0mconf_data\u001b[0m \u001b[0;34m=\u001b[0m \u001b[0mpd\u001b[0m\u001b[0;34m.\u001b[0m\u001b[0mread_hdf\u001b[0m\u001b[0;34m(\u001b[0m\u001b[0;34m'/home/msackel/Desktop/gammaClassification/data/raw_data/mrk501_2014_precuts.hdf5'\u001b[0m\u001b[0;34m)\u001b[0m\u001b[0;34m[\u001b[0m\u001b[0mfeature\u001b[0m\u001b[0;34m]\u001b[0m\u001b[0;34m\u001b[0m\u001b[0m\n\u001b[0m",
      "\u001b[0;32m~/.conda/envs/msackel/lib/python3.6/site-packages/pandas/io/pytables.py\u001b[0m in \u001b[0;36mread_hdf\u001b[0;34m(path_or_buf, key, **kwargs)\u001b[0m\n\u001b[1;32m    356\u001b[0m             \u001b[0mgroups\u001b[0m \u001b[0;34m=\u001b[0m \u001b[0mstore\u001b[0m\u001b[0;34m.\u001b[0m\u001b[0mgroups\u001b[0m\u001b[0;34m(\u001b[0m\u001b[0;34m)\u001b[0m\u001b[0;34m\u001b[0m\u001b[0m\n\u001b[1;32m    357\u001b[0m             \u001b[0;32mif\u001b[0m \u001b[0mlen\u001b[0m\u001b[0;34m(\u001b[0m\u001b[0mgroups\u001b[0m\u001b[0;34m)\u001b[0m \u001b[0;34m==\u001b[0m \u001b[0;36m0\u001b[0m\u001b[0;34m:\u001b[0m\u001b[0;34m\u001b[0m\u001b[0m\n\u001b[0;32m--> 358\u001b[0;31m                 \u001b[0;32mraise\u001b[0m \u001b[0mValueError\u001b[0m\u001b[0;34m(\u001b[0m\u001b[0;34m'No dataset in HDF5 file.'\u001b[0m\u001b[0;34m)\u001b[0m\u001b[0;34m\u001b[0m\u001b[0m\n\u001b[0m\u001b[1;32m    359\u001b[0m             \u001b[0mcandidate_only_group\u001b[0m \u001b[0;34m=\u001b[0m \u001b[0mgroups\u001b[0m\u001b[0;34m[\u001b[0m\u001b[0;36m0\u001b[0m\u001b[0;34m]\u001b[0m\u001b[0;34m\u001b[0m\u001b[0m\n\u001b[1;32m    360\u001b[0m \u001b[0;34m\u001b[0m\u001b[0m\n",
      "\u001b[0;31mValueError\u001b[0m: No dataset in HDF5 file."
     ]
    }
   ],
   "source": [
    "conf_data = pd.read_hdf('/home/msackel/Desktop/gammaClassification/data/raw_data/mrk501_2014_precuts.hdf5')[feature]"
   ]
  },
  {
   "cell_type": "code",
   "execution_count": 26,
   "metadata": {},
   "outputs": [
    {
     "ename": "NameError",
     "evalue": "name 'conf_data' is not defined",
     "output_type": "error",
     "traceback": [
      "\u001b[0;31m---------------------------------------------------------------------------\u001b[0m",
      "\u001b[0;31mNameError\u001b[0m                                 Traceback (most recent call last)",
      "\u001b[0;32m<ipython-input-26-edbb9bf4b946>\u001b[0m in \u001b[0;36m<module>\u001b[0;34m()\u001b[0m\n\u001b[0;32m----> 1\u001b[0;31m \u001b[0mpred_tree\u001b[0m \u001b[0;34m=\u001b[0m \u001b[0mTree\u001b[0m\u001b[0;34m.\u001b[0m\u001b[0mpredict_proba\u001b[0m\u001b[0;34m(\u001b[0m\u001b[0mconf_data\u001b[0m\u001b[0;34m.\u001b[0m\u001b[0mdrop\u001b[0m\u001b[0;34m(\u001b[0m\u001b[0;34m'label'\u001b[0m\u001b[0;34m,\u001b[0m \u001b[0maxis\u001b[0m\u001b[0;34m=\u001b[0m\u001b[0;36m1\u001b[0m\u001b[0;34m)\u001b[0m\u001b[0;34m)\u001b[0m\u001b[0;34m[\u001b[0m\u001b[0;34m:\u001b[0m\u001b[0;34m,\u001b[0m\u001b[0;36m1\u001b[0m\u001b[0;34m]\u001b[0m\u001b[0;34m\u001b[0m\u001b[0m\n\u001b[0m\u001b[1;32m      2\u001b[0m \u001b[0mpred_xgbc\u001b[0m \u001b[0;34m=\u001b[0m \u001b[0mxgbc\u001b[0m\u001b[0;34m.\u001b[0m\u001b[0mpredict_proba\u001b[0m\u001b[0;34m(\u001b[0m\u001b[0mconf_data\u001b[0m\u001b[0;34m.\u001b[0m\u001b[0mdrop\u001b[0m\u001b[0;34m(\u001b[0m\u001b[0;34m'label'\u001b[0m\u001b[0;34m,\u001b[0m \u001b[0maxis\u001b[0m\u001b[0;34m=\u001b[0m\u001b[0;36m1\u001b[0m\u001b[0;34m)\u001b[0m\u001b[0;34m)\u001b[0m\u001b[0;34m[\u001b[0m\u001b[0;34m:\u001b[0m\u001b[0;34m,\u001b[0m\u001b[0;36m1\u001b[0m\u001b[0;34m]\u001b[0m\u001b[0;34m\u001b[0m\u001b[0m\n",
      "\u001b[0;31mNameError\u001b[0m: name 'conf_data' is not defined"
     ]
    }
   ],
   "source": [
    "pred_tree = Tree.predict_proba(conf_data.drop('label', axis=1))[:,1]\n",
    "pred_xgbc = xgbc.predict_proba(conf_data.drop('label', axis=1))[:,1]"
   ]
  },
  {
   "cell_type": "code",
   "execution_count": null,
   "metadata": {
    "collapsed": true
   },
   "outputs": [],
   "source": []
  }
 ],
 "metadata": {
  "kernelspec": {
   "display_name": "Python [conda env:msackel]",
   "language": "python",
   "name": "conda-env-msackel-py"
  },
  "language_info": {
   "codemirror_mode": {
    "name": "ipython",
    "version": 3
   },
   "file_extension": ".py",
   "mimetype": "text/x-python",
   "name": "python",
   "nbconvert_exporter": "python",
   "pygments_lexer": "ipython3",
   "version": "3.6.1"
  }
 },
 "nbformat": 4,
 "nbformat_minor": 2
}
