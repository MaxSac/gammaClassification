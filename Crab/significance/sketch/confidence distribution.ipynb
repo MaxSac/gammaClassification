{
 "cells": [
  {
   "cell_type": "code",
   "execution_count": 1,
   "metadata": {
    "collapsed": true
   },
   "outputs": [],
   "source": [
    "from xgboost.sklearn import XGBClassifier\n",
    "from sklearn.ensemble import RandomForestClassifier\n",
    "from fact.io import read_h5py\n",
    "from matplotlib import pyplot as plt\n",
    "plt.style.use('msackel')\n",
    "\n",
    "exec(open('/home/msackel/Desktop/gammaClassification/programm/theta_cut/theta_cut.py').read())\n",
    "exec(open('/home/msackel/Desktop/gammaClassification/programm/model_significance/model_significance.py').read())\n",
    "\n",
    "Tree = RandomForestClassifier(\n",
    "\t\t\t\tmax_depth=15, \n",
    "\t\t\t\tmax_features=7, \n",
    "\t\t\t\tcriterion='entropy', \n",
    "\t\t\t\tn_estimators=100, \n",
    "\t\t\t\tn_jobs=25\n",
    "\t\t\t\t)\n",
    "\n",
    "\n",
    "with open('/home/msackel/Desktop/gammaClassification/config/feature.yaml') as f:\n",
    "\t\tfeature = yaml.load(f)\n",
    "\n",
    "proton_data = pd.read_hdf('/home/msackel/Desktop/gammaClassification/data/raw_data/proton_precuts.hdf5')[feature]\n",
    "proton_data['label']=0\n",
    "\n",
    "crab_data = read_h5py(\n",
    "\t\t\t\t'/home/msackel/Desktop/gammaClassification/data/raw_data/crab_precuts.hdf5',\n",
    "\t\t\t\tkey='events',\n",
    "\t\t\t\tcolumns=list(feature)+['theta_deg']\n",
    "\t\t\t\t)\n",
    "crab_data = crab_data.query('theta_deg >='+str(np.sqrt(0.5)))\n",
    "crab_data['label']=0\n",
    "\n",
    "gamma_data = pd.read_hdf('/home/msackel/Desktop/gammaClassification/data/raw_data/gamma_precuts.hdf5')[feature]\n",
    "gamma_data['label']=1"
   ]
  },
  {
   "cell_type": "code",
   "execution_count": 2,
   "metadata": {
    "collapsed": true
   },
   "outputs": [],
   "source": [
    "train_crab = pd.concat([crab_data.drop('theta_deg', axis=1)[:100000], gamma_data[:100000]])\n",
    "train_mont = pd.concat([proton_data[:100000], gamma_data[:100000]])"
   ]
  },
  {
   "cell_type": "code",
   "execution_count": 21,
   "metadata": {},
   "outputs": [
    {
     "data": {
      "text/plain": [
       "(array([ 7.74736593,  1.90398958,  1.39221025,  1.11305789,  0.91168462,\n",
       "         0.83355037,  0.75683675,  0.67444063,  0.61406416,  0.63643897,\n",
       "         0.69646028,  0.7571919 ,  0.61690541,  0.41446667,  0.37468924,\n",
       "         0.36510004,  0.39067124,  0.42938321,  0.51142417,  0.53557476,\n",
       "         0.63714928,  0.98093998,  1.88694211,  2.16964603,  1.55238546,\n",
       "         0.72629336,  0.19995265,  0.10619155,  0.04261868,  0.02237481]),\n",
       " array([ 0.        ,  0.03333333,  0.06666667,  0.1       ,  0.13333333,\n",
       "         0.16666667,  0.2       ,  0.23333333,  0.26666667,  0.3       ,\n",
       "         0.33333333,  0.36666667,  0.4       ,  0.43333333,  0.46666667,\n",
       "         0.5       ,  0.53333333,  0.56666667,  0.6       ,  0.63333333,\n",
       "         0.66666667,  0.7       ,  0.73333333,  0.76666667,  0.8       ,\n",
       "         0.83333333,  0.86666667,  0.9       ,  0.93333333,  0.96666667,  1.        ]),\n",
       " <a list of 1 Patch objects>)"
      ]
     },
     "execution_count": 21,
     "metadata": {},
     "output_type": "execute_result"
    }
   ],
   "source": [
    "Tree.fit(train_crab.drop('label', axis=1), train_crab.label)\n",
    "pred_tree = Tree.predict_proba(crab_data[feature][100000:])[:,1]\n",
    "pred_Tree = Tree.predict_proba(proton_data[feature][100000:])[:,1]\n",
    "\n",
    "fig = plt.figure()\n",
    "ax1 = fig.add_subplot(221)\n",
    "plt.title('Conf distribution trained on Crab-pro')\n",
    "plt.xlabel('conf')\n",
    "plt.hist(pred_tree, bins=30, histtype='step',normed=True, label='MC')\n",
    "plt.hist(pred_Tree, bins=30, histtype='step',normed=True, label='Measured')"
   ]
  },
  {
   "cell_type": "code",
   "execution_count": 22,
   "metadata": {},
   "outputs": [],
   "source": [
    "Tree.fit(train_mont.drop('label', axis=1), train_mont.label)\n",
    "pred_tree = Tree.predict_proba(crab_data[feature][100000:])[:,1]\n",
    "pred_Tree = Tree.predict_proba(proton_data[feature][100000:])[:,1]\n",
    "\n",
    "ax2 = fig.add_subplot(222, sharey=ax1)\n",
    "plt.title('Conf distribution trained on MC-pro')\n",
    "plt.xlabel('conf')\n",
    "plt.hist(pred_tree, bins=30, histtype='step',normed=True, label='MC')\n",
    "plt.hist(pred_Tree, bins=30, histtype='step',normed=True, label='Measured')\n",
    "plt.setp(ax2.get_yticklabels(), visible=False) # make these tick labels invisible\n",
    "fig.set_size_inches(7,5)\n",
    "fig.tight_layout()\n",
    "plt.legend()\n",
    "plt.savefig('conf.pdf')"
   ]
  },
  {
   "cell_type": "code",
   "execution_count": null,
   "metadata": {
    "collapsed": true
   },
   "outputs": [],
   "source": []
  }
 ],
 "metadata": {
  "kernelspec": {
   "display_name": "Python [conda env:msackel]",
   "language": "python",
   "name": "conda-env-msackel-py"
  },
  "language_info": {
   "codemirror_mode": {
    "name": "ipython",
    "version": 3
   },
   "file_extension": ".py",
   "mimetype": "text/x-python",
   "name": "python",
   "nbconvert_exporter": "python",
   "pygments_lexer": "ipython3",
   "version": "3.6.1"
  }
 },
 "nbformat": 4,
 "nbformat_minor": 2
}
