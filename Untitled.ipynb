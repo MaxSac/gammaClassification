{
 "cells": [
  {
   "cell_type": "code",
   "execution_count": 1,
   "metadata": {
    "collapsed": true
   },
   "outputs": [],
   "source": [
    "import pandas as pd\n",
    "import numpy as np\n",
    "import matplotlib.pyplot as plt\n",
    "from sklearn.ensemble import RandomForestClassifier\n",
    "from sklearn.model_selection import cross_val_score, train_test_split\n",
    "from sklearn.metrics import confusion_matrix\n",
    "from xgboost.sklearn import XGBClassifier   \n",
    "%matplotlib inline"
   ]
  },
  {
   "cell_type": "code",
   "execution_count": 2,
   "metadata": {
    "collapsed": true
   },
   "outputs": [],
   "source": [
    "simuTrain = pd.read_pickle('data/dataSimu')\n",
    "X_train, X_test, y_train, y_test= train_test_split(simuTrain.drop('label', axis=1), simuTrain.label, test_size=0.5)"
   ]
  },
  {
   "cell_type": "code",
   "execution_count": 3,
   "metadata": {},
   "outputs": [
    {
     "data": {
      "text/plain": [
       "Index(['conc_core', 'concentration_one_pixel', 'concentration_two_pixel',\n",
       "       'leakage', 'leakage2', 'size', 'width', 'num_islands',\n",
       "       'num_pixel_in_shower', 'ph_charge_shower_max', 'ph_charge_shower_mean',\n",
       "       'ph_charge_shower_variance', 'label'],\n",
       "      dtype='object')"
      ]
     },
     "execution_count": 3,
     "metadata": {},
     "output_type": "execute_result"
    }
   ],
   "source": [
    "simuTrain.keys()"
   ]
  },
  {
   "cell_type": "code",
   "execution_count": 3,
   "metadata": {},
   "outputs": [
    {
     "data": {
      "text/plain": [
       "XGBClassifier(base_score=0.5, booster='gbtree', colsample_bylevel=1,\n",
       "       colsample_bytree=1, eval_metric='auc', gamma=0.5, learning_rate=0.5,\n",
       "       max_delta_step=0, max_depth=1, min_child_weight=1, missing=None,\n",
       "       n_estimators=100, n_jobs=15, nthread=None,\n",
       "       objective='binary:logistic', random_state=0, reg_alpha=0,\n",
       "       reg_lambda=0.1, scale_pos_weight=1, seed=None, silent=True,\n",
       "       subsample=0.2)"
      ]
     },
     "execution_count": 3,
     "metadata": {},
     "output_type": "execute_result"
    }
   ],
   "source": [
    "\n",
    "xgbc = XGBClassifier(              \n",
    "                max_depth= 1,      \n",
    "                learning_rate= 0.5,\n",
    "                n_estimators= 100, \n",
    "                booster= 'gbtree', \n",
    "                gamma= 0.5,        \n",
    "                n_jobs= 15,        \n",
    "                reg_lambda= 0.1,   \n",
    "                subsample= 0.20,   \n",
    "                eval_metric= 'auc' \n",
    "                )  \n",
    "xgbc.fit(X_train, y_train)"
   ]
  },
  {
   "cell_type": "code",
   "execution_count": 8,
   "metadata": {},
   "outputs": [
    {
     "data": {
      "image/png": "[encoded data removed]",
      "text/plain": [
       "<matplotlib.figure.Figure at 0x7f181292aa90>"
      ]
     },
     "metadata": {},
     "output_type": "display_data"
    }
   ],
   "source": [
    "plt.hist(simuTrain['num_islands'], bins=100);\n",
    "plt.yscale('log')"
   ]
  },
  {
   "cell_type": "code",
   "execution_count": 15,
   "metadata": {
    "collapsed": true
   },
   "outputs": [],
   "source": [
    "TN = []\n",
    "FP = []\n",
    "FN = []\n",
    "TP = []\n",
    "for x in np.linspace(0,1,20):\n",
    "    y_pred = xgbc.predict_proba(X_test)[:,1]\n",
    "    cut = x\n",
    "    y_pred[y_pred>=cut]=1\n",
    "    y_pred[y_pred<cut]=0\n",
    "    [[tn,fp],[fn,tp]] = confusion_matrix(y_test,y_pred)\n",
    "    TN= np.append(TN, tn)\n",
    "    FP= np.append(FP, fp)\n",
    "    FN= np.append(FN, fn)\n",
    "    TP= np.append(TP, tp)\n",
    "#print('tp: %s, fn: %s, fp: %s, tn: %s ' %(tp, fn, fp, tn))\n",
    "#print('N_on: %s, N_off: %s' %(tp+fp, fn+tn))"
   ]
  },
  {
   "cell_type": "code",
   "execution_count": 16,
   "metadata": {},
   "outputs": [
    {
     "name": "stderr",
     "output_type": "stream",
     "text": [
      "/home/msackel/.conda/envs/msackel/lib/python3.6/site-packages/ipykernel/__main__.py:5: RuntimeWarning: invalid value encountered in true_divide\n"
     ]
    },
    {
     "data": {
      "text/plain": [
       "<matplotlib.legend.Legend at 0x7f7fb82458d0>"
      ]
     },
     "execution_count": 16,
     "metadata": {},
     "output_type": "execute_result"
    },
    {
     "data": {
      "image/png": "[encoded data removed]",
      "text/plain": [
       "<matplotlib.figure.Figure at 0x7f7fb82c29e8>"
      ]
     },
     "metadata": {},
     "output_type": "display_data"
    }
   ],
   "source": [
    "FP = FP/max(FP)\n",
    "TP = TP/max(TP)\n",
    "plt.plot(np.linspace(0,1,20), FP, label='fp')\n",
    "plt.plot(np.linspace(0,1,20), TP, label='tp')\n",
    "plt.plot(np.linspace(0,1,20), FP/TP, label='FP/TP')\n",
    "plt.legend()"
   ]
  },
  {
   "cell_type": "code",
   "execution_count": 18,
   "metadata": {},
   "outputs": [
    {
     "data": {
      "text/plain": [
       "<matplotlib.legend.Legend at 0x7f7fb819e080>"
      ]
     },
     "execution_count": 18,
     "metadata": {},
     "output_type": "execute_result"
    },
    {
     "data": {
      "image/png": "[encoded data removed]",
      "text/plain": [
       "<matplotlib.figure.Figure at 0x7f7fb85d89e8>"
      ]
     },
     "metadata": {},
     "output_type": "display_data"
    }
   ],
   "source": [
    "TN = []\n",
    "FP = []\n",
    "FN = []\n",
    "TP = []\n",
    "for x in np.linspace(0,1,20):\n",
    "    y_pred = Tree.predict_proba(X_test)[:,1]\n",
    "    cut = x\n",
    "    y_pred[y_pred>=cut]=1\n",
    "    y_pred[y_pred<cut]=0\n",
    "    [[tn,fp],[fn,tp]] = confusion_matrix(y_test,y_pred)\n",
    "    TN= np.append(TN, tn)\n",
    "    FP= np.append(FP, fp)\n",
    "    FN= np.append(FN, fn)\n",
    "    TP= np.append(TP, tp)\n",
    "\n",
    "FP = FP/max(FP)\n",
    "TP = TP/max(TP)\n",
    "plt.plot(np.linspace(0,1,20), FP, label='fp')\n",
    "plt.plot(np.linspace(0,1,20), TP, label='tp')\n",
    "plt.plot(np.linspace(0,1,20), FP/TP, label='FP/TP')\n",
    "plt.legend()"
   ]
  },
  {
   "cell_type": "code",
   "execution_count": 17,
   "metadata": {},
   "outputs": [
    {
     "data": {
      "text/plain": [
       "RandomForestClassifier(bootstrap=True, class_weight=None, criterion='entropy',\n",
       "            max_depth=15, max_features=7, max_leaf_nodes=None,\n",
       "            min_impurity_split=1e-07, min_samples_leaf=1,\n",
       "            min_samples_split=2, min_weight_fraction_leaf=0.0,\n",
       "            n_estimators=100, n_jobs=25, oob_score=False,\n",
       "            random_state=None, verbose=0, warm_start=False)"
      ]
     },
     "execution_count": 17,
     "metadata": {},
     "output_type": "execute_result"
    }
   ],
   "source": [
    "Tree = RandomForestClassifier(\n",
    "            max_depth=15, \n",
    "            max_features=7, \n",
    "            criterion='entropy', \n",
    "            n_estimators=100, \n",
    "            n_jobs=25\n",
    ")\n",
    "Tree.fit(X_train, y_train)"
   ]
  },
  {
   "cell_type": "code",
   "execution_count": null,
   "metadata": {
    "collapsed": true
   },
   "outputs": [],
   "source": []
  }
 ],
 "metadata": {
  "kernelspec": {
   "display_name": "Python [conda env:msackel]",
   "language": "python",
   "name": "conda-env-msackel-py"
  },
  "language_info": {
   "codemirror_mode": {
    "name": "ipython",
    "version": 3
   },
   "file_extension": ".py",
   "mimetype": "text/x-python",
   "name": "python",
   "nbconvert_exporter": "python",
   "pygments_lexer": "ipython3",
   "version": "3.6.1"
  }
 },
 "nbformat": 4,
 "nbformat_minor": 2
}
