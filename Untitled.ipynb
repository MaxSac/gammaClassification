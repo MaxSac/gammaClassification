{
 "cells": [
  {
   "cell_type": "code",
   "execution_count": 3,
   "metadata": {},
   "outputs": [
    {
     "data": {
      "text/plain": [
       "33.115429134492629"
      ]
     },
     "execution_count": 3,
     "metadata": {},
     "output_type": "execute_result"
    }
   ],
   "source": [
    "import pandas as pd\n",
    "import numpy as np\n",
    "from fact.analysis import li_ma_significance, split_on_off_source_independent\n",
    "\n",
    "'''\n",
    "params: fitted estimator\n",
    "'''\n",
    "\n",
    "def model_significance(estimator, data):\n",
    "\t\tdata['gamma_prediction'] = Tree.predict_proba(data[feature])[:,1]\n",
    "\t\tsignificance = []\n",
    "\t\tfor threshold in np.linspace(0.01, 0.99, 99):\n",
    "\t\t\t\ton_data, off_data = split_on_off_source_independent(hadron_data.query('gamma_prediction >'+threshold.astype(str)),\n",
    "\t\t\t\t\t\t\t\ttheta2_cut=0.03)\n",
    "\t\t\t\tsignificance.append(li_ma_significance(len(on_data), len(off_data), 0.2))\n",
    "\t\treturn max(significance)\n",
    "\n",
    "from fact.io import read_h5py\n",
    "from sklearn.ensemble import RandomForestClassifier\n",
    "feature = ['conc_core',\n",
    "\t\t\t\t'concentration_one_pixel',    \n",
    "\t\t\t\t'concentration_two_pixel',\n",
    "\t\t\t\t'leakage', \n",
    "\t\t\t\t'leakage2', \n",
    "\t\t\t\t'size', \n",
    "\t\t\t\t'width', \n",
    "\t\t\t\t'num_islands', \n",
    "\t\t\t\t'num_pixel_in_shower', \n",
    "\t\t\t\t'ph_charge_shower_max',\n",
    "\t\t\t\t'ph_charge_shower_mean',\n",
    "\t\t\t\t'ph_charge_shower_min',\n",
    "\t\t\t\t'ph_charge_shower_variance']\n",
    "\n",
    "hadron_data = read_h5py(\n",
    "\t\t\t\t'/home/msackel/Desktop/gammaClassification/data/raw_data/crab_precuts.hdf5',\n",
    "\t\t\t\tkey='events',\n",
    "\t\t\t\tcolumns=list(feature)+ [\n",
    "\t\t\t\t\t\t'theta_deg',\n",
    "\t\t\t\t\t\t'theta_deg_off_1',\n",
    "\t\t\t\t\t\t'theta_deg_off_2',\n",
    "\t\t\t\t\t\t'theta_deg_off_3',\n",
    "\t\t\t\t\t\t'theta_deg_off_4',\n",
    "\t\t\t\t\t\t'theta_deg_off_5',\n",
    "\t\t\t\t\t\t]\n",
    "\t\t\t\t)\n",
    "\n",
    "crab = pd.read_pickle('/home/msackel/Desktop/gammaClassification/data/complete_Datasets/dataCrab')\n",
    "\n",
    "Tree = RandomForestClassifier().fit(crab.drop('label', axis=1), crab.label)\n",
    "model_significance(Tree, hadron_data)"
   ]
  },
  {
   "cell_type": "code",
   "execution_count": null,
   "metadata": {
    "collapsed": true
   },
   "outputs": [],
   "source": []
  }
 ],
 "metadata": {
  "kernelspec": {
   "display_name": "Python [conda env:msackel]",
   "language": "python",
   "name": "conda-env-msackel-py"
  },
  "language_info": {
   "codemirror_mode": {
    "name": "ipython",
    "version": 3
   },
   "file_extension": ".py",
   "mimetype": "text/x-python",
   "name": "python",
   "nbconvert_exporter": "python",
   "pygments_lexer": "ipython3",
   "version": "3.6.1"
  }
 },
 "nbformat": 4,
 "nbformat_minor": 2
}
