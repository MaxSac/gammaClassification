{
 "cells": [
  {
   "cell_type": "code",
   "execution_count": 36,
   "metadata": {
    "collapsed": true
   },
   "outputs": [],
   "source": [
    "import pandas as pd\n",
    "import numpy as np\n",
    "import matplotlib.pyplot as plt\n",
    "from sklearn import metrics\n",
    "import yaml\n",
    "from sklearn.ensemble import RandomForestClassifier\n",
    "from sklearn.model_selection import train_test_split\n",
    "%matplotlib inline\n",
    "plt.style.use('msackel')"
   ]
  },
  {
   "cell_type": "code",
   "execution_count": 37,
   "metadata": {},
   "outputs": [],
   "source": [
    "with open('/home/msackel/Desktop/gammaClassification/config/feature.yaml') as f:\n",
    "        feature = yaml.load(f)\n",
    "feature.append('theta_deg')"
   ]
  },
  {
   "cell_type": "code",
   "execution_count": 38,
   "metadata": {},
   "outputs": [],
   "source": [
    "gammas = pd.read_hdf('/home/msackel/Desktop/gammaClassification/data/raw_data/gamma_precuts.hdf5')[feature]\n",
    "proton = pd.read_hdf('/home/msackel/Desktop/gammaClassification/data/raw_data/proton_precuts.hdf5')[feature]\n",
    "\n",
    "gammas['label'] = 1\n",
    "proton['label'] = 0\n",
    "\n",
    "data = pd.concat([gammas, proton])\n",
    "\n",
    "X_train, X_test, y_train, y_test = train_test_split(data.drop('label', axis=1), data.label)"
   ]
  },
  {
   "cell_type": "code",
   "execution_count": 39,
   "metadata": {},
   "outputs": [
    {
     "data": {
      "text/plain": [
       "RandomForestClassifier(bootstrap=True, class_weight=None, criterion='gini',\n",
       "            max_depth=15, max_features='auto', max_leaf_nodes=None,\n",
       "            min_impurity_split=1e-07, min_samples_leaf=1,\n",
       "            min_samples_split=2, min_weight_fraction_leaf=0.0,\n",
       "            n_estimators=100, n_jobs=15, oob_score=False,\n",
       "            random_state=None, verbose=0, warm_start=False)"
      ]
     },
     "execution_count": 39,
     "metadata": {},
     "output_type": "execute_result"
    }
   ],
   "source": [
    "Tree_ohne_theta = RandomForestClassifier(\n",
    "    n_estimators=100, \n",
    "    n_jobs=15, \n",
    "    max_depth=15, \n",
    "    bootstrap=True)\n",
    "\n",
    "Tree_mit_theta = RandomForestClassifier(\n",
    "    n_estimators=100, \n",
    "    n_jobs=15, \n",
    "    max_depth=15, \n",
    "    bootstrap=True)\n",
    "\n",
    "Tree_ohne_theta.fit(X_train.drop('theta_deg', axis=1), y_train)\n",
    "Tree_mit_theta.fit(X_train, y_train)"
   ]
  },
  {
   "cell_type": "code",
   "execution_count": 44,
   "metadata": {
    "collapsed": true
   },
   "outputs": [],
   "source": [
    "pred = Tree_ohne_theta.predict_proba(X_test.drop('theta_deg', axis=1))[:,1]\n",
    "fpr, tpr, threshold = metrics.roc_curve(y_test, pred)\n",
    "\n",
    "Pred = Tree_mit_theta.predict_proba(X_test)[:,1]\n",
    "Fpr, Tpr, Threshold = metrics.roc_curve(y_test, Pred)"
   ]
  },
  {
   "cell_type": "code",
   "execution_count": 60,
   "metadata": {},
   "outputs": [
    {
     "data": {
      "text/plain": [
       "<matplotlib.text.Text at 0x7fb173c83668>"
      ]
     },
     "execution_count": 60,
     "metadata": {},
     "output_type": "execute_result"
    },
    {
     "name": "stderr",
     "output_type": "stream",
     "text": [
      "/home/msackel/.conda/envs/msackel/lib/python3.6/site-packages/matplotlib/figure.py:1743: UserWarning: This figure includes Axes that are not compatible with tight_layout, so its results might be incorrect.\n",
      "  warnings.warn(\"This figure includes Axes that are not \"\n"
     ]
    },
    {
     "data": {
      "image/png": "[encoded data removed]",
      "text/plain": [
       "<matplotlib.figure.Figure at 0x7fb174b21588>"
      ]
     },
     "metadata": {},
     "output_type": "display_data"
    }
   ],
   "source": [
    "fig = plt.figure(figsize=(5,4))\n",
    "plt.plot(fpr,tpr, label=r'ohne $\\theta$')\n",
    "plt.plot(Fpr,Tpr, label=r'mit $\\theta$')\n",
    "plt.plot(np.linspace(0,1,10), np.linspace(0,1,10), '-.', label=r'Zufall')\n",
    "plt.legend()\n",
    "plt.xlabel('false positiv rate')\n",
    "plt.ylabel('true positiv rate')"
   ]
  },
  {
   "cell_type": "code",
   "execution_count": null,
   "metadata": {
    "collapsed": true
   },
   "outputs": [],
   "source": []
  }
 ],
 "metadata": {
  "kernelspec": {
   "display_name": "Python [conda env:msackel]",
   "language": "python",
   "name": "conda-env-msackel-py"
  },
  "language_info": {
   "codemirror_mode": {
    "name": "ipython",
    "version": 3
   },
   "file_extension": ".py",
   "mimetype": "text/x-python",
   "name": "python",
   "nbconvert_exporter": "python",
   "pygments_lexer": "ipython3",
   "version": "3.6.1"
  }
 },
 "nbformat": 4,
 "nbformat_minor": 2
}
