{
 "cells": [
  {
   "cell_type": "code",
   "execution_count": 1,
   "metadata": {},
   "outputs": [],
   "source": [
    "import pandas as pd\n",
    "import numpy as np\n",
    "import matplotlib.pyplot as plt\n",
    "from sklearn.ensemble import RandomForestClassifier\n",
    "from xgboost.sklearn import XGBClassifier\n",
    "%matplotlib inline\n",
    "plt.style.use('ggplot')"
   ]
  },
  {
   "cell_type": "code",
   "execution_count": 2,
   "metadata": {},
   "outputs": [
    {
     "name": "stderr",
     "output_type": "stream",
     "text": [
      "/home/msackel/.conda/envs/msackel/lib/python3.6/site-packages/jupyter_client/jsonutil.py:67: DeprecationWarning: Interpreting naive datetime as local 2017-07-17 10:25:22.912476. Please add timezone info to timestamps.\n",
      "  new_obj[k] = extract_dates(v)\n"
     ]
    }
   ],
   "source": [
    "from fact.io import read_h5py\n",
    "from fact.analysis import li_ma_significance, split_on_off_source_independent"
   ]
  },
  {
   "cell_type": "code",
   "execution_count": 3,
   "metadata": {},
   "outputs": [
    {
     "name": "stderr",
     "output_type": "stream",
     "text": [
      "/home/msackel/.conda/envs/msackel/lib/python3.6/site-packages/jupyter_client/jsonutil.py:67: DeprecationWarning: Interpreting naive datetime as local 2017-07-17 10:25:24.058922. Please add timezone info to timestamps.\n",
      "  new_obj[k] = extract_dates(v)\n"
     ]
    }
   ],
   "source": [
    "feature = ['conc_core',\n",
    "           'concentration_one_pixel',    \n",
    "           'concentration_two_pixel',\n",
    "           'leakage', \n",
    "           'leakage2', \n",
    "           'size', \n",
    "           'width', \n",
    "           'num_islands', \n",
    "           'num_pixel_in_shower', \n",
    "           'ph_charge_shower_max',\n",
    "           'ph_charge_shower_mean',\n",
    "           'ph_charge_shower_min',\n",
    "           'ph_charge_shower_variance']\n",
    "Feature = [\n",
    "   'size',\n",
    "   'length',\n",
    "   'width',\n",
    "   'num_islands',\n",
    "   'leakage',\n",
    "   'm3l',\n",
    "   'm3t',\n",
    "   'disp',\n",
    "   'timespread',\n",
    "   'arrival_time_mean',\n",
    "   'conc_core'\n",
    "]"
   ]
  },
  {
   "cell_type": "code",
   "execution_count": 4,
   "metadata": {},
   "outputs": [
    {
     "name": "stderr",
     "output_type": "stream",
     "text": [
      "/home/msackel/.conda/envs/msackel/lib/python3.6/site-packages/jupyter_client/jsonutil.py:67: DeprecationWarning: Interpreting naive datetime as local 2017-07-17 10:25:24.842346. Please add timezone info to timestamps.\n",
      "  new_obj[k] = extract_dates(v)\n"
     ]
    }
   ],
   "source": [
    "gamma = pd.read_hdf(\n",
    "    '/home/msackel/Desktop/gammaClassification/data/raw_data/gamma_precuts.hdf5',\n",
    "    key='events'\n",
    ")"
   ]
  },
  {
   "cell_type": "code",
   "execution_count": 5,
   "metadata": {},
   "outputs": [
    {
     "name": "stderr",
     "output_type": "stream",
     "text": [
      "/home/msackel/.conda/envs/msackel/lib/python3.6/site-packages/jupyter_client/jsonutil.py:67: DeprecationWarning: Interpreting naive datetime as local 2017-07-17 10:25:25.519503. Please add timezone info to timestamps.\n",
      "  new_obj[k] = extract_dates(v)\n"
     ]
    }
   ],
   "source": [
    "hadron_data = read_h5py(\n",
    "    '/home/msackel/Desktop/gammaClassification/data/raw_data/crab_precuts.hdf5',\n",
    "    key='events',\n",
    "    columns=list(feature) + [\n",
    "        'theta_deg',\n",
    "        'theta_deg_off_1',\n",
    "        'theta_deg_off_2',\n",
    "        'theta_deg_off_3',\n",
    "        'theta_deg_off_4',\n",
    "        'theta_deg_off_5',\n",
    "    ]\n",
    ")"
   ]
  },
  {
   "cell_type": "code",
   "execution_count": 6,
   "metadata": {},
   "outputs": [
    {
     "name": "stderr",
     "output_type": "stream",
     "text": [
      "/home/msackel/.conda/envs/msackel/lib/python3.6/site-packages/jupyter_client/jsonutil.py:67: DeprecationWarning: Interpreting naive datetime as local 2017-07-17 10:25:26.167162. Please add timezone info to timestamps.\n",
      "  new_obj[k] = extract_dates(v)\n",
      "/home/msackel/.conda/envs/msackel/lib/python3.6/site-packages/ipykernel/__main__.py:2: SettingWithCopyWarning: \n",
      "A value is trying to be set on a copy of a slice from a DataFrame.\n",
      "Try using .loc[row_indexer,col_indexer] = value instead\n",
      "\n",
      "See the caveats in the documentation: http://pandas.pydata.org/pandas-docs/stable/indexing.html#indexing-view-versus-copy\n",
      "  from ipykernel import kernelapp as app\n"
     ]
    }
   ],
   "source": [
    "hadron = hadron_data[hadron_data['theta_deg']**2 >= 0.05]\n",
    "hadron['label'] = 0\n",
    "gamma['label'] = 1"
   ]
  },
  {
   "cell_type": "code",
   "execution_count": 7,
   "metadata": {},
   "outputs": [
    {
     "name": "stderr",
     "output_type": "stream",
     "text": [
      "/home/msackel/.conda/envs/msackel/lib/python3.6/site-packages/jupyter_client/jsonutil.py:67: DeprecationWarning: Interpreting naive datetime as local 2017-07-17 10:25:26.755824. Please add timezone info to timestamps.\n",
      "  new_obj[k] = extract_dates(v)\n"
     ]
    },
    {
     "data": {
      "image/png": "[encoded data removed]",
      "text/plain": [
       "<matplotlib.figure.Figure at 0x7f5e0ecc7588>"
      ]
     },
     "metadata": {},
     "output_type": "display_data"
    }
   ],
   "source": [
    "plt.hist(hadron.theta_deg**2, range=[0.25,3], bins=100);\n",
    "plt.hist(gamma.theta_deg**2, range=[0.25,3], bins=100);"
   ]
  },
  {
   "cell_type": "code",
   "execution_count": 8,
   "metadata": {},
   "outputs": [
    {
     "name": "stderr",
     "output_type": "stream",
     "text": [
      "/home/msackel/.conda/envs/msackel/lib/python3.6/site-packages/jupyter_client/jsonutil.py:67: DeprecationWarning: Interpreting naive datetime as local 2017-07-17 10:25:27.591702. Please add timezone info to timestamps.\n",
      "  new_obj[k] = extract_dates(v)\n"
     ]
    }
   ],
   "source": [
    "Testset = pd.concat([hadron[feature + ['label', 'theta_deg']][:len(gamma)], gamma[feature + ['label', 'theta_deg']][:len(gamma)]])"
   ]
  },
  {
   "cell_type": "code",
   "execution_count": 9,
   "metadata": {},
   "outputs": [
    {
     "name": "stderr",
     "output_type": "stream",
     "text": [
      "/home/msackel/.conda/envs/msackel/lib/python3.6/site-packages/jupyter_client/jsonutil.py:67: DeprecationWarning: Interpreting naive datetime as local 2017-07-17 10:25:28.080776. Please add timezone info to timestamps.\n",
      "  new_obj[k] = extract_dates(v)\n"
     ]
    }
   ],
   "source": [
    "dataSimu = pd.read_pickle('data/complete_Datasets/dataSimu')"
   ]
  },
  {
   "cell_type": "markdown",
   "metadata": {},
   "source": [
    "# Tree Classifier "
   ]
  },
  {
   "cell_type": "code",
   "execution_count": 10,
   "metadata": {},
   "outputs": [
    {
     "name": "stderr",
     "output_type": "stream",
     "text": [
      "/home/msackel/.conda/envs/msackel/lib/python3.6/site-packages/jupyter_client/jsonutil.py:67: DeprecationWarning: Interpreting naive datetime as local 2017-07-17 10:25:32.117480. Please add timezone info to timestamps.\n",
      "  new_obj[k] = extract_dates(v)\n"
     ]
    },
    {
     "data": {
      "text/plain": [
       "RandomForestClassifier(bootstrap=True, class_weight=None, criterion='entropy',\n",
       "            max_depth=15, max_features=7, max_leaf_nodes=None,\n",
       "            min_impurity_split=1e-07, min_samples_leaf=1,\n",
       "            min_samples_split=2, min_weight_fraction_leaf=0.0,\n",
       "            n_estimators=100, n_jobs=15, oob_score=False,\n",
       "            random_state=None, verbose=0, warm_start=False)"
      ]
     },
     "execution_count": 10,
     "metadata": {},
     "output_type": "execute_result"
    }
   ],
   "source": [
    "from sklearn.ensemble import RandomForestClassifier\n",
    "\n",
    "Tree = RandomForestClassifier(max_depth=15, max_features=7 ,criterion='entropy', n_estimators=100, n_jobs=15)\n",
    "Tree.fit(Testset.drop(['label', 'theta_deg'], axis=1), Testset['label'])\n",
    "#Tree.fit(dataSimu.drop('label', axis=1), dataSimu['label'])"
   ]
  },
  {
   "cell_type": "code",
   "execution_count": 11,
   "metadata": {
    "collapsed": true
   },
   "outputs": [],
   "source": [
    "hadron_data['gamma_prediction'] =Tree.predict_proba(hadron_data[feature])[:, 1]"
   ]
  },
  {
   "cell_type": "markdown",
   "metadata": {},
   "source": [
    "Confidence verteilung der Sigma Cuts"
   ]
  },
  {
   "cell_type": "code",
   "execution_count": 12,
   "metadata": {},
   "outputs": [
    {
     "data": {
      "image/png": "[encoded data removed]",
      "text/plain": [
       "<matplotlib.figure.Figure at 0x7f5db3b96c88>"
      ]
     },
     "metadata": {},
     "output_type": "display_data"
    }
   ],
   "source": [
    "significance = []\n",
    "for threshold in np.linspace(0.01, 0.99, 99):\n",
    "    on_data, off_data = split_on_off_source_independent(hadron_data.query('gamma_prediction >'+threshold.astype(str)), theta2_cut=0.03)\n",
    "    significance.append(li_ma_significance(len(on_data), len(off_data), 0.2))\n",
    "plt.plot(np.linspace(0.01, 0.99, 99 ), significance)\n",
    "plt.xlabel('threshold')\n",
    "plt.ylabel('significance');"
   ]
  },
  {
   "cell_type": "code",
   "execution_count": 14,
   "metadata": {},
   "outputs": [
    {
     "data": {
      "text/plain": [
       "33.481664520448867"
      ]
     },
     "execution_count": 14,
     "metadata": {},
     "output_type": "execute_result"
    }
   ],
   "source": [
    "max(significance)"
   ]
  },
  {
   "cell_type": "markdown",
   "metadata": {},
   "source": [
    "Useless visualisation"
   ]
  },
  {
   "cell_type": "code",
   "execution_count": 14,
   "metadata": {},
   "outputs": [
    {
     "data": {
      "image/png": "[encoded data removed]",
      "text/plain": [
       "<matplotlib.figure.Figure at 0x7f1bc1ade198>"
      ]
     },
     "metadata": {},
     "output_type": "display_data"
    }
   ],
   "source": [
    "selected = hadron_data.query('gamma_prediction >= 0.77')\n",
    "theta_on = selected.theta_deg\n",
    "    theta_off = pd.concat([selected['theta_deg_off_' + str(i)] for i in range(1, 6)])\n",
    "plt.hist(theta_on**2, range=[0, 0.3], bins=100, histtype='step', label='On')\n",
    "plt.hist(theta_off**2, range=[0, 0.3], bins=100, histtype='step', label='Off', weights=np.full(len(theta_off),  0.2))\n",
    "None"
   ]
  },
  {
   "cell_type": "markdown",
   "metadata": {
    "collapsed": true
   },
   "source": [
    "# XGBC \n",
    "## Depth 1"
   ]
  },
  {
   "cell_type": "code",
   "execution_count": 54,
   "metadata": {
    "collapsed": true
   },
   "outputs": [],
   "source": [
    "parameters1 = {\n",
    "    'max_depth': 1,\n",
    "    'learning_rate':0.5,\n",
    "    'n_estimators':100,\n",
    "    'booster': 'gbtree', \n",
    "    'gamma':0.5,\n",
    "    'n_jobs': 25,\n",
    "    'reg_lambda': 0.1,\n",
    "    'subsample': 0.20,\n",
    "    'eval_metric': 'auc'\n",
    "}\n",
    "xgbc1 = XGBClassifier(**parameters1)"
   ]
  },
  {
   "cell_type": "code",
   "execution_count": 55,
   "metadata": {},
   "outputs": [
    {
     "data": {
      "text/plain": [
       "XGBClassifier(base_score=0.5, booster='gbtree', colsample_bylevel=1,\n",
       "       colsample_bytree=1, eval_metric='auc', gamma=0.5, learning_rate=0.5,\n",
       "       max_delta_step=0, max_depth=1, min_child_weight=1, missing=None,\n",
       "       n_estimators=100, n_jobs=25, nthread=None,\n",
       "       objective='binary:logistic', random_state=0, reg_alpha=0,\n",
       "       reg_lambda=0.1, scale_pos_weight=1, seed=None, silent=True,\n",
       "       subsample=0.2)"
      ]
     },
     "execution_count": 55,
     "metadata": {},
     "output_type": "execute_result"
    }
   ],
   "source": [
    "xgbc1.fit(Testset.drop(['label', 'theta_deg'], axis=1), Testset['label'])\n",
    "#xgbc1.fit(dataSimu.drop('label', axis=1), dataSimu['label'])"
   ]
  },
  {
   "cell_type": "code",
   "execution_count": 56,
   "metadata": {},
   "outputs": [
    {
     "data": {
      "image/png": "[encoded data removed]",
      "text/plain": [
       "<matplotlib.figure.Figure at 0x7f5d256650b8>"
      ]
     },
     "metadata": {},
     "output_type": "display_data"
    }
   ],
   "source": [
    "hadron_data['gamma_prediction'] = xgbc1.predict_proba(hadron_data[feature])[:, 1]\n",
    "significance = []\n",
    "for threshold in np.linspace(0.01, 0.99, 99):\n",
    "    on_data, off_data = split_on_off_source_independent(hadron_data.query('gamma_prediction >'+threshold.astype(str)), theta2_cut=0.03)\n",
    "    significance.append(li_ma_significance(len(on_data), len(off_data), 0.2))\n",
    "plt.plot(np.linspace(0.01, 0.99, 99), significance)\n",
    "plt.xlabel('threshold')\n",
    "plt.ylabel('significance');"
   ]
  },
  {
   "cell_type": "code",
   "execution_count": 57,
   "metadata": {},
   "outputs": [
    {
     "data": {
      "text/plain": [
       "37.959208292471828"
      ]
     },
     "execution_count": 57,
     "metadata": {},
     "output_type": "execute_result"
    }
   ],
   "source": [
    "max(significance)"
   ]
  },
  {
   "cell_type": "code",
   "execution_count": 58,
   "metadata": {},
   "outputs": [
    {
     "data": {
      "image/png": "[encoded data removed]",
      "text/plain": [
       "<matplotlib.figure.Figure at 0x7f5d25b574a8>"
      ]
     },
     "metadata": {},
     "output_type": "display_data"
    }
   ],
   "source": [
    "selected = hadron_data.query('gamma_prediction >= 0.84')\n",
    "theta_on = selected.theta_deg\n",
    "theta_off = pd.concat([selected['theta_deg_off_' + str(i)] for i in range(1, 6)])\n",
    "plt.hist(theta_on**2, range=[0, 0.3], bins=100, histtype='step', label='On')\n",
    "plt.hist(theta_off**2, range=[0, 0.3], bins=100, histtype='step', label='Off', weights=np.full(len(theta_off),  0.2))\n",
    "None"
   ]
  },
  {
   "cell_type": "markdown",
   "metadata": {
    "collapsed": true
   },
   "source": [
    "## Depth 2"
   ]
  },
  {
   "cell_type": "code",
   "execution_count": 59,
   "metadata": {},
   "outputs": [
    {
     "data": {
      "text/plain": [
       "XGBClassifier(base_score=0.5, booster='gbtree', colsample_bylevel=1,\n",
       "       colsample_bytree=1, eval_metric='auc', gamma=0.5, learning_rate=0.5,\n",
       "       max_delta_step=0, max_depth=2, min_child_weight=1, missing=None,\n",
       "       n_estimators=30, n_jobs=25, nthread=None,\n",
       "       objective='binary:logistic', random_state=0, reg_alpha=0,\n",
       "       reg_lambda=0.1, scale_pos_weight=1, seed=None, silent=False,\n",
       "       subsample=0.2)"
      ]
     },
     "execution_count": 59,
     "metadata": {},
     "output_type": "execute_result"
    }
   ],
   "source": [
    "parameters2 = {\n",
    "    'max_depth': 2,\n",
    "    'learning_rate':0.5,\n",
    "    'n_estimators':30,\n",
    "    'booster': 'gbtree', \n",
    "    'gamma':0.5,\n",
    "    'n_jobs': 25,\n",
    "    'reg_lambda': 0.1,\n",
    "    'subsample': 0.20,\n",
    "    'eval_metric': 'auc',\n",
    "    'silent':False\n",
    "}\n",
    "#del xgbc2\n",
    "xgbc2 = XGBClassifier(**parameters2)\n",
    "xgbc2.fit(Testset.drop(['label', 'theta_deg'], axis=1), Testset['label'])\n",
    "#xgbc.fit(dataSimu.drop('label', axis=1), dataSimu['label'])"
   ]
  },
  {
   "cell_type": "code",
   "execution_count": 60,
   "metadata": {},
   "outputs": [
    {
     "data": {
      "image/png": "[encoded data removed]",
      "text/plain": [
       "<matplotlib.figure.Figure at 0x7f5d263411d0>"
      ]
     },
     "metadata": {},
     "output_type": "display_data"
    }
   ],
   "source": [
    "hadron_data['gamma_prediction'] = xgbc2.predict_proba(hadron_data[feature])[:, 1]\n",
    "significance = []\n",
    "for threshold in np.linspace(0.01, 0.99, 99):\n",
    "    on_data, off_data = split_on_off_source_independent(hadron_data.query('gamma_prediction >'+threshold.astype(str)), theta2_cut=0.03)\n",
    "    significance.append(li_ma_significance(len(on_data), len(off_data), 0.2))\n",
    "plt.plot(np.linspace(0.01, 0.99, 99), significance)\n",
    "plt.xlabel('threshold')\n",
    "plt.ylabel('significance');"
   ]
  },
  {
   "cell_type": "code",
   "execution_count": 61,
   "metadata": {},
   "outputs": [
    {
     "data": {
      "text/plain": [
       "35.634225073554852"
      ]
     },
     "execution_count": 61,
     "metadata": {},
     "output_type": "execute_result"
    }
   ],
   "source": [
    "max(significance)"
   ]
  },
  {
   "cell_type": "code",
   "execution_count": 62,
   "metadata": {},
   "outputs": [
    {
     "ename": "AttributeError",
     "evalue": "'XGBClassifier' object has no attribute 'eval_results'",
     "output_type": "error",
     "traceback": [
      "\u001b[0;31m---------------------------------------------------------------------------\u001b[0m",
      "\u001b[0;31mAttributeError\u001b[0m                            Traceback (most recent call last)",
      "\u001b[0;32m<ipython-input-62-8511a9fd61ce>\u001b[0m in \u001b[0;36m<module>\u001b[0;34m()\u001b[0m\n\u001b[0;32m----> 1\u001b[0;31m \u001b[0mxgbc2\u001b[0m\u001b[0;34m.\u001b[0m\u001b[0meval_results\u001b[0m\u001b[0;34m(\u001b[0m\u001b[0;34m)\u001b[0m\u001b[0;34m\u001b[0m\u001b[0m\n\u001b[0m",
      "\u001b[0;31mAttributeError\u001b[0m: 'XGBClassifier' object has no attribute 'eval_results'"
     ]
    }
   ],
   "source": [
    "xgbc2.eval_results()"
   ]
  },
  {
   "cell_type": "code",
   "execution_count": 2,
   "metadata": {},
   "outputs": [
    {
     "data": {
      "text/plain": [
       "5"
      ]
     },
     "execution_count": 2,
     "metadata": {},
     "output_type": "execute_result"
    }
   ],
   "source": [
    "min([5 , 6])"
   ]
  },
  {
   "cell_type": "code",
   "execution_count": null,
   "metadata": {
    "collapsed": true
   },
   "outputs": [],
   "source": []
  }
 ],
 "metadata": {
  "kernelspec": {
   "display_name": "Python [conda env:msackel]",
   "language": "python",
   "name": "conda-env-msackel-py"
  },
  "language_info": {
   "codemirror_mode": {
    "name": "ipython",
    "version": 3
   },
   "file_extension": ".py",
   "mimetype": "text/x-python",
   "name": "python",
   "nbconvert_exporter": "python",
   "pygments_lexer": "ipython3",
   "version": "3.6.1"
  }
 },
 "nbformat": 4,
 "nbformat_minor": 2
}
