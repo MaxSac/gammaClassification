{
 "cells": [
  {
   "cell_type": "code",
   "execution_count": 7,
   "metadata": {
    "collapsed": true
   },
   "outputs": [],
   "source": [
    "from sklearn.ensemble import RandomForestClassifier\n",
    "from sklearn.model_selection import train_test_split, cross_val_score\n",
    "from fact.io import read_h5py\n",
    "exec(open('/home/msackel/Desktop/gammaClassification/programm/theta_cut/theta_cut.py').read())\n",
    "exec(open('/home/msackel/Desktop/gammaClassification/programm/model_significance/model_significance.py').read())\n",
    "plt.style.use('msackel')\n",
    "%matplotlib inline\n",
    "\n",
    "with open('/home/msackel/Desktop/gammaClassification/config/feature.yaml') as f:\n",
    "    feature = yaml.load(f)\n",
    "\n",
    "mc_hadron= pd.read_hdf('/home/msackel/Desktop/gammaClassification/data/raw_data/proton_precuts.hdf5')[feature+['theta_deg']]\n",
    "mc_gammas= pd.read_hdf('/home/msackel/Desktop/gammaClassification/data/raw_data/gamma_precuts.hdf5')[feature+['theta_deg']]\n",
    "mc_hadron['label'] = 0\n",
    "mc_gammas['label'] = 1"
   ]
  },
  {
   "cell_type": "code",
   "execution_count": 8,
   "metadata": {
    "collapsed": true
   },
   "outputs": [],
   "source": [
    "eval_data = read_h5py(\n",
    "\t\t\t\t'/home/msackel/Desktop/gammaClassification/data/raw_data/crab_precuts.hdf5',\n",
    "\t\t\t\tkey='events',\n",
    "\t\t\t\tcolumns=list(feature) + [\n",
    "\t\t\t\t\t\t'theta_deg',\n",
    "\t\t\t\t\t\t'theta_deg_off_1',\n",
    "\t\t\t\t\t\t'theta_deg_off_2',\n",
    "\t\t\t\t\t\t'theta_deg_off_3',\n",
    "\t\t\t\t\t\t'theta_deg_off_4',\n",
    "\t\t\t\t\t\t'theta_deg_off_5',\n",
    "\t\t\t\t\t\t]\n",
    "\t\t\t\t)"
   ]
  },
  {
   "cell_type": "code",
   "execution_count": 3,
   "metadata": {},
   "outputs": [
    {
     "data": {
      "text/plain": [
       "<matplotlib.legend.Legend at 0x7f8989af12b0>"
      ]
     },
     "execution_count": 3,
     "metadata": {},
     "output_type": "execute_result"
    },
    {
     "data": {
      "image/png": "[encoded data removed]",
      "text/plain": [
       "<matplotlib.figure.Figure at 0x7f89841eee10>"
      ]
     },
     "metadata": {},
     "output_type": "display_data"
    }
   ],
   "source": [
    "plt.hist(mc_hadron['theta_deg']**2,range=[0,4], bins=50, histtype='step', label='hadronen')\n",
    "plt.hist(mc_gammas['theta_deg']**2,range=[0,4], bins=50, histtype='step', label='gamma')\n",
    "plt.yscale('log')\n",
    "plt.legend()"
   ]
  },
  {
   "cell_type": "code",
   "execution_count": 4,
   "metadata": {
    "collapsed": true
   },
   "outputs": [],
   "source": [
    "corr_theta_pre = np.array([[],[]])\n",
    "Tree = RandomForestClassifier(\n",
    "    max_depth=15, \n",
    "    max_features=7, \n",
    "    criterion='entropy', \n",
    "    n_estimators=150, \n",
    "    n_jobs=30)\n",
    "for x in np.linspace(0,6,20):\n",
    "    data_cut_hadron = mc_hadron.query('theta_deg >= '+str(np.sqrt(x)))\n",
    "    data = pd.concat([mc_gammas[:100000], data_cut_hadron[:100000]])\n",
    "    Tree.fit(data[feature], data.label)\n",
    "    eval_data['pred_tree'] = Tree.predict_proba(eval_data[feature])[:,1]\n",
    "    pred_Tree = np.array([])\n",
    "    for cut in np.linspace(0.0,1,100):\n",
    "        on_data, off_data = split_on_off_source_independent(eval_data.query('pred_tree>= '+str(cut)), theta2_cut=0.03) \n",
    "        pred_Tree = np.append(pred_Tree, li_ma_significance(len(on_data), len(off_data), 0.2))\n",
    "    corr_theta_pre= np.append(corr_theta_pre, [[x],[max(pred_Tree)]], axis=1)"
   ]
  },
  {
   "cell_type": "code",
   "execution_count": 5,
   "metadata": {},
   "outputs": [
    {
     "data": {
      "text/plain": [
       "array([[  0.        ,   0.31578947,   0.63157895,   0.94736842,\n",
       "          1.26315789,   1.57894737,   1.89473684,   2.21052632,\n",
       "          2.52631579,   2.84210526,   3.15789474,   3.47368421,\n",
       "          3.78947368,   4.10526316,   4.42105263,   4.73684211,\n",
       "          5.05263158,   5.36842105,   5.68421053,   6.        ],\n",
       "       [ 41.04821208,  41.31083417,  41.16659148,  41.19301591,\n",
       "         40.90823599,  40.4563876 ,  39.98334964,  39.39767837,\n",
       "         39.47654665,  39.05179786,  38.47781061,  37.92010037,\n",
       "         36.64650443,  36.40607102,  35.52925402,  33.93360495,\n",
       "         32.08408725,  29.00948027,  28.55511923,  27.81590355]])"
      ]
     },
     "execution_count": 5,
     "metadata": {},
     "output_type": "execute_result"
    }
   ],
   "source": [
    "corr_theta_pre"
   ]
  },
  {
   "cell_type": "code",
   "execution_count": 14,
   "metadata": {},
   "outputs": [
    {
     "data": {
      "text/plain": [
       "<matplotlib.text.Text at 0x7f8946762b38>"
      ]
     },
     "execution_count": 14,
     "metadata": {},
     "output_type": "execute_result"
    },
    {
     "name": "stderr",
     "output_type": "stream",
     "text": [
      "/home/msackel/.conda/envs/msackel/lib/python3.6/site-packages/matplotlib/figure.py:1743: UserWarning: This figure includes Axes that are not compatible with tight_layout, so its results might be incorrect.\n",
      "  warnings.warn(\"This figure includes Axes that are not \"\n"
     ]
    },
    {
     "data": {
      "image/png": "[encoded data removed]",
      "text/plain": [
       "<matplotlib.figure.Figure at 0x7f8946090a58>"
      ]
     },
     "metadata": {},
     "output_type": "display_data"
    }
   ],
   "source": [
    "plt.plot(corr_theta_pre[0],corr_theta_pre[1], 'o')\n",
    "plt.title('maximale Signifikanz auf Crab in abhaengigkeit \\n des theta2 cuts des MC-Protonen Trainingdatensatzes')\n",
    "plt.xlabel(r'$\\theta^2$')\n",
    "plt.ylabel(r'maximale Signifikanz')"
   ]
  },
  {
   "cell_type": "code",
   "execution_count": null,
   "metadata": {
    "collapsed": true
   },
   "outputs": [],
   "source": []
  }
 ],
 "metadata": {
  "kernelspec": {
   "display_name": "Python [conda env:msackel]",
   "language": "python",
   "name": "conda-env-msackel-py"
  },
  "language_info": {
   "codemirror_mode": {
    "name": "ipython",
    "version": 3
   },
   "file_extension": ".py",
   "mimetype": "text/x-python",
   "name": "python",
   "nbconvert_exporter": "python",
   "pygments_lexer": "ipython3",
   "version": "3.6.1"
  }
 },
 "nbformat": 4,
 "nbformat_minor": 2
}
