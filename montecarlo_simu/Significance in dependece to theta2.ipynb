{
 "cells": [
  {
   "cell_type": "code",
   "execution_count": 1,
   "metadata": {
    "collapsed": true
   },
   "outputs": [],
   "source": [
    "from sklearn.ensemble import RandomForestClassifier\n",
    "from sklearn.model_selection import train_test_split, cross_val_score\n",
    "from fact.io import read_h5py\n",
    "import pickle\n",
    "exec(open('/home/msackel/Desktop/gammaClassification/programm/theta_cut/theta_cut.py').read())\n",
    "exec(open('/home/msackel/Desktop/gammaClassification/programm/model_significance/model_significance.py').read())\n",
    "plt.style.use('msackel')\n",
    "%matplotlib inline"
   ]
  },
  {
   "cell_type": "code",
   "execution_count": 2,
   "metadata": {
    "collapsed": true
   },
   "outputs": [],
   "source": [
    "with open('/home/msackel/Desktop/gammaClassification/config/feature.yaml') as f:\n",
    "    feature = yaml.load(f)\n",
    "\n",
    "mc_hadron= pd.read_hdf('/home/msackel/Desktop/gammaClassification/data/raw_data/proton_precuts.hdf5')[feature+['theta_deg']]\n",
    "mc_gammas= pd.read_hdf('/home/msackel/Desktop/gammaClassification/data/raw_data/gamma_precuts.hdf5')[feature+['theta_deg']]\n",
    "mc_hadron['label'] = 0\n",
    "mc_gammas['label'] = 1"
   ]
  },
  {
   "cell_type": "code",
   "execution_count": 8,
   "metadata": {
    "collapsed": true
   },
   "outputs": [],
   "source": [
    "eval_data = read_h5py(\n",
    "\t\t\t\t'/home/msackel/Desktop/gammaClassification/data/raw_data/crab_precuts.hdf5',\n",
    "\t\t\t\tkey='events',\n",
    "\t\t\t\tcolumns=list(feature) + [\n",
    "\t\t\t\t\t\t'theta_deg',\n",
    "\t\t\t\t\t\t'theta_deg_off_1',\n",
    "\t\t\t\t\t\t'theta_deg_off_2',\n",
    "\t\t\t\t\t\t'theta_deg_off_3',\n",
    "\t\t\t\t\t\t'theta_deg_off_4',\n",
    "\t\t\t\t\t\t'theta_deg_off_5',\n",
    "\t\t\t\t\t\t]\n",
    "\t\t\t\t)"
   ]
  },
  {
   "cell_type": "code",
   "execution_count": 4,
   "metadata": {
    "collapsed": true
   },
   "outputs": [],
   "source": [
    "corr_theta_pre = np.array([[],[]])\n",
    "Tree = RandomForestClassifier(\n",
    "    max_depth=15, \n",
    "    max_features=7, \n",
    "    criterion='entropy', \n",
    "    n_estimators=150, \n",
    "    n_jobs=30)\n",
    "for x in np.linspace(0,6,20):\n",
    "    data_cut_hadron = mc_hadron.query('theta_deg >= '+str(np.sqrt(x)))\n",
    "    data = pd.concat([mc_gammas[:100000], data_cut_hadron[:100000]])\n",
    "    Tree.fit(data[feature], data.label)\n",
    "    eval_data['pred_tree'] = Tree.predict_proba(eval_data[feature])[:,1]\n",
    "    pred_Tree = np.array([])\n",
    "    for cut in np.linspace(0.0,1,100):\n",
    "        on_data, off_data = split_on_off_source_independent(eval_data.query('pred_tree>= '+str(cut)), theta2_cut=0.03) \n",
    "        pred_Tree = np.append(pred_Tree, li_ma_significance(len(on_data), len(off_data), 0.2))\n",
    "    corr_theta_pre= np.append(corr_theta_pre, [[x],[max(pred_Tree)]], axis=1)"
   ]
  },
  {
   "cell_type": "code",
   "execution_count": 2,
   "metadata": {},
   "outputs": [
    {
     "ename": "NameError",
     "evalue": "name 'corr_theta_pre' is not defined",
     "output_type": "error",
     "traceback": [
      "\u001b[0;31m---------------------------------------------------------------------------\u001b[0m",
      "\u001b[0;31mNameError\u001b[0m                                 Traceback (most recent call last)",
      "\u001b[0;32m<ipython-input-2-fe80ea9ff742>\u001b[0m in \u001b[0;36m<module>\u001b[0;34m()\u001b[0m\n\u001b[0;32m----> 1\u001b[0;31m \u001b[0mdata\u001b[0m \u001b[0;34m=\u001b[0m \u001b[0mpd\u001b[0m\u001b[0;34m.\u001b[0m\u001b[0mDataFrame\u001b[0m\u001b[0;34m(\u001b[0m\u001b[0mcorr_theta_pre\u001b[0m\u001b[0;34m)\u001b[0m\u001b[0;34m\u001b[0m\u001b[0m\n\u001b[0m\u001b[1;32m      2\u001b[0m \u001b[0mdata\u001b[0m\u001b[0;34m.\u001b[0m\u001b[0mto_pickle\u001b[0m\u001b[0;34m(\u001b[0m\u001b[0;34m'corr_theta_pre'\u001b[0m\u001b[0;34m)\u001b[0m\u001b[0;34m\u001b[0m\u001b[0m\n",
      "\u001b[0;31mNameError\u001b[0m: name 'corr_theta_pre' is not defined"
     ]
    }
   ],
   "source": [
    "data = pd.DataFrame(corr_theta_pre)\n",
    "data.to_pickle('corr_theta_pre')"
   ]
  },
  {
   "cell_type": "code",
   "execution_count": 3,
   "metadata": {
    "collapsed": true
   },
   "outputs": [],
   "source": [
    "corr_theta_pre = pd.read_pickle('corr_theta_pre')"
   ]
  },
  {
   "cell_type": "code",
   "execution_count": 5,
   "metadata": {},
   "outputs": [
    {
     "name": "stderr",
     "output_type": "stream",
     "text": [
      "/home/msackel/.conda/envs/msackel/lib/python3.6/site-packages/matplotlib/figure.py:1743: UserWarning: This figure includes Axes that are not compatible with tight_layout, so its results might be incorrect.\n",
      "  warnings.warn(\"This figure includes Axes that are not \"\n"
     ]
    },
    {
     "data": {
      "image/png": "[encoded data removed]",
      "text/plain": [
       "<matplotlib.figure.Figure at 0x7f71cdf9edd8>"
      ]
     },
     "metadata": {},
     "output_type": "display_data"
    }
   ],
   "source": [
    "plt.figure(figsize=(5.4,4.05))\n",
    "plt.plot(corr_theta_pre.loc[0],corr_theta_pre.loc[1], 'o')\n",
    "plt.xlabel(r'$\\theta^2/ $deg$^2$')\n",
    "plt.ylabel(r'maximale Signifikanz')\n",
    "plt.savefig('corr_sig_theta2.pdf')"
   ]
  },
  {
   "cell_type": "code",
   "execution_count": 6,
   "metadata": {},
   "outputs": [
    {
     "data": {
      "text/plain": [
       "'/home/msackel/Desktop/gammaClassification/montecarlo_simu'"
      ]
     },
     "execution_count": 6,
     "metadata": {},
     "output_type": "execute_result"
    }
   ],
   "source": [
    "pwd"
   ]
  },
  {
   "cell_type": "code",
   "execution_count": null,
   "metadata": {
    "collapsed": true
   },
   "outputs": [],
   "source": []
  }
 ],
 "metadata": {
  "kernelspec": {
   "display_name": "Python [conda env:msackel]",
   "language": "python",
   "name": "conda-env-msackel-py"
  },
  "language_info": {
   "codemirror_mode": {
    "name": "ipython",
    "version": 3
   },
   "file_extension": ".py",
   "mimetype": "text/x-python",
   "name": "python",
   "nbconvert_exporter": "python",
   "pygments_lexer": "ipython3",
   "version": "3.6.1"
  }
 },
 "nbformat": 4,
 "nbformat_minor": 2
}
