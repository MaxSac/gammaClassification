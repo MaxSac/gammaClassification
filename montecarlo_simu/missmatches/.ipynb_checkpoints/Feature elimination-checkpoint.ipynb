{
 "cells": [
  {
   "cell_type": "code",
   "execution_count": 2,
   "metadata": {
    "collapsed": true
   },
   "outputs": [],
   "source": [
    "from sklearn.ensemble import RandomForestClassifier\n",
    "from sklearn.model_selection import train_test_split, cross_val_score\n",
    "from fact.io import read_h5py\n",
    "exec(open('/home/msackel/Desktop/gammaClassification/programm/theta_cut/theta_cut.py').read())\n",
    "exec(open('/home/msackel/Desktop/gammaClassification/programm/model_significance/model_significance.py').read())\n",
    "plt.style.use('msackel')\n",
    "\n",
    "\n",
    "with open('/home/msackel/Desktop/gammaClassification/config/feature.yaml') as f:\n",
    "    feature = yaml.load(f)\n",
    "\n",
    "mess_hadron= read_h5py(\n",
    "    '/home/msackel/Desktop/gammaClassification/data/raw_data/crab_precuts.hdf5',\n",
    "    key='events',\n",
    "    columns=list(feature)+['theta_deg']\n",
    "    )\n",
    "\n",
    "mc_hadron= pd.read_hdf('/home/msackel/Desktop/gammaClassification/data/raw_data/proton_precuts.hdf5')[feature+['theta_deg']]"
   ]
  },
  {
   "cell_type": "code",
   "execution_count": 2,
   "metadata": {
    "collapsed": true
   },
   "outputs": [],
   "source": [
    "mess_hadron= mess_hadron.query('theta_deg>='+str(np.sqrt(0.8)))[:100000]\n",
    "mc_hadron= mc_hadron.query('theta_deg>='+str(np.sqrt(0.8)))[:100000]\n",
    "mess_hadron['label']=1\n",
    "mc_hadron['label']=0\n",
    "data = pd.concat([mess_hadron.drop('theta_deg', axis=1), mc_hadron.drop('theta_deg', axis=1)])\n",
    "X_train, X_test, y_train, y_test = train_test_split(data.drop(['label'], axis=1), data.label, random_state=42)"
   ]
  },
  {
   "cell_type": "code",
   "execution_count": 3,
   "metadata": {},
   "outputs": [
    {
     "data": {
      "text/plain": [
       "RandomForestClassifier(bootstrap=True, class_weight=None, criterion='entropy',\n",
       "            max_depth=15, max_features='auto', max_leaf_nodes=None,\n",
       "            min_impurity_split=1e-07, min_samples_leaf=1,\n",
       "            min_samples_split=2, min_weight_fraction_leaf=0.0,\n",
       "            n_estimators=100, n_jobs=15, oob_score=False,\n",
       "            random_state=None, verbose=0, warm_start=False)"
      ]
     },
     "execution_count": 3,
     "metadata": {},
     "output_type": "execute_result"
    }
   ],
   "source": [
    "Forest = RandomForestClassifier(\n",
    "    max_depth=15,\n",
    "    n_jobs=15,\n",
    "    n_estimators=100, \n",
    "    criterion='entropy'\n",
    ")\n",
    "Forest.fit(X_train, y_train)"
   ]
  },
  {
   "cell_type": "code",
   "execution_count": 4,
   "metadata": {},
   "outputs": [
    {
     "data": {
      "text/plain": [
       "0.58255999999999997"
      ]
     },
     "execution_count": 4,
     "metadata": {},
     "output_type": "execute_result"
    }
   ],
   "source": [
    "Forest.score(X_test, y_test)"
   ]
  },
  {
   "cell_type": "code",
   "execution_count": 3,
   "metadata": {},
   "outputs": [
    {
     "name": "stdout",
     "output_type": "stream",
     "text": [
      "---Theta**2 = 0.5\n"
     ]
    }
   ],
   "source": [
    "Tree = RandomForestClassifier(max_depth=15, criterion='entropy', n_estimators=100, n_jobs=25)\n",
    "\n",
    "eval_data = read_h5py(\n",
    "\t\t\t\t'/home/msackel/Desktop/gammaClassification/data/raw_data/crab_precuts.hdf5',\n",
    "\t\t\t\tkey='events',\n",
    "\t\t\t\tcolumns=list(feature) + [\n",
    "\t\t\t\t\t\t'theta_deg',\n",
    "\t\t\t\t\t\t'theta_deg_off_1',\n",
    "\t\t\t\t\t\t'theta_deg_off_2',\n",
    "\t\t\t\t\t\t'theta_deg_off_3',\n",
    "\t\t\t\t\t\t'theta_deg_off_4',\n",
    "\t\t\t\t\t\t'theta_deg_off_5',\n",
    "\t\t\t\t\t\t]\n",
    "\t\t\t\t)\n",
    "\n",
    "print('---Theta**2 = 0.5')\n",
    "train_data = theta_cut('/home/msackel/Desktop/gammaClassification/data/raw_data/gamma_precuts.hdf5', \n",
    "\t\t\t\t\t'/home/msackel/Desktop/gammaClassification/data/raw_data/crab_precuts.hdf5', 0.5) \n",
    "\n",
    "Tree.fit(train_data.drop('label', axis=1), train_data.label)\n",
    "\n",
    "plot_significance(Tree, eval_data, path='plots/significance_crab.pdf')"
   ]
  },
  {
   "cell_type": "code",
   "execution_count": 4,
   "metadata": {
    "collapsed": true
   },
   "outputs": [],
   "source": [
    "new_feature = ['conc_core',\n",
    " 'concentration_one_pixel',\n",
    " #'concentration_two_pixel',\n",
    " 'leakage',\n",
    " #'leakage2',\n",
    " 'size',\n",
    " #'width',\n",
    " 'num_islands',\n",
    " 'num_pixel_in_shower',\n",
    " #'ph_charge_shower_max',\n",
    " 'ph_charge_shower_mean',\n",
    " 'ph_charge_shower_variance']"
   ]
  },
  {
   "cell_type": "code",
   "execution_count": 76,
   "metadata": {},
   "outputs": [
    {
     "data": {
      "text/plain": [
       "RandomForestClassifier(bootstrap=True, class_weight=None, criterion='entropy',\n",
       "            max_depth=15, max_features='auto', max_leaf_nodes=None,\n",
       "            min_impurity_split=1e-07, min_samples_leaf=1,\n",
       "            min_samples_split=2, min_weight_fraction_leaf=0.0,\n",
       "            n_estimators=100, n_jobs=28, oob_score=False,\n",
       "            random_state=None, verbose=0, warm_start=False)"
      ]
     },
     "execution_count": 76,
     "metadata": {},
     "output_type": "execute_result"
    }
   ],
   "source": [
    "new_Tree = RandomForestClassifier(max_depth=15, criterion='entropy', n_estimators=100, n_jobs=28)\n",
    "new_Tree.fit(train_data[new_feature], train_data.label)"
   ]
  },
  {
   "cell_type": "code",
   "execution_count": 77,
   "metadata": {
    "collapsed": true
   },
   "outputs": [],
   "source": [
    "eval_data['pred_tree'] = new_Tree.predict_proba(eval_data[new_feature])[:,1]"
   ]
  },
  {
   "cell_type": "code",
   "execution_count": 78,
   "metadata": {
    "collapsed": true
   },
   "outputs": [],
   "source": [
    "pred_Tree = np.array([])\n",
    "for x in np.linspace(0.5,1,50):\n",
    "    on_data, off_data = split_on_off_source_independent(eval_data.query('pred_tree>= '+str(x)), theta2_cut=0.03) \n",
    "    pred_Tree = np.append(pred_Tree, li_ma_significance(len(on_data), len(off_data), 0.2))"
   ]
  },
  {
   "cell_type": "code",
   "execution_count": 79,
   "metadata": {},
   "outputs": [
    {
     "name": "stderr",
     "output_type": "stream",
     "text": [
      "/home/msackel/.conda/envs/msackel/lib/python3.6/site-packages/matplotlib/figure.py:1743: UserWarning: This figure includes Axes that are not compatible with tight_layout, so its results might be incorrect.\n",
      "  warnings.warn(\"This figure includes Axes that are not \"\n"
     ]
    },
    {
     "data": {
      "image/png": "[encoded data removed]",
      "text/plain": [
       "<matplotlib.figure.Figure at 0x7f1f4c298198>"
      ]
     },
     "metadata": {},
     "output_type": "display_data"
    },
    {
     "data": {
      "text/plain": [
       "34.617001804044961"
      ]
     },
     "execution_count": 79,
     "metadata": {},
     "output_type": "execute_result"
    }
   ],
   "source": [
    "plt.plot(np.linspace(0.5,1,50),pred_Tree)\n",
    "plt.show()\n",
    "max(pred_Tree)"
   ]
  },
  {
   "cell_type": "code",
   "execution_count": 48,
   "metadata": {
    "collapsed": true
   },
   "outputs": [],
   "source": [
    "plt.bar(np.linspace(0,3,len(Tree.feature_importances_))-0.09,\n",
    "        Tree.feature_importances_, \n",
    "        width=1/len(Tree.feature_importances_), label='Gamma - Proton')\n",
    "plt.bar(np.linspace(0,3,len(Forest.feature_importances_)),\n",
    "        Forest.feature_importances_, \n",
    "        width=1/len(Tree.feature_importances_),\n",
    "        tick_label=mc_hadron.drop(['theta_deg','label'], axis=1).keys(),\n",
    "        label='Proton - MC-Proton')\n",
    "plt.xticks(rotation=90)\n",
    "plt.ylabel('feature importance')\n",
    "plt.legend()\n",
    "plt.savefig('feature_elemination.pdf')"
   ]
  },
  {
   "cell_type": "code",
   "execution_count": 5,
   "metadata": {
    "collapsed": true
   },
   "outputs": [],
   "source": [
    "from xgboost.sklearn import XGBClassifier"
   ]
  },
  {
   "cell_type": "code",
   "execution_count": 61,
   "metadata": {
    "collapsed": true
   },
   "outputs": [],
   "source": [
    "xgbc = XGBClassifier(\n",
    "                max_depth= 3,\n",
    "                learning_rate= 0.28,\n",
    "                booster= 'gbtree',\n",
    "                gamma=1,\n",
    "                n_jobs= 15,\n",
    "                min_child_weight=0.6,\n",
    "                #reg_lambda= 0.5,\n",
    "                subsample= 0.25,\n",
    "                eval_metric= 'auc'\n",
    "                )"
   ]
  },
  {
   "cell_type": "code",
   "execution_count": 62,
   "metadata": {},
   "outputs": [
    {
     "data": {
      "text/plain": [
       "XGBClassifier(base_score=0.5, booster='gbtree', colsample_bylevel=1,\n",
       "       colsample_bytree=1, eval_metric='auc', gamma=1, learning_rate=0.28,\n",
       "       max_delta_step=0, max_depth=3, min_child_weight=0.6, missing=None,\n",
       "       n_estimators=100, n_jobs=15, nthread=None,\n",
       "       objective='binary:logistic', random_state=0, reg_alpha=0,\n",
       "       reg_lambda=1, scale_pos_weight=1, seed=None, silent=True,\n",
       "       subsample=0.25)"
      ]
     },
     "execution_count": 62,
     "metadata": {},
     "output_type": "execute_result"
    }
   ],
   "source": [
    "xgbc.fit(train_data[new_feature], train_data.label)"
   ]
  },
  {
   "cell_type": "code",
   "execution_count": 63,
   "metadata": {},
   "outputs": [],
   "source": [
    "eval_data['pred_xgbc'] = xgbc.predict_proba(eval_data[new_feature])[:,1]"
   ]
  },
  {
   "cell_type": "code",
   "execution_count": 64,
   "metadata": {
    "collapsed": true
   },
   "outputs": [],
   "source": [
    "pred_Tree = np.array([])\n",
    "for x in np.linspace(0.5,1,50):\n",
    "    on_data, off_data = split_on_off_source_independent(eval_data.query('pred_xgbc>= '+str(x)), theta2_cut=0.03) \n",
    "    pred_Tree = np.append(pred_Tree, li_ma_significance(len(on_data), len(off_data), 0.2))"
   ]
  },
  {
   "cell_type": "code",
   "execution_count": 65,
   "metadata": {},
   "outputs": [
    {
     "name": "stderr",
     "output_type": "stream",
     "text": [
      "/home/msackel/.conda/envs/msackel/lib/python3.6/site-packages/matplotlib/figure.py:1743: UserWarning: This figure includes Axes that are not compatible with tight_layout, so its results might be incorrect.\n",
      "  warnings.warn(\"This figure includes Axes that are not \"\n"
     ]
    },
    {
     "data": {
      "image/png": "[encoded data removed]",
      "text/plain": [
       "<matplotlib.figure.Figure at 0x7f4d24a66550>"
      ]
     },
     "metadata": {},
     "output_type": "display_data"
    },
    {
     "data": {
      "text/plain": [
       "34.148647280789028"
      ]
     },
     "execution_count": 65,
     "metadata": {},
     "output_type": "execute_result"
    }
   ],
   "source": [
    "plt.plot(np.linspace(0.5,1,50),pred_Tree)\n",
    "plt.show()\n",
    "max(pred_Tree)"
   ]
  },
  {
   "cell_type": "code",
   "execution_count": null,
   "metadata": {
    "collapsed": true
   },
   "outputs": [],
   "source": []
  },
  {
   "cell_type": "code",
   "execution_count": null,
   "metadata": {
    "collapsed": true
   },
   "outputs": [],
   "source": []
  }
 ],
 "metadata": {
  "kernelspec": {
   "display_name": "Python [conda env:msackel]",
   "language": "python",
   "name": "conda-env-msackel-py"
  },
  "language_info": {
   "codemirror_mode": {
    "name": "ipython",
    "version": 3
   },
   "file_extension": ".py",
   "mimetype": "text/x-python",
   "name": "python",
   "nbconvert_exporter": "python",
   "pygments_lexer": "ipython3",
   "version": "3.6.1"
  }
 },
 "nbformat": 4,
 "nbformat_minor": 2
}
