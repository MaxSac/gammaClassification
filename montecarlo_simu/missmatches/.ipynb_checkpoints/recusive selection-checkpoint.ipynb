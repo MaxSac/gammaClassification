{
 "cells": [
  {
   "cell_type": "code",
   "execution_count": 15,
   "metadata": {
    "collapsed": true
   },
   "outputs": [],
   "source": [
    "from sklearn.ensemble import RandomForestClassifier\n",
    "from sklearn.model_selection import train_test_split, cross_val_score\n",
    "from fact.io import read_h5py\n",
    "\n",
    "exec(open('/home/msackel/Desktop/gammaClassification/programm/theta_cut/theta_cut.py').read())\n",
    "exec(open('/home/msackel/Desktop/gammaClassification/programm/model_significance/model_significance.py').read())\n",
    "\n",
    "\n",
    "with open('/home/msackel/Desktop/gammaClassification/config/feature.yaml') as f:\n",
    "    feature = yaml.load(f)\n",
    "\n",
    "mess_hadron= read_h5py(\n",
    "    '/home/msackel/Desktop/gammaClassification/data/raw_data/crab_precuts.hdf5',\n",
    "    key='events',\n",
    "    columns=list(feature)+['theta_deg']\n",
    "    )\n",
    "\n",
    "mc_hadron= pd.read_hdf('/home/msackel/Desktop/gammaClassification/data/raw_data/proton_precuts.hdf5')[feature+['theta_deg']]"
   ]
  },
  {
   "cell_type": "code",
   "execution_count": 16,
   "metadata": {
    "collapsed": true
   },
   "outputs": [],
   "source": [
    "mess_hadron= mess_hadron.query('theta_deg>='+str(np.sqrt(0.9)))[:100000]\n",
    "mc_hadron= mc_hadron.query('theta_deg>='+str(np.sqrt(0.9)))[:100000]\n",
    "mess_hadron['label']=1\n",
    "mc_hadron['label']=0\n",
    "data = pd.concat([mess_hadron.drop('theta_deg', axis=1), mc_hadron.drop('theta_deg', axis=1)])\n",
    "X_train, X_test, y_train, y_test = train_test_split(data.drop(['label'], axis=1), data.label, random_state=42)"
   ]
  },
  {
   "cell_type": "code",
   "execution_count": 20,
   "metadata": {},
   "outputs": [
    {
     "name": "stdout",
     "output_type": "stream",
     "text": [
      "Ranking: [ 8  6  3 10  7  9  1 12 11  2  4  5]\n",
      "Feature: ['conc_core', 'concentration_one_pixel', 'concentration_two_pixel', 'leakage', 'leakage2', 'size', 'width', 'num_islands', 'num_pixel_in_shower', 'ph_charge_shower_max', 'ph_charge_shower_mean', 'ph_charge_shower_variance']\n"
     ]
    }
   ],
   "source": [
    "Tree = RandomForestClassifier(max_depth=15,criterion='entropy', n_estimators=100, n_jobs=25)\n",
    "\n",
    "from sklearn.datasets import make_friedman1\n",
    "from sklearn.feature_selection import RFE\n",
    "from sklearn.svm import SVR\n",
    "selector = RFE(Tree, 1, step=1)\n",
    "selector = selector.fit(X_train, y_train)\n",
    "selector.support_ \n",
    "\n",
    "print('Ranking:', selector.ranking_)\n",
    "print('Feature:', feature)"
   ]
  },
  {
   "cell_type": "code",
   "execution_count": null,
   "metadata": {
    "collapsed": true
   },
   "outputs": [],
   "source": []
  }
 ],
 "metadata": {
  "kernelspec": {
   "display_name": "Python [conda env:msackel]",
   "language": "python",
   "name": "conda-env-msackel-py"
  },
  "language_info": {
   "codemirror_mode": {
    "name": "ipython",
    "version": 3
   },
   "file_extension": ".py",
   "mimetype": "text/x-python",
   "name": "python",
   "nbconvert_exporter": "python",
   "pygments_lexer": "ipython3",
   "version": "3.6.1"
  }
 },
 "nbformat": 4,
 "nbformat_minor": 2
}
