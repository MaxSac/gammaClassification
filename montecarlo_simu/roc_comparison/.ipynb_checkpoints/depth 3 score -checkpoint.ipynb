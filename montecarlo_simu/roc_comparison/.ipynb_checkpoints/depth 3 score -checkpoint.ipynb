{
 "cells": [
  {
   "cell_type": "code",
   "execution_count": null,
   "metadata": {
    "collapsed": true
   },
   "outputs": [],
   "source": [
    "import pandas as pd\n",
    "import numpy as np\n",
    "import matplotlib.pyplot as plt\n",
    "from xgboost.sklearn import XGBClassifier\n",
    "from sklearn.model_selection import GridSearchCV\n",
    "from sklearn.model_selection import cross_val_score\n",
    "from sklearn.ensemble import RandomForestClassifier\n",
    "import yaml"
   ]
  },
  {
   "cell_type": "code",
   "execution_count": 13,
   "metadata": {
    "collapsed": true
   },
   "outputs": [],
   "source": [
    "exec(open('/home/msackel/Desktop/gammaClassification/programm/theta_cut/theta_cut.py').read()) \n",
    "exec(open('/home/msackel/Desktop/gammaClassification/programm/model_significance/model_significance.py').read()) \n",
    " \n",
    "with open('/home/msackel/Desktop/gammaClassification/config/feature.yaml') as f: \n",
    "        feature = yaml.load(f) "
   ]
  },
  {
   "cell_type": "code",
   "execution_count": 14,
   "metadata": {
    "collapsed": true
   },
   "outputs": [],
   "source": [
    "train_data = theta_cut('/home/msackel/Desktop/gammaClassification/data/raw_data/gamma_precuts.hdf5',  \n",
    "                '/home/msackel/Desktop/gammaClassification/data/raw_data/mrk501_2014_precuts.hdf5', 0.01,100000)  "
   ]
  },
  {
   "cell_type": "code",
   "execution_count": 56,
   "metadata": {},
   "outputs": [],
   "source": [
    "xgbc = XGBClassifier(\n",
    "max_depth= 3,\n",
    "    booster= 'gbtree',\n",
    "    n_jobs= 25,\n",
    "    eval_metric= 'auc',\n",
    "    gamma= 0.1,\n",
    "    min_child_weight= 0.01,\n",
    "    subsample=0.2\n",
    ")\n",
    "\n",
    "parametergrid = {\n",
    "   'learning_rate': [0.4, 0.6, 0.5]\n",
    "}"
   ]
  },
  {
   "cell_type": "code",
   "execution_count": 57,
   "metadata": {
    "collapsed": true
   },
   "outputs": [],
   "source": [
    "clf = GridSearchCV(\n",
    "        xgbc,\n",
    "        param_grid= parametergrid,\n",
    "        scoring='roc_auc',\n",
    "        cv=3\n",
    "        )"
   ]
  },
  {
   "cell_type": "code",
   "execution_count": null,
   "metadata": {},
   "outputs": [],
   "source": [
    "clf.fit(train_data.drop('label', axis=1), train_data.label)"
   ]
  },
  {
   "cell_type": "code",
   "execution_count": null,
   "metadata": {
    "collapsed": true
   },
   "outputs": [],
   "source": [
    "'''\n",
    "Save the scorrings of the different parameters.\n",
    "'''\n",
    "best_esti = pd.DataFrame(clf.cv_results_)\n",
    "best_esti.to_pickle('bestEsti3')"
   ]
  },
  {
   "cell_type": "code",
   "execution_count": 63,
   "metadata": {},
   "outputs": [
    {
     "data": {
      "text/plain": [
       "{'learning_rate': 0.4}"
      ]
     },
     "execution_count": 63,
     "metadata": {},
     "output_type": "execute_result"
    }
   ],
   "source": [
    "best_esti = pd.read_pickle('bestEsti3')\n",
    "a = np.argsort(best_esti['mean_test_score'].values)\n",
    "best_esti.loc[a[-1]]['params']"
   ]
  },
  {
   "cell_type": "code",
   "execution_count": 64,
   "metadata": {},
   "outputs": [
    {
     "data": {
      "text/html": [
       "<div>\n",
       "<style>\n",
       "    .dataframe thead tr:only-child th {\n",
       "        text-align: right;\n",
       "    }\n",
       "\n",
       "    .dataframe thead th {\n",
       "        text-align: left;\n",
       "    }\n",
       "\n",
       "    .dataframe tbody tr th {\n",
       "        vertical-align: top;\n",
       "    }\n",
       "</style>\n",
       "<table border=\"1\" class=\"dataframe\">\n",
       "  <thead>\n",
       "    <tr style=\"text-align: right;\">\n",
       "      <th></th>\n",
       "      <th>mean_fit_time</th>\n",
       "      <th>mean_score_time</th>\n",
       "      <th>mean_test_score</th>\n",
       "      <th>mean_train_score</th>\n",
       "      <th>param_learning_rate</th>\n",
       "      <th>params</th>\n",
       "      <th>rank_test_score</th>\n",
       "      <th>split0_test_score</th>\n",
       "      <th>split0_train_score</th>\n",
       "      <th>split1_test_score</th>\n",
       "      <th>split1_train_score</th>\n",
       "      <th>split2_test_score</th>\n",
       "      <th>split2_train_score</th>\n",
       "      <th>std_fit_time</th>\n",
       "      <th>std_score_time</th>\n",
       "      <th>std_test_score</th>\n",
       "      <th>std_train_score</th>\n",
       "    </tr>\n",
       "  </thead>\n",
       "  <tbody>\n",
       "    <tr>\n",
       "      <th>0</th>\n",
       "      <td>1.219786</td>\n",
       "      <td>0.045380</td>\n",
       "      <td>0.846752</td>\n",
       "      <td>0.853164</td>\n",
       "      <td>0.4</td>\n",
       "      <td>{'learning_rate': 0.4}</td>\n",
       "      <td>1</td>\n",
       "      <td>0.845178</td>\n",
       "      <td>0.854563</td>\n",
       "      <td>0.844210</td>\n",
       "      <td>0.853888</td>\n",
       "      <td>0.850866</td>\n",
       "      <td>0.851041</td>\n",
       "      <td>0.060423</td>\n",
       "      <td>0.000319</td>\n",
       "      <td>0.002936</td>\n",
       "      <td>0.001526</td>\n",
       "    </tr>\n",
       "    <tr>\n",
       "      <th>2</th>\n",
       "      <td>1.134196</td>\n",
       "      <td>0.044635</td>\n",
       "      <td>0.844964</td>\n",
       "      <td>0.853049</td>\n",
       "      <td>0.5</td>\n",
       "      <td>{'learning_rate': 0.5}</td>\n",
       "      <td>2</td>\n",
       "      <td>0.842124</td>\n",
       "      <td>0.853733</td>\n",
       "      <td>0.844033</td>\n",
       "      <td>0.854113</td>\n",
       "      <td>0.848733</td>\n",
       "      <td>0.851300</td>\n",
       "      <td>0.005981</td>\n",
       "      <td>0.000559</td>\n",
       "      <td>0.002777</td>\n",
       "      <td>0.001246</td>\n",
       "    </tr>\n",
       "    <tr>\n",
       "      <th>1</th>\n",
       "      <td>1.139876</td>\n",
       "      <td>0.044946</td>\n",
       "      <td>0.841930</td>\n",
       "      <td>0.851802</td>\n",
       "      <td>0.6</td>\n",
       "      <td>{'learning_rate': 0.6}</td>\n",
       "      <td>3</td>\n",
       "      <td>0.839701</td>\n",
       "      <td>0.852455</td>\n",
       "      <td>0.840386</td>\n",
       "      <td>0.852883</td>\n",
       "      <td>0.845705</td>\n",
       "      <td>0.850068</td>\n",
       "      <td>0.002585</td>\n",
       "      <td>0.000420</td>\n",
       "      <td>0.002683</td>\n",
       "      <td>0.001238</td>\n",
       "    </tr>\n",
       "  </tbody>\n",
       "</table>\n",
       "</div>"
      ],
      "text/plain": [
       "   mean_fit_time  mean_score_time  mean_test_score  mean_train_score  \\\n",
       "0       1.219786         0.045380         0.846752          0.853164   \n",
       "2       1.134196         0.044635         0.844964          0.853049   \n",
       "1       1.139876         0.044946         0.841930          0.851802   \n",
       "\n",
       "  param_learning_rate                  params  rank_test_score  \\\n",
       "0                 0.4  {'learning_rate': 0.4}                1   \n",
       "2                 0.5  {'learning_rate': 0.5}                2   \n",
       "1                 0.6  {'learning_rate': 0.6}                3   \n",
       "\n",
       "   split0_test_score  split0_train_score  split1_test_score  \\\n",
       "0           0.845178            0.854563           0.844210   \n",
       "2           0.842124            0.853733           0.844033   \n",
       "1           0.839701            0.852455           0.840386   \n",
       "\n",
       "   split1_train_score  split2_test_score  split2_train_score  std_fit_time  \\\n",
       "0            0.853888           0.850866            0.851041      0.060423   \n",
       "2            0.854113           0.848733            0.851300      0.005981   \n",
       "1            0.852883           0.845705            0.850068      0.002585   \n",
       "\n",
       "   std_score_time  std_test_score  std_train_score  \n",
       "0        0.000319        0.002936         0.001526  \n",
       "2        0.000559        0.002777         0.001246  \n",
       "1        0.000420        0.002683         0.001238  "
      ]
     },
     "execution_count": 64,
     "metadata": {},
     "output_type": "execute_result"
    }
   ],
   "source": [
    "best_esti.loc[a[::-1]]"
   ]
  },
  {
   "cell_type": "code",
   "execution_count": 25,
   "metadata": {
    "collapsed": true
   },
   "outputs": [],
   "source": [
    "xgbc = XGBClassifier(\n",
    "    max_depth= 3,\n",
    "    booster= 'gbtree',\n",
    "    n_jobs= 15,\n",
    "    subsample= 0.25,\n",
    "    eval_metric= 'auc',\n",
    "    gamma = 0.1,\n",
    "    learning_rate= 1,\n",
    "    max_delta_step = 10,\n",
    "    n_estimators = 50,\n",
    "    reg_lambda = 0.001\n",
    ")"
   ]
  },
  {
   "cell_type": "code",
   "execution_count": 62,
   "metadata": {},
   "outputs": [
    {
     "ename": "NameError",
     "evalue": "name 'data' is not defined",
     "output_type": "error",
     "traceback": [
      "\u001b[0;31m---------------------------------------------------------------------------\u001b[0m",
      "\u001b[0;31mNameError\u001b[0m                                 Traceback (most recent call last)",
      "\u001b[0;32m<ipython-input-62-2b89ad208d6c>\u001b[0m in \u001b[0;36m<module>\u001b[0;34m()\u001b[0m\n\u001b[0;32m----> 1\u001b[0;31m \u001b[0mcross_val_score\u001b[0m\u001b[0;34m(\u001b[0m\u001b[0mxgbc\u001b[0m\u001b[0;34m,\u001b[0m \u001b[0mdata\u001b[0m\u001b[0;34m.\u001b[0m\u001b[0mdrop\u001b[0m\u001b[0;34m(\u001b[0m\u001b[0;34m'label'\u001b[0m\u001b[0;34m,\u001b[0m \u001b[0maxis\u001b[0m\u001b[0;34m=\u001b[0m\u001b[0;36m1\u001b[0m\u001b[0;34m)\u001b[0m\u001b[0;34m,\u001b[0m \u001b[0mdata\u001b[0m\u001b[0;34m.\u001b[0m\u001b[0mlabel\u001b[0m\u001b[0;34m)\u001b[0m\u001b[0;34m.\u001b[0m\u001b[0mmean\u001b[0m\u001b[0;34m(\u001b[0m\u001b[0;34m)\u001b[0m\u001b[0;34m\u001b[0m\u001b[0m\n\u001b[0m",
      "\u001b[0;31mNameError\u001b[0m: name 'data' is not defined"
     ]
    }
   ],
   "source": [
    "cross_val_score(xgbc, data.drop('label', axis=1), data.label).mean()"
   ]
  },
  {
   "cell_type": "code",
   "execution_count": null,
   "metadata": {
    "collapsed": true
   },
   "outputs": [],
   "source": []
  }
 ],
 "metadata": {
  "kernelspec": {
   "display_name": "Python [conda env:msackel]",
   "language": "python",
   "name": "conda-env-msackel-py"
  },
  "language_info": {
   "codemirror_mode": {
    "name": "ipython",
    "version": 3
   },
   "file_extension": ".py",
   "mimetype": "text/x-python",
   "name": "python",
   "nbconvert_exporter": "python",
   "pygments_lexer": "ipython3",
   "version": "3.6.1"
  }
 },
 "nbformat": 4,
 "nbformat_minor": 2
}
