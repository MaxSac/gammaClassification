{
 "cells": [
  {
   "cell_type": "code",
   "execution_count": 2,
   "metadata": {
    "collapsed": true
   },
   "outputs": [],
   "source": [
    "import pandas as pd\n",
    "import numpy as np\n",
    "import matplotlib.pyplot as plt\n",
    "from xgboost.sklearn import XGBClassifier\n",
    "from sklearn.model_selection import GridSearchCV\n",
    "from sklearn.model_selection import cross_val_score\n",
    "from sklearn.ensemble import RandomForestClassifier\n",
    "import yaml"
   ]
  },
  {
   "cell_type": "code",
   "execution_count": 41,
   "metadata": {
    "collapsed": true
   },
   "outputs": [],
   "source": [
    "exec(open('/home/msackel/Desktop/gammaClassification/programm/theta_cut/theta_cut.py').read()) \n",
    "exec(open('/home/msackel/Desktop/gammaClassification/programm/model_significance/model_significance.py').read()) \n",
    " \n",
    "with open('/home/msackel/Desktop/gammaClassification/config/feature.yaml') as f: \n",
    "        feature = yaml.load(f) "
   ]
  },
  {
   "cell_type": "code",
   "execution_count": 71,
   "metadata": {
    "collapsed": true
   },
   "outputs": [],
   "source": [
    "train_data = theta_cut('/home/msackel/Desktop/gammaClassification/data/raw_data/gamma_precuts.hdf5',  \n",
    "                '/home/msackel/Desktop/gammaClassification/data/raw_data/mrk501_2014_precuts.hdf5', 0.1,100000)  "
   ]
  },
  {
   "cell_type": "code",
   "execution_count": 84,
   "metadata": {},
   "outputs": [],
   "source": [
    "xgbc = XGBClassifier(\n",
    "max_depth= 3,\n",
    "    booster= 'gbtree',\n",
    "    n_jobs= 25,\n",
    "    eval_metric= 'auc',\n",
    "    gamma= 0.1,\n",
    "    min_child_weight= 0.01,\n",
    "    subsample=0.2,\n",
    "    learning_rate= 0.2\n",
    ")\n",
    "\n",
    "parametergrid = {\n",
    "    'reg_lambda':[3,4,2]\n",
    "}"
   ]
  },
  {
   "cell_type": "code",
   "execution_count": 85,
   "metadata": {
    "collapsed": true
   },
   "outputs": [],
   "source": [
    "clf = GridSearchCV(\n",
    "        xgbc,\n",
    "        param_grid= parametergrid,\n",
    "        scoring='roc_auc',\n",
    "        cv=3\n",
    "        )"
   ]
  },
  {
   "cell_type": "code",
   "execution_count": 86,
   "metadata": {},
   "outputs": [
    {
     "data": {
      "text/plain": [
       "GridSearchCV(cv=3, error_score='raise',\n",
       "       estimator=XGBClassifier(base_score=0.5, booster='gbtree', colsample_bylevel=1,\n",
       "       colsample_bytree=1, eval_metric='auc', gamma=0.1, learning_rate=0.2,\n",
       "       max_delta_step=0, max_depth=3, min_child_weight=0.01, missing=None,\n",
       "       n_estimators=100, n_jobs=25, nthread=None,\n",
       "       objective='binary:logistic', random_state=0, reg_alpha=0,\n",
       "       reg_lambda=1, scale_pos_weight=1, seed=None, silent=True,\n",
       "       subsample=0.2),\n",
       "       fit_params={}, iid=True, n_jobs=1,\n",
       "       param_grid={'reg_lambda': [3, 4, 2]}, pre_dispatch='2*n_jobs',\n",
       "       refit=True, return_train_score=True, scoring='roc_auc', verbose=0)"
      ]
     },
     "execution_count": 86,
     "metadata": {},
     "output_type": "execute_result"
    }
   ],
   "source": [
    "clf.fit(train_data.drop('label', axis=1), train_data.label)"
   ]
  },
  {
   "cell_type": "code",
   "execution_count": 87,
   "metadata": {},
   "outputs": [],
   "source": [
    "'''\n",
    "Save the scorrings of the different parameters.\n",
    "'''\n",
    "best_esti = pd.DataFrame(clf.cv_results_)\n",
    "best_esti.to_pickle('bestEsti3')"
   ]
  },
  {
   "cell_type": "code",
   "execution_count": 88,
   "metadata": {},
   "outputs": [
    {
     "data": {
      "text/plain": [
       "{'reg_lambda': 3}"
      ]
     },
     "execution_count": 88,
     "metadata": {},
     "output_type": "execute_result"
    }
   ],
   "source": [
    "best_esti = pd.read_pickle('bestEsti3')\n",
    "a = np.argsort(best_esti['mean_test_score'].values)\n",
    "best_esti.loc[a[-1]]['params']"
   ]
  },
  {
   "cell_type": "code",
   "execution_count": 83,
   "metadata": {},
   "outputs": [
    {
     "data": {
      "text/html": [
       "<div>\n",
       "<style>\n",
       "    .dataframe thead tr:only-child th {\n",
       "        text-align: right;\n",
       "    }\n",
       "\n",
       "    .dataframe thead th {\n",
       "        text-align: left;\n",
       "    }\n",
       "\n",
       "    .dataframe tbody tr th {\n",
       "        vertical-align: top;\n",
       "    }\n",
       "</style>\n",
       "<table border=\"1\" class=\"dataframe\">\n",
       "  <thead>\n",
       "    <tr style=\"text-align: right;\">\n",
       "      <th></th>\n",
       "      <th>mean_fit_time</th>\n",
       "      <th>mean_score_time</th>\n",
       "      <th>mean_test_score</th>\n",
       "      <th>mean_train_score</th>\n",
       "      <th>param_reg_lambda</th>\n",
       "      <th>params</th>\n",
       "      <th>rank_test_score</th>\n",
       "      <th>split0_test_score</th>\n",
       "      <th>split0_train_score</th>\n",
       "      <th>split1_test_score</th>\n",
       "      <th>split1_train_score</th>\n",
       "      <th>split2_test_score</th>\n",
       "      <th>split2_train_score</th>\n",
       "      <th>std_fit_time</th>\n",
       "      <th>std_score_time</th>\n",
       "      <th>std_test_score</th>\n",
       "      <th>std_train_score</th>\n",
       "    </tr>\n",
       "  </thead>\n",
       "  <tbody>\n",
       "    <tr>\n",
       "      <th>0</th>\n",
       "      <td>1.120167</td>\n",
       "      <td>0.035973</td>\n",
       "      <td>0.852320</td>\n",
       "      <td>0.856066</td>\n",
       "      <td>3</td>\n",
       "      <td>{'reg_lambda': 3}</td>\n",
       "      <td>1</td>\n",
       "      <td>0.849944</td>\n",
       "      <td>0.857401</td>\n",
       "      <td>0.850150</td>\n",
       "      <td>0.856984</td>\n",
       "      <td>0.856867</td>\n",
       "      <td>0.853814</td>\n",
       "      <td>0.064974</td>\n",
       "      <td>0.000622</td>\n",
       "      <td>0.003216</td>\n",
       "      <td>0.001602</td>\n",
       "    </tr>\n",
       "    <tr>\n",
       "      <th>1</th>\n",
       "      <td>1.091224</td>\n",
       "      <td>0.037492</td>\n",
       "      <td>0.852121</td>\n",
       "      <td>0.855774</td>\n",
       "      <td>5</td>\n",
       "      <td>{'reg_lambda': 5}</td>\n",
       "      <td>2</td>\n",
       "      <td>0.849426</td>\n",
       "      <td>0.856874</td>\n",
       "      <td>0.849634</td>\n",
       "      <td>0.856637</td>\n",
       "      <td>0.857301</td>\n",
       "      <td>0.853811</td>\n",
       "      <td>0.015331</td>\n",
       "      <td>0.000807</td>\n",
       "      <td>0.003664</td>\n",
       "      <td>0.001391</td>\n",
       "    </tr>\n",
       "    <tr>\n",
       "      <th>2</th>\n",
       "      <td>1.110102</td>\n",
       "      <td>0.036241</td>\n",
       "      <td>0.851373</td>\n",
       "      <td>0.854476</td>\n",
       "      <td>30</td>\n",
       "      <td>{'reg_lambda': 30}</td>\n",
       "      <td>3</td>\n",
       "      <td>0.849162</td>\n",
       "      <td>0.855981</td>\n",
       "      <td>0.849098</td>\n",
       "      <td>0.855109</td>\n",
       "      <td>0.855860</td>\n",
       "      <td>0.852337</td>\n",
       "      <td>0.006855</td>\n",
       "      <td>0.000356</td>\n",
       "      <td>0.003173</td>\n",
       "      <td>0.001554</td>\n",
       "    </tr>\n",
       "    <tr>\n",
       "      <th>3</th>\n",
       "      <td>1.187494</td>\n",
       "      <td>0.041275</td>\n",
       "      <td>0.850155</td>\n",
       "      <td>0.852573</td>\n",
       "      <td>100</td>\n",
       "      <td>{'reg_lambda': 100}</td>\n",
       "      <td>4</td>\n",
       "      <td>0.847951</td>\n",
       "      <td>0.854049</td>\n",
       "      <td>0.847632</td>\n",
       "      <td>0.853405</td>\n",
       "      <td>0.854881</td>\n",
       "      <td>0.850266</td>\n",
       "      <td>0.049520</td>\n",
       "      <td>0.004747</td>\n",
       "      <td>0.003344</td>\n",
       "      <td>0.001653</td>\n",
       "    </tr>\n",
       "  </tbody>\n",
       "</table>\n",
       "</div>"
      ],
      "text/plain": [
       "   mean_fit_time  mean_score_time  mean_test_score  mean_train_score  \\\n",
       "0       1.120167         0.035973         0.852320          0.856066   \n",
       "1       1.091224         0.037492         0.852121          0.855774   \n",
       "2       1.110102         0.036241         0.851373          0.854476   \n",
       "3       1.187494         0.041275         0.850155          0.852573   \n",
       "\n",
       "  param_reg_lambda               params  rank_test_score  split0_test_score  \\\n",
       "0                3    {'reg_lambda': 3}                1           0.849944   \n",
       "1                5    {'reg_lambda': 5}                2           0.849426   \n",
       "2               30   {'reg_lambda': 30}                3           0.849162   \n",
       "3              100  {'reg_lambda': 100}                4           0.847951   \n",
       "\n",
       "   split0_train_score  split1_test_score  split1_train_score  \\\n",
       "0            0.857401           0.850150            0.856984   \n",
       "1            0.856874           0.849634            0.856637   \n",
       "2            0.855981           0.849098            0.855109   \n",
       "3            0.854049           0.847632            0.853405   \n",
       "\n",
       "   split2_test_score  split2_train_score  std_fit_time  std_score_time  \\\n",
       "0           0.856867            0.853814      0.064974        0.000622   \n",
       "1           0.857301            0.853811      0.015331        0.000807   \n",
       "2           0.855860            0.852337      0.006855        0.000356   \n",
       "3           0.854881            0.850266      0.049520        0.004747   \n",
       "\n",
       "   std_test_score  std_train_score  \n",
       "0        0.003216         0.001602  \n",
       "1        0.003664         0.001391  \n",
       "2        0.003173         0.001554  \n",
       "3        0.003344         0.001653  "
      ]
     },
     "execution_count": 83,
     "metadata": {},
     "output_type": "execute_result"
    }
   ],
   "source": [
    "best_esti.loc[a[::-1]]"
   ]
  },
  {
   "cell_type": "code",
   "execution_count": 25,
   "metadata": {
    "collapsed": true
   },
   "outputs": [],
   "source": [
    "xgbc = XGBClassifier(\n",
    "    max_depth= 3,\n",
    "    booster= 'gbtree',\n",
    "    n_jobs= 15,\n",
    "    subsample= 0.25,\n",
    "    eval_metric= 'auc',\n",
    "    gamma = 0.1,\n",
    "    learning_rate= 1,\n",
    "    max_delta_step = 10,\n",
    "    n_estimators = 50,\n",
    "    reg_lambda = 0.001\n",
    ")"
   ]
  },
  {
   "cell_type": "code",
   "execution_count": 62,
   "metadata": {},
   "outputs": [
    {
     "ename": "NameError",
     "evalue": "name 'data' is not defined",
     "output_type": "error",
     "traceback": [
      "\u001b[0;31m---------------------------------------------------------------------------\u001b[0m",
      "\u001b[0;31mNameError\u001b[0m                                 Traceback (most recent call last)",
      "\u001b[0;32m<ipython-input-62-2b89ad208d6c>\u001b[0m in \u001b[0;36m<module>\u001b[0;34m()\u001b[0m\n\u001b[0;32m----> 1\u001b[0;31m \u001b[0mcross_val_score\u001b[0m\u001b[0;34m(\u001b[0m\u001b[0mxgbc\u001b[0m\u001b[0;34m,\u001b[0m \u001b[0mdata\u001b[0m\u001b[0;34m.\u001b[0m\u001b[0mdrop\u001b[0m\u001b[0;34m(\u001b[0m\u001b[0;34m'label'\u001b[0m\u001b[0;34m,\u001b[0m \u001b[0maxis\u001b[0m\u001b[0;34m=\u001b[0m\u001b[0;36m1\u001b[0m\u001b[0;34m)\u001b[0m\u001b[0;34m,\u001b[0m \u001b[0mdata\u001b[0m\u001b[0;34m.\u001b[0m\u001b[0mlabel\u001b[0m\u001b[0;34m)\u001b[0m\u001b[0;34m.\u001b[0m\u001b[0mmean\u001b[0m\u001b[0;34m(\u001b[0m\u001b[0;34m)\u001b[0m\u001b[0;34m\u001b[0m\u001b[0m\n\u001b[0m",
      "\u001b[0;31mNameError\u001b[0m: name 'data' is not defined"
     ]
    }
   ],
   "source": [
    "cross_val_score(xgbc, data.drop('label', axis=1), data.label).mean()"
   ]
  },
  {
   "cell_type": "code",
   "execution_count": null,
   "metadata": {
    "collapsed": true
   },
   "outputs": [],
   "source": []
  }
 ],
 "metadata": {
  "kernelspec": {
   "display_name": "Python [conda env:msackel]",
   "language": "python",
   "name": "conda-env-msackel-py"
  },
  "language_info": {
   "codemirror_mode": {
    "name": "ipython",
    "version": 3
   },
   "file_extension": ".py",
   "mimetype": "text/x-python",
   "name": "python",
   "nbconvert_exporter": "python",
   "pygments_lexer": "ipython3",
   "version": "3.6.1"
  }
 },
 "nbformat": 4,
 "nbformat_minor": 2
}
