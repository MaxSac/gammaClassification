{
 "cells": [
  {
   "cell_type": "code",
   "execution_count": 4,
   "metadata": {
    "collapsed": true
   },
   "outputs": [],
   "source": [
    "import pandas as pd\n",
    "import numpy as np\n",
    "import matplotlib.pyplot as plt\n",
    "from xgboost.sklearn import XGBClassifier\n",
    "from sklearn.model_selection import GridSearchCV\n",
    "from sklearn.model_selection import cross_val_score\n",
    "from sklearn.ensemble import RandomForestClassifier\n",
    "import yaml\n",
    "\n",
    "xgbc = XGBClassifier(\n",
    "    max_depth= 5,\n",
    "    booster= 'gbtree',\n",
    "    n_jobs= 15,\n",
    "    subsample= 0.25,\n",
    "    eval_metric= 'auc',\n",
    ")\n",
    "\n",
    "parametergrid = {\n",
    "    'learning_rate': [0.1, 0.5, 1, 10],\n",
    "    'n_estimators': [20, 50, 100],\n",
    "    'gamma': [ 0.1, 1, 10, 100],\n",
    "    'reg_lambda': [1,0.1, 0.01, 0.001, 0.0001],\n",
    "    'max_delta_step': [10, 5, 1, 0.1, 0.01],\n",
    "}"
   ]
  },
  {
   "cell_type": "code",
   "execution_count": 5,
   "metadata": {
    "collapsed": true
   },
   "outputs": [],
   "source": [
    "clf = GridSearchCV(\n",
    "        xgbc,\n",
    "        param_grid= parametergrid,\n",
    "        scoring='roc_auc',\n",
    "        cv=5\n",
    "        )"
   ]
  },
  {
   "cell_type": "code",
   "execution_count": 6,
   "metadata": {
    "collapsed": true
   },
   "outputs": [],
   "source": [
    "data = pd.read_pickle('/home/msackel/Desktop/gammaClassification/data/complete_Datasets/dataCrab')"
   ]
  },
  {
   "cell_type": "code",
   "execution_count": null,
   "metadata": {
    "collapsed": true
   },
   "outputs": [],
   "source": [
    "clf.fit(data.drop('label', axis=1), data.label)"
   ]
  },
  {
   "cell_type": "code",
   "execution_count": 12,
   "metadata": {
    "collapsed": true
   },
   "outputs": [],
   "source": [
    "'''\n",
    "Save the scorrings of the different parameters.\n",
    "'''\n",
    "best_esti = pd.DataFrame(clf.cv_results_)\n",
    "best_esti.to_pickle('bestEsti5')"
   ]
  },
  {
   "cell_type": "code",
   "execution_count": 26,
   "metadata": {},
   "outputs": [
    {
     "data": {
      "text/plain": [
       "XGBClassifier(base_score=0.5, booster='gbtree', colsample_bylevel=1,\n",
       "       colsample_bytree=1, eval_metric='auc', gamma=1, learning_rate=0.5,\n",
       "       max_delta_step=5, max_depth=5, min_child_weight=1, missing=None,\n",
       "       n_estimators=100, n_jobs=15, nthread=None,\n",
       "       objective='binary:logistic', random_state=0, reg_alpha=0,\n",
       "       reg_lambda=1, scale_pos_weight=1, seed=None, silent=True,\n",
       "       subsample=0.25)"
      ]
     },
     "execution_count": 26,
     "metadata": {},
     "output_type": "execute_result"
    }
   ],
   "source": [
    "best_esti = pd.read_pickle('bestEsti5')\n",
    "a = np.argsort(best_esti['mean_test_score'].values)\n",
    "best_esti.loc[a[-1]]\n",
    "clf.best_estimator_"
   ]
  },
  {
   "cell_type": "code",
   "execution_count": 28,
   "metadata": {},
   "outputs": [],
   "source": [
    "xgbc = XGBClassifier(\n",
    "    booster= 'gbtree',\n",
    "    eval_metric= 'auc',\n",
    "    gamma= 1,\n",
    "    learning_rate= 0.5,\n",
    "    max_delta_step= 5,\n",
    "    max_depth= 5,\n",
    "    n_estimators= 100,\n",
    "    n_jobs= 15,\n",
    "    reg_lambda= 1,\n",
    "    subsample= 0.25,\n",
    ")\n",
    "\n",
    "score= cross_val_score(xgbc, data.drop('label', axis=1), data.label)"
   ]
  },
  {
   "cell_type": "code",
   "execution_count": 29,
   "metadata": {},
   "outputs": [
    {
     "data": {
      "text/plain": [
       "0.85163611111111115"
      ]
     },
     "execution_count": 29,
     "metadata": {},
     "output_type": "execute_result"
    }
   ],
   "source": [
    "score.mean()"
   ]
  },
  {
   "cell_type": "code",
   "execution_count": null,
   "metadata": {
    "collapsed": true
   },
   "outputs": [],
   "source": [
    "clf.best_"
   ]
  }
 ],
 "metadata": {
  "kernelspec": {
   "display_name": "Python [conda env:msackel]",
   "language": "python",
   "name": "conda-env-msackel-py"
  },
  "language_info": {
   "codemirror_mode": {
    "name": "ipython",
    "version": 3
   },
   "file_extension": ".py",
   "mimetype": "text/x-python",
   "name": "python",
   "nbconvert_exporter": "python",
   "pygments_lexer": "ipython3",
   "version": "3.6.1"
  }
 },
 "nbformat": 4,
 "nbformat_minor": 2
}
