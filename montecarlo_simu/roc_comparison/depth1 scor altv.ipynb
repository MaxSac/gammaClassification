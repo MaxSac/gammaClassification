{
 "cells": [
  {
   "cell_type": "code",
   "execution_count": 1,
   "metadata": {
    "collapsed": true
   },
   "outputs": [],
   "source": [
    "import pandas as pd\n",
    "import numpy as np\n",
    "import matplotlib.pyplot as plt\n",
    "from xgboost.sklearn import XGBClassifier\n",
    "from sklearn.model_selection import GridSearchCV\n",
    "from sklearn.model_selection import cross_val_score\n",
    "from sklearn.ensemble import RandomForestClassifier\n",
    "import yaml\n",
    "\n",
    "xgbc = XGBClassifier(\n",
    "    max_depth= 1,\n",
    "    booster= 'gbtree',\n",
    "    n_jobs= 15,\n",
    "    subsample= 0.20,\n",
    "    eval_metric= 'auc',\n",
    "    binary= 'logitraw',\n",
    ")\n",
    "\n",
    "parametergrid = {\n",
    "    'learning_rate': [0.5,1, 10],\n",
    "    'n_estimators': [10, 20, 50],\n",
    "    'gamma': [ 0.1, 1, 10],\n",
    "    'reg_lambda': [10, 1,0.1, 0.01, 0.001],\n",
    "    'max_delta_step': [10, 5, 1, 0.1],\n",
    "}"
   ]
  },
  {
   "cell_type": "code",
   "execution_count": 2,
   "metadata": {
    "collapsed": true
   },
   "outputs": [],
   "source": [
    "clf = GridSearchCV(\n",
    "        xgbc,\n",
    "        param_grid= parametergrid,\n",
    "        scoring='roc_auc',\n",
    "        cv=3\n",
    "        )"
   ]
  },
  {
   "cell_type": "code",
   "execution_count": 3,
   "metadata": {
    "collapsed": true
   },
   "outputs": [],
   "source": [
    "data = pd.read_pickle('/home/msackel/Desktop/gammaClassification/data/complete_Datasets/dataCrab')"
   ]
  },
  {
   "cell_type": "code",
   "execution_count": 4,
   "metadata": {},
   "outputs": [
    {
     "data": {
      "text/plain": [
       "GridSearchCV(cv=3, error_score='raise',\n",
       "       estimator=XGBClassifier(base_score=0.5, binary='logitraw', booster='gbtree',\n",
       "       colsample_bylevel=1, colsample_bytree=1, eval_metric='auc', gamma=0,\n",
       "       learning_rate=0.1, max_delta_step=0, max_depth=1,\n",
       "       min_child_weight=1, missing=None, n_estimators=100, n_jobs=15,\n",
       "       nthread=None, objective='binary:logistic', random_state=0,\n",
       "       reg_alpha=0, reg_lambda=1, scale_pos_weight=1, seed=None,\n",
       "       silent=True, subsample=0.2),\n",
       "       fit_params={}, iid=True, n_jobs=1,\n",
       "       param_grid={'learning_rate': [0.5, 1, 10], 'n_estimators': [10, 20, 50], 'gamma': [0.1, 1, 10], 'reg_lambda': [10, 1, 0.1, 0.01, 0.001], 'max_delta_step': [10, 5, 1, 0.1]},\n",
       "       pre_dispatch='2*n_jobs', refit=True, return_train_score=True,\n",
       "       scoring='roc_auc', verbose=0)"
      ]
     },
     "execution_count": 4,
     "metadata": {},
     "output_type": "execute_result"
    }
   ],
   "source": [
    "clf.fit(data.drop('label', axis=1), data.label)"
   ]
  },
  {
   "cell_type": "code",
   "execution_count": 5,
   "metadata": {
    "collapsed": true
   },
   "outputs": [],
   "source": [
    "'''\n",
    "Save the scorrings of the different parameters.\n",
    "'''\n",
    "best_esti = pd.DataFrame(clf.cv_results_)\n",
    "best_esti.to_pickle('bestEsti')"
   ]
  },
  {
   "cell_type": "code",
   "execution_count": 6,
   "metadata": {},
   "outputs": [
    {
     "data": {
      "text/plain": [
       "{'gamma': 1,\n",
       " 'learning_rate': 1,\n",
       " 'max_delta_step': 1,\n",
       " 'n_estimators': 50,\n",
       " 'reg_lambda': 1}"
      ]
     },
     "execution_count": 6,
     "metadata": {},
     "output_type": "execute_result"
    }
   ],
   "source": [
    "best_esti = pd.read_pickle('bestEsti')\n",
    "a = np.argsort(best_esti['mean_test_score'].values)\n",
    "best_esti.loc[a[-1]]['params']"
   ]
  },
  {
   "cell_type": "code",
   "execution_count": 9,
   "metadata": {},
   "outputs": [
    {
     "data": {
      "text/plain": [
       "mean_fit_time                                                    0.635445\n",
       "mean_score_time                                                 0.0503155\n",
       "mean_test_score                                                  0.872652\n",
       "mean_train_score                                                 0.873693\n",
       "param_gamma                                                             1\n",
       "param_learning_rate                                                     1\n",
       "param_max_delta_step                                                    1\n",
       "param_n_estimators                                                     50\n",
       "param_reg_lambda                                                        1\n",
       "params                  {'gamma': 1, 'learning_rate': 1, 'max_delta_st...\n",
       "rank_test_score                                                         1\n",
       "split0_test_score                                                0.865978\n",
       "split0_train_score                                               0.876765\n",
       "split1_test_score                                                0.870717\n",
       "split1_train_score                                               0.874484\n",
       "split2_test_score                                                 0.88126\n",
       "split2_train_score                                               0.869831\n",
       "std_fit_time                                                   0.00298234\n",
       "std_score_time                                                 0.00170778\n",
       "std_test_score                                                 0.00638745\n",
       "std_train_score                                                0.00288565\n",
       "Name: 281, dtype: object"
      ]
     },
     "execution_count": 9,
     "metadata": {},
     "output_type": "execute_result"
    }
   ],
   "source": [
    "best_esti.loc[a[-1]]"
   ]
  },
  {
   "cell_type": "code",
   "execution_count": 15,
   "metadata": {},
   "outputs": [
    {
     "data": {
      "text/plain": [
       "0.80939722222222221"
      ]
     },
     "execution_count": 15,
     "metadata": {},
     "output_type": "execute_result"
    }
   ],
   "source": [
    "xgbc = XGBClassifier(\n",
    "    max_depth= 1,\n",
    "    booster= 'gbtree',\n",
    "    n_jobs= 15,\n",
    "    subsample= 0.20,\n",
    "    eval_metric= 'auc',\n",
    "    binary= 'logitraw',\n",
    "    gamma= 1,\n",
    "    learning_rate= 1,\n",
    "    max_delta_step= 1,\n",
    "    n_estimators= 50,\n",
    "    reg_lambda= 1\n",
    ")\n",
    "cross_val_score(xgbc, data.drop('label', axis=1), data.label).mean()"
   ]
  },
  {
   "cell_type": "code",
   "execution_count": null,
   "metadata": {
    "collapsed": true
   },
   "outputs": [],
   "source": []
  }
 ],
 "metadata": {
  "kernelspec": {
   "display_name": "Python [conda env:msackel]",
   "language": "python",
   "name": "conda-env-msackel-py"
  },
  "language_info": {
   "codemirror_mode": {
    "name": "ipython",
    "version": 3
   },
   "file_extension": ".py",
   "mimetype": "text/x-python",
   "name": "python",
   "nbconvert_exporter": "python",
   "pygments_lexer": "ipython3",
   "version": "3.6.1"
  }
 },
 "nbformat": 4,
 "nbformat_minor": 2
}
