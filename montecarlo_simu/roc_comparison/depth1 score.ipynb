{
 "cells": [
  {
   "cell_type": "code",
   "execution_count": 1,
   "metadata": {
    "collapsed": true
   },
   "outputs": [],
   "source": [
    "import pandas as pd\n",
    "import numpy as np\n",
    "import matplotlib.pyplot as plt\n",
    "from xgboost.sklearn import XGBClassifier\n",
    "from sklearn.model_selection import GridSearchCV\n",
    "from sklearn.model_selection import cross_val_score\n",
    "from sklearn.ensemble import RandomForestClassifier\n",
    "import yaml"
   ]
  },
  {
   "cell_type": "code",
   "execution_count": 2,
   "metadata": {
    "collapsed": true
   },
   "outputs": [],
   "source": [
    "exec(open('/home/msackel/Desktop/gammaClassification/programm/theta_cut/theta_cut.py').read()) \n",
    "exec(open('/home/msackel/Desktop/gammaClassification/programm/model_significance/model_significance.py').read()) \n",
    " \n",
    "with open('/home/msackel/Desktop/gammaClassification/config/feature.yaml') as f: \n",
    "        feature = yaml.load(f) "
   ]
  },
  {
   "cell_type": "code",
   "execution_count": 3,
   "metadata": {},
   "outputs": [],
   "source": [
    "train_data = theta_cut('/home/msackel/Desktop/gammaClassification/data/raw_data/gamma_precuts.hdf5',  \n",
    "                '/home/msackel/Desktop/gammaClassification/data/raw_data/mrk501_2014_precuts.hdf5', 0.01,100000)  "
   ]
  },
  {
   "cell_type": "code",
   "execution_count": 4,
   "metadata": {
    "collapsed": true
   },
   "outputs": [],
   "source": [
    "xgbc = XGBClassifier(\n",
    "    max_depth= 1,\n",
    "    booster= 'gbtree',\n",
    "    n_jobs= 35,\n",
    "    eval_metric= 'auc',\n",
    "    min_child_weight= 10,\n",
    "    gamma= 0.01,\n",
    "    subsample= 0.2,\n",
    "    learning_rate= 0.72,\n",
    ")\n",
    "\n",
    "parametergrid = {\n",
    "    'reg_lambda': [1,0.1, 0.01],\n",
    "}"
   ]
  },
  {
   "cell_type": "code",
   "execution_count": 5,
   "metadata": {
    "collapsed": true
   },
   "outputs": [],
   "source": [
    "clf = GridSearchCV(\n",
    "        xgbc,\n",
    "        param_grid= parametergrid,\n",
    "        scoring='roc_auc',\n",
    "        cv=2\n",
    "        )"
   ]
  },
  {
   "cell_type": "code",
   "execution_count": 6,
   "metadata": {},
   "outputs": [
    {
     "data": {
      "text/plain": [
       "GridSearchCV(cv=2, error_score='raise',\n",
       "       estimator=XGBClassifier(base_score=0.5, booster='gbtree', colsample_bylevel=1,\n",
       "       colsample_bytree=1, eval_metric='auc', gamma=0.01,\n",
       "       learning_rate=0.72, max_delta_step=0, max_depth=1,\n",
       "       min_child_weight=10, missing=None, n_estimators=100, n_jobs=35,\n",
       "       nthread=None, objective='binary:logistic', random_state=0,\n",
       "       reg_alpha=0, reg_lambda=1, scale_pos_weight=1, seed=None,\n",
       "       silent=True, subsample=0.2),\n",
       "       fit_params={}, iid=True, n_jobs=1,\n",
       "       param_grid={'reg_lambda': [1, 0.1, 0.01]}, pre_dispatch='2*n_jobs',\n",
       "       refit=True, return_train_score=True, scoring='roc_auc', verbose=0)"
      ]
     },
     "execution_count": 6,
     "metadata": {},
     "output_type": "execute_result"
    }
   ],
   "source": [
    "clf.fit(train_data.drop('label', axis=1), train_data.label)"
   ]
  },
  {
   "cell_type": "code",
   "execution_count": 7,
   "metadata": {
    "collapsed": true
   },
   "outputs": [],
   "source": [
    "'''\n",
    "Save the scorrings of the different parameters.\n",
    "'''\n",
    "best_esti = pd.DataFrame(clf.cv_results_)\n",
    "best_esti.to_pickle('bestEsti')"
   ]
  },
  {
   "cell_type": "code",
   "execution_count": 8,
   "metadata": {},
   "outputs": [
    {
     "data": {
      "text/plain": [
       "{'reg_lambda': 0.1}"
      ]
     },
     "execution_count": 8,
     "metadata": {},
     "output_type": "execute_result"
    }
   ],
   "source": [
    "best_esti = pd.read_pickle('bestEsti')\n",
    "a = np.argsort(best_esti['mean_test_score'].values)\n",
    "best_esti.loc[a[-1]]['params']"
   ]
  },
  {
   "cell_type": "code",
   "execution_count": 9,
   "metadata": {},
   "outputs": [
    {
     "data": {
      "text/html": [
       "<div>\n",
       "<style>\n",
       "    .dataframe thead tr:only-child th {\n",
       "        text-align: right;\n",
       "    }\n",
       "\n",
       "    .dataframe thead th {\n",
       "        text-align: left;\n",
       "    }\n",
       "\n",
       "    .dataframe tbody tr th {\n",
       "        vertical-align: top;\n",
       "    }\n",
       "</style>\n",
       "<table border=\"1\" class=\"dataframe\">\n",
       "  <thead>\n",
       "    <tr style=\"text-align: right;\">\n",
       "      <th></th>\n",
       "      <th>mean_fit_time</th>\n",
       "      <th>mean_score_time</th>\n",
       "      <th>mean_test_score</th>\n",
       "      <th>mean_train_score</th>\n",
       "      <th>param_reg_lambda</th>\n",
       "      <th>params</th>\n",
       "      <th>rank_test_score</th>\n",
       "      <th>split0_test_score</th>\n",
       "      <th>split0_train_score</th>\n",
       "      <th>split1_test_score</th>\n",
       "      <th>split1_train_score</th>\n",
       "      <th>std_fit_time</th>\n",
       "      <th>std_score_time</th>\n",
       "      <th>std_test_score</th>\n",
       "      <th>std_train_score</th>\n",
       "    </tr>\n",
       "  </thead>\n",
       "  <tbody>\n",
       "    <tr>\n",
       "      <th>1</th>\n",
       "      <td>0.614860</td>\n",
       "      <td>0.060172</td>\n",
       "      <td>0.837889</td>\n",
       "      <td>0.840026</td>\n",
       "      <td>0.1</td>\n",
       "      <td>{'reg_lambda': 0.1}</td>\n",
       "      <td>1</td>\n",
       "      <td>0.836301</td>\n",
       "      <td>0.841666</td>\n",
       "      <td>0.839478</td>\n",
       "      <td>0.838386</td>\n",
       "      <td>0.003377</td>\n",
       "      <td>0.000373</td>\n",
       "      <td>0.001588</td>\n",
       "      <td>0.001640</td>\n",
       "    </tr>\n",
       "    <tr>\n",
       "      <th>2</th>\n",
       "      <td>0.613948</td>\n",
       "      <td>0.060856</td>\n",
       "      <td>0.837889</td>\n",
       "      <td>0.840027</td>\n",
       "      <td>0.01</td>\n",
       "      <td>{'reg_lambda': 0.01}</td>\n",
       "      <td>2</td>\n",
       "      <td>0.836300</td>\n",
       "      <td>0.841666</td>\n",
       "      <td>0.839477</td>\n",
       "      <td>0.838387</td>\n",
       "      <td>0.002745</td>\n",
       "      <td>0.000063</td>\n",
       "      <td>0.001588</td>\n",
       "      <td>0.001639</td>\n",
       "    </tr>\n",
       "    <tr>\n",
       "      <th>0</th>\n",
       "      <td>0.662939</td>\n",
       "      <td>0.072659</td>\n",
       "      <td>0.837862</td>\n",
       "      <td>0.839820</td>\n",
       "      <td>1</td>\n",
       "      <td>{'reg_lambda': 1}</td>\n",
       "      <td>3</td>\n",
       "      <td>0.836028</td>\n",
       "      <td>0.841560</td>\n",
       "      <td>0.839695</td>\n",
       "      <td>0.838080</td>\n",
       "      <td>0.048023</td>\n",
       "      <td>0.010274</td>\n",
       "      <td>0.001833</td>\n",
       "      <td>0.001740</td>\n",
       "    </tr>\n",
       "  </tbody>\n",
       "</table>\n",
       "</div>"
      ],
      "text/plain": [
       "   mean_fit_time  mean_score_time  mean_test_score  mean_train_score  \\\n",
       "1       0.614860         0.060172         0.837889          0.840026   \n",
       "2       0.613948         0.060856         0.837889          0.840027   \n",
       "0       0.662939         0.072659         0.837862          0.839820   \n",
       "\n",
       "  param_reg_lambda                params  rank_test_score  split0_test_score  \\\n",
       "1              0.1   {'reg_lambda': 0.1}                1           0.836301   \n",
       "2             0.01  {'reg_lambda': 0.01}                2           0.836300   \n",
       "0                1     {'reg_lambda': 1}                3           0.836028   \n",
       "\n",
       "   split0_train_score  split1_test_score  split1_train_score  std_fit_time  \\\n",
       "1            0.841666           0.839478            0.838386      0.003377   \n",
       "2            0.841666           0.839477            0.838387      0.002745   \n",
       "0            0.841560           0.839695            0.838080      0.048023   \n",
       "\n",
       "   std_score_time  std_test_score  std_train_score  \n",
       "1        0.000373        0.001588         0.001640  \n",
       "2        0.000063        0.001588         0.001639  \n",
       "0        0.010274        0.001833         0.001740  "
      ]
     },
     "execution_count": 9,
     "metadata": {},
     "output_type": "execute_result"
    }
   ],
   "source": [
    "best_esti.loc[a[::-1]]"
   ]
  },
  {
   "cell_type": "code",
   "execution_count": 10,
   "metadata": {
    "collapsed": true
   },
   "outputs": [],
   "source": [
    "xgbc = XGBClassifier(\n",
    "    max_depth= 1,\n",
    "    learning_rate= 0.5,\n",
    "    n_estimators= 100,\n",
    "    booster= 'gbtree',\n",
    "    gamma= 0.5,\n",
    "    n_jobs= 15,\n",
    "    reg_lambda= 0.1,\n",
    "    subsample= 0.20,\n",
    "    eval_metric= 'auc'\n",
    ")"
   ]
  },
  {
   "cell_type": "code",
   "execution_count": 13,
   "metadata": {
    "collapsed": true
   },
   "outputs": [],
   "source": [
    "score = cross_val_score(xgbc, train_data.drop('label', axis=1), train_data.label, cv= 5, scoring='roc_auc')"
   ]
  },
  {
   "cell_type": "code",
   "execution_count": 14,
   "metadata": {},
   "outputs": [
    {
     "data": {
      "text/plain": [
       "0.83710087124999999"
      ]
     },
     "execution_count": 14,
     "metadata": {},
     "output_type": "execute_result"
    }
   ],
   "source": [
    "score.mean()"
   ]
  },
  {
   "cell_type": "code",
   "execution_count": null,
   "metadata": {
    "collapsed": true
   },
   "outputs": [],
   "source": []
  },
  {
   "cell_type": "code",
   "execution_count": 15,
   "metadata": {
    "scrolled": true
   },
   "outputs": [
    {
     "name": "stderr",
     "output_type": "stream",
     "text": [
      "[Parallel(n_jobs=25)]: Done 100 out of 100 | elapsed:    8.1s finished\n",
      "[Parallel(n_jobs=25)]: Done 100 out of 100 | elapsed:    0.1s finished\n",
      "[Parallel(n_jobs=25)]: Done 100 out of 100 | elapsed:    8.1s finished\n",
      "[Parallel(n_jobs=25)]: Done 100 out of 100 | elapsed:    0.1s finished\n",
      "[Parallel(n_jobs=25)]: Done 100 out of 100 | elapsed:    7.7s finished\n",
      "[Parallel(n_jobs=25)]: Done 100 out of 100 | elapsed:    0.1s finished\n",
      "[Parallel(n_jobs=25)]: Done 100 out of 100 | elapsed:    7.7s finished\n",
      "[Parallel(n_jobs=25)]: Done 100 out of 100 | elapsed:    0.1s finished\n",
      "[Parallel(n_jobs=25)]: Done 100 out of 100 | elapsed:    7.8s finished\n",
      "[Parallel(n_jobs=25)]: Done 100 out of 100 | elapsed:    0.1s finished\n"
     ]
    },
    {
     "data": {
      "text/plain": [
       "0.85301475000000004"
      ]
     },
     "execution_count": 15,
     "metadata": {},
     "output_type": "execute_result"
    }
   ],
   "source": [
    "Tree = RandomForestClassifier(n_estimators=100, max_depth=15, max_features=6, n_jobs=25, verbose=1, bootstrap=True, criterion='entropy')\n",
    "Score = cross_val_score(Tree, train_data.drop('label', axis=1), train_data.label, cv= 5, scoring='roc_auc')\n",
    "Score.mean()"
   ]
  },
  {
   "cell_type": "code",
   "execution_count": 152,
   "metadata": {},
   "outputs": [
    {
     "name": "stderr",
     "output_type": "stream",
     "text": [
      "[Parallel(n_jobs=25)]: Done 100 out of 100 | elapsed:   10.1s finished\n"
     ]
    },
    {
     "data": {
      "text/plain": [
       "RandomForestClassifier(bootstrap=True, class_weight=None, criterion='entropy',\n",
       "            max_depth=15, max_features=6, max_leaf_nodes=None,\n",
       "            min_impurity_split=1e-07, min_samples_leaf=1,\n",
       "            min_samples_split=2, min_weight_fraction_leaf=0.0,\n",
       "            n_estimators=100, n_jobs=25, oob_score=False,\n",
       "            random_state=None, verbose=1, warm_start=False)"
      ]
     },
     "execution_count": 152,
     "metadata": {},
     "output_type": "execute_result"
    }
   ],
   "source": [
    "xgbc.fit(train_data.drop('label', axis=1), train_data.label)\n",
    "Tree.fit(train_data.drop('label', axis=1), train_data.label)"
   ]
  },
  {
   "cell_type": "code",
   "execution_count": 160,
   "metadata": {},
   "outputs": [
    {
     "data": {
      "image/png": "[encoded data removed]",
      "text/plain": [
       "<matplotlib.figure.Figure at 0x7fb919aaefd0>"
      ]
     },
     "metadata": {},
     "output_type": "display_data"
    }
   ],
   "source": [
    "plt.bar(np.arange(12), Tree.feature_importances_, width=0.4, label='Tree')\n",
    "plt.bar(np.arange(12)+0.4, xgbc.feature_importances_, width=0.4, label='XGBC')\n",
    "plt.xticks(np.arange(12)+0.2, train_data.drop('label', axis=1).keys(), rotation=90)\n",
    "plt.legend()\n",
    "plt.tight_layout()\n",
    "plt.show()"
   ]
  },
  {
   "cell_type": "code",
   "execution_count": 179,
   "metadata": {},
   "outputs": [
    {
     "data": {
      "image/png": "[encoded data removed]",
      "text/plain": [
       "<matplotlib.figure.Figure at 0x7fb95c2f1908>"
      ]
     },
     "metadata": {},
     "output_type": "display_data"
    }
   ],
   "source": [
    "plt.hist(train_data.query('label == 1').ph_charge_shower_mean, normed=True,bins=100, histtype='step')\n",
    "plt.hist(train_data.query('label == 0').ph_charge_shower_mean, normed=True,bins=100, histtype='step')\n",
    "plt.yscale('log')\n",
    "plt.show()"
   ]
  },
  {
   "cell_type": "code",
   "execution_count": null,
   "metadata": {
    "collapsed": true
   },
   "outputs": [],
   "source": []
  }
 ],
 "metadata": {
  "kernelspec": {
   "display_name": "Python [conda env:msackel]",
   "language": "python",
   "name": "conda-env-msackel-py"
  },
  "language_info": {
   "codemirror_mode": {
    "name": "ipython",
    "version": 3
   },
   "file_extension": ".py",
   "mimetype": "text/x-python",
   "name": "python",
   "nbconvert_exporter": "python",
   "pygments_lexer": "ipython3",
   "version": "3.6.1"
  }
 },
 "nbformat": 4,
 "nbformat_minor": 2
}
