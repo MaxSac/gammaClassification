{
 "cells": [
  {
   "cell_type": "code",
   "execution_count": 1,
   "metadata": {
    "collapsed": true
   },
   "outputs": [],
   "source": [
    "import pandas as pd\n",
    "import numpy as np\n",
    "import matplotlib.pyplot as plt\n",
    "from xgboost.sklearn import XGBClassifier\n",
    "from sklearn.model_selection import GridSearchCV\n",
    "from sklearn.model_selection import cross_val_score\n",
    "from sklearn.ensemble import RandomForestClassifier\n",
    "import yaml\n",
    "\n",
    "xgbc = XGBClassifier(\n",
    "    max_depth= 1,\n",
    "    booster= 'gbtree',\n",
    "    n_jobs= 15,\n",
    "    subsample= 0.20,\n",
    "    eval_metric= 'auc',\n",
    ")\n",
    "\n",
    "parametergrid = {\n",
    "    'learning_rate': [0.5,1, 10],\n",
    "    'n_estimators': [10, 20, 50],\n",
    "    'gamma': [ 0.1, 1, 10],\n",
    "    'reg_lambda': [10, 1,0.1, 0.01, 0.001],\n",
    "    'max_delta_step': [10, 5, 1, 0.1],\n",
    "}"
   ]
  },
  {
   "cell_type": "code",
   "execution_count": 44,
   "metadata": {
    "collapsed": true
   },
   "outputs": [],
   "source": [
    "clf = GridSearchCV(\n",
    "        xgbc,\n",
    "        param_grid= parametergrid,\n",
    "        scoring='roc_auc',\n",
    "        cv=5\n",
    "        )"
   ]
  },
  {
   "cell_type": "code",
   "execution_count": 45,
   "metadata": {
    "collapsed": true
   },
   "outputs": [],
   "source": [
    "data = pd.read_pickle('/home/msackel/Desktop/gammaClassification/data/complete_Datasets/dataCrab')"
   ]
  },
  {
   "cell_type": "code",
   "execution_count": 46,
   "metadata": {},
   "outputs": [
    {
     "data": {
      "text/plain": [
       "GridSearchCV(cv=5, error_score='raise',\n",
       "       estimator=XGBClassifier(base_score=0.5, booster='gbtree', colsample_bylevel=1,\n",
       "       colsample_bytree=1, eval_metric='auc', gamma=0.1, learning_rate=0.1,\n",
       "       max_delta_step=10, max_depth=1, min_child_weight=1, missing=None,\n",
       "       n_estimators=100, n_jobs=25, nthread=None,\n",
       "       objective='binary:logistic', random_state=0, reg_alpha=0,\n",
       "       reg_lambda=0.001, scale_pos_weight=1, seed=None, silent=True,\n",
       "       subsample=0.2),\n",
       "       fit_params={}, iid=True, n_jobs=1,\n",
       "       param_grid={'learning_rate': [0.5, 0.8, 1, 1.2], 'n_estimators': [10, 20, 50, 80], 'reg_lambda': [0.001, 0.0001]},\n",
       "       pre_dispatch='2*n_jobs', refit=True, return_train_score=True,\n",
       "       scoring='roc_auc', verbose=0)"
      ]
     },
     "execution_count": 46,
     "metadata": {},
     "output_type": "execute_result"
    }
   ],
   "source": [
    "clf.fit(data.drop('label', axis=1), data.label)"
   ]
  },
  {
   "cell_type": "code",
   "execution_count": 47,
   "metadata": {
    "collapsed": true
   },
   "outputs": [],
   "source": [
    "'''\n",
    "Save the scorrings of the different parameters.\n",
    "'''\n",
    "best_esti = pd.DataFrame(clf.cv_results_)\n",
    "best_esti.to_pickle('bestEsti')"
   ]
  },
  {
   "cell_type": "code",
   "execution_count": 48,
   "metadata": {},
   "outputs": [
    {
     "data": {
      "text/plain": [
       "{'learning_rate': 1.2, 'n_estimators': 80, 'reg_lambda': 0.0001}"
      ]
     },
     "execution_count": 48,
     "metadata": {},
     "output_type": "execute_result"
    }
   ],
   "source": [
    "best_esti = pd.read_pickle('bestEsti')\n",
    "a = np.argsort(best_esti['mean_test_score'].values)\n",
    "best_esti.loc[a[-1]]['params']"
   ]
  },
  {
   "cell_type": "code",
   "execution_count": null,
   "metadata": {
    "collapsed": true
   },
   "outputs": [],
   "source": []
  },
  {
   "cell_type": "code",
   "execution_count": 68,
   "metadata": {
    "collapsed": true
   },
   "outputs": [],
   "source": [
    "xgbc = XGBClassifier(\n",
    "    max_depth= 1,\n",
    "    booster= 'gbtree',\n",
    "    n_jobs= 15,\n",
    "    subsample= 0.20,\n",
    "    eval_metric= 'auc',\n",
    "    gamma=0.1,\n",
    "    learning_rate = 1.0,\n",
    "    max_delta_step = 10,\n",
    "    n_estimators= 50, \n",
    "    reg_lambda= 0.001\n",
    ")"
   ]
  },
  {
   "cell_type": "code",
   "execution_count": 71,
   "metadata": {
    "collapsed": true
   },
   "outputs": [],
   "source": [
    "score = cross_val_score(xgbc, data.drop('label', axis=1), data.label, cv= 5)"
   ]
  },
  {
   "cell_type": "code",
   "execution_count": 72,
   "metadata": {},
   "outputs": [
    {
     "data": {
      "text/plain": [
       "0.81118611111111105"
      ]
     },
     "execution_count": 72,
     "metadata": {},
     "output_type": "execute_result"
    }
   ],
   "source": [
    "score.mean()"
   ]
  },
  {
   "cell_type": "code",
   "execution_count": 73,
   "metadata": {},
   "outputs": [
    {
     "name": "stderr",
     "output_type": "stream",
     "text": [
      "[Parallel(n_jobs=15)]: Done  20 tasks      | elapsed:    6.2s\n",
      "[Parallel(n_jobs=15)]: Done 100 out of 100 | elapsed:   20.9s finished\n",
      "[Parallel(n_jobs=15)]: Done  20 tasks      | elapsed:    0.0s\n",
      "[Parallel(n_jobs=15)]: Done 100 out of 100 | elapsed:    0.1s finished\n",
      "[Parallel(n_jobs=15)]: Done  20 tasks      | elapsed:    6.1s\n",
      "[Parallel(n_jobs=15)]: Done 100 out of 100 | elapsed:   20.9s finished\n",
      "[Parallel(n_jobs=15)]: Done  20 tasks      | elapsed:    0.1s\n",
      "[Parallel(n_jobs=15)]: Done 100 out of 100 | elapsed:    0.1s finished\n",
      "[Parallel(n_jobs=15)]: Done  20 tasks      | elapsed:    6.0s\n",
      "[Parallel(n_jobs=15)]: Done 100 out of 100 | elapsed:   20.8s finished\n",
      "[Parallel(n_jobs=15)]: Done  20 tasks      | elapsed:    0.0s\n",
      "[Parallel(n_jobs=15)]: Done 100 out of 100 | elapsed:    0.1s finished\n",
      "[Parallel(n_jobs=15)]: Done  20 tasks      | elapsed:    6.2s\n",
      "[Parallel(n_jobs=15)]: Done 100 out of 100 | elapsed:   21.0s finished\n",
      "[Parallel(n_jobs=15)]: Done  20 tasks      | elapsed:    0.0s\n",
      "[Parallel(n_jobs=15)]: Done 100 out of 100 | elapsed:    0.1s finished\n",
      "[Parallel(n_jobs=15)]: Done  20 tasks      | elapsed:    6.1s\n",
      "[Parallel(n_jobs=15)]: Done 100 out of 100 | elapsed:   20.8s finished\n",
      "[Parallel(n_jobs=15)]: Done  20 tasks      | elapsed:    0.0s\n",
      "[Parallel(n_jobs=15)]: Done 100 out of 100 | elapsed:    0.1s finished\n"
     ]
    },
    {
     "data": {
      "text/plain": [
       "0.82563055555555565"
      ]
     },
     "execution_count": 73,
     "metadata": {},
     "output_type": "execute_result"
    }
   ],
   "source": [
    "Tree = RandomForestClassifier(n_estimators=100, max_depth=15, max_features=6, n_jobs=15, verbose=1, bootstrap=True, criterion='entropy')\n",
    "Score = cross_val_score(Tree, data.drop('label', axis=1), data.label, cv= 5)\n",
    "Score.mean()"
   ]
  },
  {
   "cell_type": "code",
   "execution_count": 53,
   "metadata": {},
   "outputs": [
    {
     "name": "stdout",
     "output_type": "stream",
     "text": [
      "0.02 :  conc_core\n",
      "0.02 :  concentration_one_pixel\n",
      "0.04 :  concentration_two_pixel\n",
      "0.08 :  leakage\n",
      "0.22 :  leakage2\n",
      "0.02 :  size\n",
      "0.22 :  width\n",
      "0.06 :  num_islands\n",
      "0.02 :  num_pixel_in_shower\n",
      "0.0 :  ph_charge_shower_max\n",
      "0.14 :  ph_charge_shower_mean\n",
      "0.16 :  ph_charge_shower_min\n",
      "0.0 :  ph_charge_shower_variance\n"
     ]
    }
   ],
   "source": [
    "xgbc.fit(data.drop('label', axis=1), data.label)\n",
    "for x in range(len(xgbc.feature_importances_)):\n",
    "    print(xgbc.feature_importances_[x], ': ', data.keys()[x])"
   ]
  },
  {
   "cell_type": "code",
   "execution_count": 54,
   "metadata": {},
   "outputs": [
    {
     "name": "stderr",
     "output_type": "stream",
     "text": [
      "[Parallel(n_jobs=15)]: Done  20 tasks      | elapsed:    7.7s\n",
      "[Parallel(n_jobs=15)]: Done 100 out of 100 | elapsed:   27.6s finished\n"
     ]
    },
    {
     "data": {
      "text/plain": [
       "RandomForestClassifier(bootstrap=True, class_weight=None, criterion='entropy',\n",
       "            max_depth=15, max_features=6, max_leaf_nodes=None,\n",
       "            min_impurity_split=1e-07, min_samples_leaf=1,\n",
       "            min_samples_split=2, min_weight_fraction_leaf=0.0,\n",
       "            n_estimators=100, n_jobs=15, oob_score=False,\n",
       "            random_state=None, verbose=1, warm_start=False)"
      ]
     },
     "execution_count": 54,
     "metadata": {},
     "output_type": "execute_result"
    }
   ],
   "source": [
    "Tree = RandomForestClassifier(n_estimators=100, max_depth=15, max_features=6, n_jobs=15, verbose=1, bootstrap=True, criterion='entropy')\n",
    "Tree.fit(data.drop('label', axis=1), data.label)"
   ]
  },
  {
   "cell_type": "code",
   "execution_count": 55,
   "metadata": {},
   "outputs": [
    {
     "name": "stdout",
     "output_type": "stream",
     "text": [
      "0.02 :  conc_core\n",
      "0.03 :  concentration_one_pixel\n",
      "0.05 :  concentration_two_pixel\n",
      "0.13 :  leakage\n",
      "0.27 :  leakage2\n",
      "0.02 :  size\n",
      "0.2 :  width\n",
      "0.11 :  num_islands\n",
      "0.03 :  num_pixel_in_shower\n",
      "0.02 :  ph_charge_shower_max\n",
      "0.07 :  ph_charge_shower_mean\n",
      "0.01 :  ph_charge_shower_min\n",
      "0.03 :  ph_charge_shower_variance\n"
     ]
    }
   ],
   "source": [
    "for x in range(len(xgbc.feature_importances_)):\n",
    "    print(round(Tree.feature_importances_[x], 2), ': ', data.keys()[x])"
   ]
  },
  {
   "cell_type": "code",
   "execution_count": 28,
   "metadata": {},
   "outputs": [
    {
     "data": {
      "text/plain": [
       "array([ 0.01864949,  0.02979951,  0.05224457,  0.13649833,  0.25864633,\n",
       "        0.02012095,  0.19884142,  0.11455197,  0.02978185,  0.02088322,\n",
       "        0.07441104,  0.01447705,  0.03109427])"
      ]
     },
     "execution_count": 28,
     "metadata": {},
     "output_type": "execute_result"
    }
   ],
   "source": []
  },
  {
   "cell_type": "code",
   "execution_count": null,
   "metadata": {
    "collapsed": true
   },
   "outputs": [],
   "source": []
  }
 ],
 "metadata": {
  "kernelspec": {
   "display_name": "Python [conda env:msackel]",
   "language": "python",
   "name": "conda-env-msackel-py"
  },
  "language_info": {
   "codemirror_mode": {
    "name": "ipython",
    "version": 3
   },
   "file_extension": ".py",
   "mimetype": "text/x-python",
   "name": "python",
   "nbconvert_exporter": "python",
   "pygments_lexer": "ipython3",
   "version": "3.6.1"
  }
 },
 "nbformat": 4,
 "nbformat_minor": 2
}
