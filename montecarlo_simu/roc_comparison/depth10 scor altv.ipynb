{
 "cells": [
  {
   "cell_type": "code",
   "execution_count": 84,
   "metadata": {
    "collapsed": true
   },
   "outputs": [],
   "source": [
    "import pandas as pd\n",
    "import numpy as np\n",
    "import matplotlib.pyplot as plt\n",
    "from xgboost.sklearn import XGBClassifier\n",
    "from sklearn.model_selection import GridSearchCV\n",
    "from sklearn.model_selection import cross_val_score\n",
    "from sklearn.ensemble import RandomForestClassifier\n",
    "import yaml\n",
    "\n",
    "xgbc = XGBClassifier(\n",
    "    booster= 'gbtree',\n",
    "    n_jobs= 25,\n",
    "    eval_metric= 'auc',\n",
    "    max_depth= 10,\n",
    "    gamma= 1,\n",
    "    min_child_weight= 1,\n",
    "    subsample= 0.5,\n",
    "    colsample_bytree= 1,\n",
    "    learning_rate= 0.7,\n",
    "    scale_pos_weight= 10,\n",
    ")"
   ]
  },
  {
   "cell_type": "code",
   "execution_count": 78,
   "metadata": {
    "collapsed": true
   },
   "outputs": [],
   "source": [
    "clf = GridSearchCV(\n",
    "        xgbc,\n",
    "        param_grid= parametergrid,\n",
    "        scoring='roc_auc',\n",
    "        cv=3\n",
    "        )"
   ]
  },
  {
   "cell_type": "code",
   "execution_count": 79,
   "metadata": {
    "collapsed": true
   },
   "outputs": [],
   "source": [
    "data = pd.read_pickle('/home/msackel/Desktop/gammaClassification/data/complete_Datasets/dataCrab')"
   ]
  },
  {
   "cell_type": "code",
   "execution_count": 80,
   "metadata": {},
   "outputs": [
    {
     "data": {
      "text/plain": [
       "GridSearchCV(cv=3, error_score='raise',\n",
       "       estimator=XGBClassifier(base_score=0.5, booster='gbtree', colsample_bylevel=1,\n",
       "       colsample_bytree=1, eval_metric='auc', gamma=1, learning_rate=0.7,\n",
       "       max_delta_step=0, max_depth=10, min_child_weight=1, missing=None,\n",
       "       n_estimators=100, n_jobs=25, nthread=None,\n",
       "       objective='binary:logistic', random_state=0, reg_alpha=0,\n",
       "       reg_lambda=1, scale_pos_weight=10, seed=None, silent=True,\n",
       "       subsample=0.5),\n",
       "       fit_params={}, iid=True, n_jobs=1,\n",
       "       param_grid={'max_delta_step': [1, 0.1, 10]},\n",
       "       pre_dispatch='2*n_jobs', refit=True, return_train_score=True,\n",
       "       scoring='roc_auc', verbose=0)"
      ]
     },
     "execution_count": 80,
     "metadata": {},
     "output_type": "execute_result"
    }
   ],
   "source": [
    "clf.fit(data.drop('label', axis=1), data.label)"
   ]
  },
  {
   "cell_type": "code",
   "execution_count": 81,
   "metadata": {
    "collapsed": true
   },
   "outputs": [],
   "source": [
    "'''\n",
    "Save the scorrings of the different parameters.\n",
    "'''\n",
    "best_esti = pd.DataFrame(clf.cv_results_)\n",
    "best_esti.to_pickle('bestEstiAltnv')"
   ]
  },
  {
   "cell_type": "code",
   "execution_count": 82,
   "metadata": {},
   "outputs": [
    {
     "data": {
      "text/plain": [
       "{'max_delta_step': 10}"
      ]
     },
     "execution_count": 82,
     "metadata": {},
     "output_type": "execute_result"
    }
   ],
   "source": [
    "best_esti = pd.read_pickle('bestEstiAltnv')\n",
    "a = np.argsort(best_esti['mean_test_score'].values)\n",
    "best_esti.loc[a[-1]]['params']"
   ]
  },
  {
   "cell_type": "code",
   "execution_count": 83,
   "metadata": {},
   "outputs": [
    {
     "data": {
      "text/html": [
       "<div>\n",
       "<style>\n",
       "    .dataframe thead tr:only-child th {\n",
       "        text-align: right;\n",
       "    }\n",
       "\n",
       "    .dataframe thead th {\n",
       "        text-align: left;\n",
       "    }\n",
       "\n",
       "    .dataframe tbody tr th {\n",
       "        vertical-align: top;\n",
       "    }\n",
       "</style>\n",
       "<table border=\"1\" class=\"dataframe\">\n",
       "  <thead>\n",
       "    <tr style=\"text-align: right;\">\n",
       "      <th></th>\n",
       "      <th>mean_fit_time</th>\n",
       "      <th>mean_score_time</th>\n",
       "      <th>mean_test_score</th>\n",
       "      <th>mean_train_score</th>\n",
       "      <th>param_max_delta_step</th>\n",
       "      <th>params</th>\n",
       "      <th>rank_test_score</th>\n",
       "      <th>split0_test_score</th>\n",
       "      <th>split0_train_score</th>\n",
       "      <th>split1_test_score</th>\n",
       "      <th>split1_train_score</th>\n",
       "      <th>split2_test_score</th>\n",
       "      <th>split2_train_score</th>\n",
       "      <th>std_fit_time</th>\n",
       "      <th>std_score_time</th>\n",
       "      <th>std_test_score</th>\n",
       "      <th>std_train_score</th>\n",
       "    </tr>\n",
       "  </thead>\n",
       "  <tbody>\n",
       "    <tr>\n",
       "      <th>2</th>\n",
       "      <td>9.171626</td>\n",
       "      <td>0.130690</td>\n",
       "      <td>0.955847</td>\n",
       "      <td>0.989241</td>\n",
       "      <td>10</td>\n",
       "      <td>{'max_delta_step': 10}</td>\n",
       "      <td>1</td>\n",
       "      <td>0.954558</td>\n",
       "      <td>0.989686</td>\n",
       "      <td>0.952838</td>\n",
       "      <td>0.989129</td>\n",
       "      <td>0.960144</td>\n",
       "      <td>0.988909</td>\n",
       "      <td>0.178791</td>\n",
       "      <td>0.006748</td>\n",
       "      <td>0.003119</td>\n",
       "      <td>0.000327</td>\n",
       "    </tr>\n",
       "    <tr>\n",
       "      <th>0</th>\n",
       "      <td>8.850107</td>\n",
       "      <td>0.117103</td>\n",
       "      <td>0.953758</td>\n",
       "      <td>0.977346</td>\n",
       "      <td>1</td>\n",
       "      <td>{'max_delta_step': 1}</td>\n",
       "      <td>2</td>\n",
       "      <td>0.954822</td>\n",
       "      <td>0.979785</td>\n",
       "      <td>0.949592</td>\n",
       "      <td>0.975931</td>\n",
       "      <td>0.956860</td>\n",
       "      <td>0.976323</td>\n",
       "      <td>0.053920</td>\n",
       "      <td>0.003187</td>\n",
       "      <td>0.003061</td>\n",
       "      <td>0.001732</td>\n",
       "    </tr>\n",
       "    <tr>\n",
       "      <th>1</th>\n",
       "      <td>8.540761</td>\n",
       "      <td>0.109868</td>\n",
       "      <td>0.897429</td>\n",
       "      <td>0.908810</td>\n",
       "      <td>0.1</td>\n",
       "      <td>{'max_delta_step': 0.1}</td>\n",
       "      <td>3</td>\n",
       "      <td>0.891621</td>\n",
       "      <td>0.910847</td>\n",
       "      <td>0.896527</td>\n",
       "      <td>0.909069</td>\n",
       "      <td>0.904140</td>\n",
       "      <td>0.906514</td>\n",
       "      <td>0.157643</td>\n",
       "      <td>0.003086</td>\n",
       "      <td>0.005151</td>\n",
       "      <td>0.001779</td>\n",
       "    </tr>\n",
       "  </tbody>\n",
       "</table>\n",
       "</div>"
      ],
      "text/plain": [
       "   mean_fit_time  mean_score_time  mean_test_score  mean_train_score  \\\n",
       "2       9.171626         0.130690         0.955847          0.989241   \n",
       "0       8.850107         0.117103         0.953758          0.977346   \n",
       "1       8.540761         0.109868         0.897429          0.908810   \n",
       "\n",
       "  param_max_delta_step                   params  rank_test_score  \\\n",
       "2                   10   {'max_delta_step': 10}                1   \n",
       "0                    1    {'max_delta_step': 1}                2   \n",
       "1                  0.1  {'max_delta_step': 0.1}                3   \n",
       "\n",
       "   split0_test_score  split0_train_score  split1_test_score  \\\n",
       "2           0.954558            0.989686           0.952838   \n",
       "0           0.954822            0.979785           0.949592   \n",
       "1           0.891621            0.910847           0.896527   \n",
       "\n",
       "   split1_train_score  split2_test_score  split2_train_score  std_fit_time  \\\n",
       "2            0.989129           0.960144            0.988909      0.178791   \n",
       "0            0.975931           0.956860            0.976323      0.053920   \n",
       "1            0.909069           0.904140            0.906514      0.157643   \n",
       "\n",
       "   std_score_time  std_test_score  std_train_score  \n",
       "2        0.006748        0.003119         0.000327  \n",
       "0        0.003187        0.003061         0.001732  \n",
       "1        0.003086        0.005151         0.001779  "
      ]
     },
     "execution_count": 83,
     "metadata": {},
     "output_type": "execute_result"
    }
   ],
   "source": [
    "best_esti.loc[a[::-1]]"
   ]
  },
  {
   "cell_type": "code",
   "execution_count": 76,
   "metadata": {},
   "outputs": [
    {
     "data": {
      "text/plain": [
       "0.8968694444444445"
      ]
     },
     "execution_count": 76,
     "metadata": {},
     "output_type": "execute_result"
    }
   ],
   "source": [
    "xgbc = XGBClassifier(\n",
    "    booster= 'gbtree',\n",
    "    n_jobs= 25,\n",
    "    eval_metric= 'auc',\n",
    "    max_depth= 10,\n",
    "    gamma= 1,\n",
    "    min_child_weight= 1,\n",
    "    subsample= 0.5,\n",
    "    colsample_bytree= 1,\n",
    "    learning_rate= 0.7,\n",
    "    scale_pos_weight= 10,\n",
    ")\n",
    "cross_val_score(xgbc, data.drop('label', axis=1), data.label, cv=5).mean()"
   ]
  },
  {
   "cell_type": "code",
   "execution_count": null,
   "metadata": {
    "collapsed": true
   },
   "outputs": [],
   "source": []
  },
  {
   "cell_type": "code",
   "execution_count": null,
   "metadata": {
    "collapsed": true
   },
   "outputs": [],
   "source": []
  }
 ],
 "metadata": {
  "kernelspec": {
   "display_name": "Python [conda env:msackel]",
   "language": "python",
   "name": "conda-env-msackel-py"
  },
  "language_info": {
   "codemirror_mode": {
    "name": "ipython",
    "version": 3
   },
   "file_extension": ".py",
   "mimetype": "text/x-python",
   "name": "python",
   "nbconvert_exporter": "python",
   "pygments_lexer": "ipython3",
   "version": "3.6.1"
  }
 },
 "nbformat": 4,
 "nbformat_minor": 2
}
