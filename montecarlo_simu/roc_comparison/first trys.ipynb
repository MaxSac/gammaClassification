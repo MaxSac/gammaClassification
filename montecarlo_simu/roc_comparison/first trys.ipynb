{
 "cells": [
  {
   "cell_type": "code",
   "execution_count": 2,
   "metadata": {
    "collapsed": true
   },
   "outputs": [],
   "source": [
    "from sklearn.ensemble import RandomForestClassifier  \n",
    "from xgboost.sklearn import XGBClassifier\n",
    "from sklearn.model_selection import cross_val_score\n",
    "from fact.io import read_h5py \n",
    " \n",
    "\n",
    "with open('/home/msackel/Desktop/gammaClassification/config/feature.yaml') as f: \n",
    "        feature = yaml.load(f) "
   ]
  },
  {
   "cell_type": "code",
   "execution_count": 3,
   "metadata": {
    "collapsed": true
   },
   "outputs": [],
   "source": [
    "mc_hadron = pd.read_hdf('/home/msackel/Desktop/gammaClassification/data/raw_data/proton_precuts.hdf5')[feature]\n",
    "mc_gammas = pd.read_hdf('/home/msackel/Desktop/gammaClassification/data/raw_data/gamma_precuts.hdf5')[feature]\n",
    "mc_hadron['label'] = 0\n",
    "mc_gammas['label'] = 1"
   ]
  },
  {
   "cell_type": "code",
   "execution_count": 4,
   "metadata": {
    "collapsed": true
   },
   "outputs": [],
   "source": [
    "number_events = min(len(mc_hadron), len(mc_gammas))\n",
    "eval_data = pd.concat([mc_gammas[:number_events], mc_hadron[:number_events]])"
   ]
  },
  {
   "cell_type": "code",
   "execution_count": 5,
   "metadata": {},
   "outputs": [
    {
     "data": {
      "text/plain": [
       "0.78590827776874284"
      ]
     },
     "execution_count": 5,
     "metadata": {},
     "output_type": "execute_result"
    }
   ],
   "source": [
    "Tree = RandomForestClassifier(\n",
    "    max_depth=19, \n",
    "    max_features=7, \n",
    "    criterion='entropy', \n",
    "    n_estimators=100, \n",
    "    n_jobs=10) \n",
    "scores = cross_val_score(Tree, eval_data.drop('label', axis=1), eval_data.label)\n",
    "scores.mean()"
   ]
  },
  {
   "cell_type": "code",
   "execution_count": 22,
   "metadata": {},
   "outputs": [
    {
     "data": {
      "text/plain": [
       "array([ 0.7852659 ,  0.7943812 ,  0.78004554])"
      ]
     },
     "execution_count": 22,
     "metadata": {},
     "output_type": "execute_result"
    }
   ],
   "source": [
    "scores"
   ]
  },
  {
   "cell_type": "code",
   "execution_count": 35,
   "metadata": {},
   "outputs": [
    {
     "data": {
      "text/plain": [
       "0.77541876727923242"
      ]
     },
     "execution_count": 35,
     "metadata": {},
     "output_type": "execute_result"
    }
   ],
   "source": [
    "xgbc = XGBClassifier(\n",
    "    max_depth= 1,\n",
    "    learning_rate= 0.5,\n",
    "    n_estimators= 20,\n",
    "    booster= 'gbtree',\n",
    "    gamma= 0.5,\n",
    "    n_jobs= 15,\n",
    "    reg_lambda= 0.10,\n",
    "    max_delta_step= 0.2,\n",
    "    subsample= 0.20,\n",
    "    eval_metric= 'auc',\n",
    "    silent=0\n",
    ")\n",
    "\n",
    "scores = cross_val_score(xgbc, eval_data.drop('label', axis=1), eval_data.label)\n",
    "scores.mean()"
   ]
  },
  {
   "cell_type": "code",
   "execution_count": 36,
   "metadata": {},
   "outputs": [
    {
     "data": {
      "text/plain": [
       "array([ 0.77418279,  0.78387543,  0.76819808])"
      ]
     },
     "execution_count": 36,
     "metadata": {},
     "output_type": "execute_result"
    }
   ],
   "source": [
    "scores"
   ]
  },
  {
   "cell_type": "code",
   "execution_count": null,
   "metadata": {
    "collapsed": true
   },
   "outputs": [],
   "source": []
  }
 ],
 "metadata": {
  "kernelspec": {
   "display_name": "Python [conda env:msackel]",
   "language": "python",
   "name": "conda-env-msackel-py"
  },
  "language_info": {
   "codemirror_mode": {
    "name": "ipython",
    "version": 3
   },
   "file_extension": ".py",
   "mimetype": "text/x-python",
   "name": "python",
   "nbconvert_exporter": "python",
   "pygments_lexer": "ipython3",
   "version": "3.6.1"
  }
 },
 "nbformat": 4,
 "nbformat_minor": 2
}
