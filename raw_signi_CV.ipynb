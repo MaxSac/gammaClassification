{
 "cells": [
  {
   "cell_type": "code",
   "execution_count": 113,
   "metadata": {
    "collapsed": true
   },
   "outputs": [],
   "source": [
    "from fact.io import read_h5py\n",
    "from fact.analysis import li_ma_significance, split_on_off_source_independent\n",
    "import pandas as pd"
   ]
  },
  {
   "cell_type": "code",
   "execution_count": 54,
   "metadata": {},
   "outputs": [],
   "source": [
    "crab_data = read_h5py(\n",
    "    '/home/msackel/Desktop/gammaClassification/data/raw_data/crab_precuts.hdf5',\n",
    "    key='events',\n",
    "    columns=['theta_deg',\n",
    "        'theta_deg_off_1',\n",
    "        'theta_deg_off_2',\n",
    "        'theta_deg_off_3',\n",
    "        'theta_deg_off_4',\n",
    "        'theta_deg_off_5',\n",
    "    ]\n",
    ")"
   ]
  },
  {
   "cell_type": "code",
   "execution_count": 106,
   "metadata": {},
   "outputs": [
    {
     "data": {
      "text/plain": [
       "21.429276867702317"
      ]
     },
     "execution_count": 106,
     "metadata": {},
     "output_type": "execute_result"
    }
   ],
   "source": [
    "on_data, off_data = split_on_off_source_independent(crab_data, theta2_cut=0.03) \n",
    "li_ma_significance(len(on_data), len(off_data), 0.2)"
   ]
  },
  {
   "cell_type": "code",
   "execution_count": 115,
   "metadata": {
    "scrolled": false
   },
   "outputs": [
    {
     "name": "stdout",
     "output_type": "stream",
     "text": [
      "21.4327448065 +- 1.58450683755\n"
     ]
    }
   ],
   "source": [
    "cv = 5\n",
    "signi = []\n",
    "for x in range(cv):\n",
    "    data = crab_data.iloc[int(x/cv*len(crab_data)):int((x+1)/cv*len(crab_data))]\n",
    "    on_data, off_data = split_on_off_source_independent(data, theta2_cut=0.03) \n",
    "    signi.append(np.sqrt(cv)*li_ma_significance(len(on_data), len(off_data), 0.2))\n",
    "print(np.mean(signi), '+-', np.std(signi))"
   ]
  },
  {
   "cell_type": "code",
   "execution_count": null,
   "metadata": {
    "collapsed": true
   },
   "outputs": [],
   "source": []
  }
 ],
 "metadata": {
  "kernelspec": {
   "display_name": "Python [conda env:msackel]",
   "language": "python",
   "name": "conda-env-msackel-py"
  },
  "language_info": {
   "codemirror_mode": {
    "name": "ipython",
    "version": 3
   },
   "file_extension": ".py",
   "mimetype": "text/x-python",
   "name": "python",
   "nbconvert_exporter": "python",
   "pygments_lexer": "ipython3",
   "version": "3.6.1"
  }
 },
 "nbformat": 4,
 "nbformat_minor": 2
}
