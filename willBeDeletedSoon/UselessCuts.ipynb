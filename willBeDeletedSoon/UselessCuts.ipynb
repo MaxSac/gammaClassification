{
 "cells": [
  {
   "cell_type": "code",
   "execution_count": 1,
   "metadata": {
    "collapsed": false
   },
   "outputs": [],
   "source": [
    "import pandas as pd\n",
    "import numpy as np\n",
    "import matplotlib.pyplot as plt\n",
    "from sklearn.ensemble import RandomForestClassifier\n",
    "from sklearn.model_selection import train_test_split, cross_val_score\n",
    "plt.style.use('ggplot')"
   ]
  },
  {
   "cell_type": "code",
   "execution_count": 2,
   "metadata": {
    "collapsed": false,
    "scrolled": true
   },
   "outputs": [
    {
     "name": "stdout",
     "output_type": "stream",
     "text": [
      "0.0\n"
     ]
    },
    {
     "name": "stderr",
     "output_type": "stream",
     "text": [
      "[Parallel(n_jobs=20)]: Done  10 tasks      | elapsed:    1.4s\n",
      "[Parallel(n_jobs=20)]: Done 160 tasks      | elapsed:    9.4s\n",
      "[Parallel(n_jobs=20)]: Done 200 out of 200 | elapsed:   11.3s finished\n",
      "[Parallel(n_jobs=20)]: Done  10 tasks      | elapsed:    0.1s\n",
      "[Parallel(n_jobs=20)]: Done 160 tasks      | elapsed:    0.6s\n",
      "[Parallel(n_jobs=20)]: Done 200 out of 200 | elapsed:    0.7s finished\n",
      "[Parallel(n_jobs=20)]: Done  10 tasks      | elapsed:    0.0s\n",
      "[Parallel(n_jobs=20)]: Done 160 tasks      | elapsed:    0.2s\n",
      "[Parallel(n_jobs=20)]: Done 200 out of 200 | elapsed:    0.3s finished\n"
     ]
    },
    {
     "name": "stdout",
     "output_type": "stream",
     "text": [
      "0.3\n"
     ]
    },
    {
     "name": "stderr",
     "output_type": "stream",
     "text": [
      "[Parallel(n_jobs=20)]: Done  10 tasks      | elapsed:    1.3s\n",
      "[Parallel(n_jobs=20)]: Done 160 tasks      | elapsed:    8.5s\n",
      "[Parallel(n_jobs=20)]: Done 200 out of 200 | elapsed:   10.3s finished\n",
      "[Parallel(n_jobs=20)]: Done  10 tasks      | elapsed:    0.1s\n",
      "[Parallel(n_jobs=20)]: Done 160 tasks      | elapsed:    0.6s\n",
      "[Parallel(n_jobs=20)]: Done 200 out of 200 | elapsed:    0.7s finished\n",
      "[Parallel(n_jobs=20)]: Done  10 tasks      | elapsed:    0.0s\n",
      "[Parallel(n_jobs=20)]: Done 160 tasks      | elapsed:    0.2s\n",
      "[Parallel(n_jobs=20)]: Done 200 out of 200 | elapsed:    0.2s finished\n"
     ]
    },
    {
     "name": "stdout",
     "output_type": "stream",
     "text": [
      "0.5\n"
     ]
    },
    {
     "name": "stderr",
     "output_type": "stream",
     "text": [
      "[Parallel(n_jobs=20)]: Done  10 tasks      | elapsed:    1.5s\n",
      "[Parallel(n_jobs=20)]: Done 160 tasks      | elapsed:    8.8s\n",
      "[Parallel(n_jobs=20)]: Done 200 out of 200 | elapsed:   10.5s finished\n",
      "[Parallel(n_jobs=20)]: Done  10 tasks      | elapsed:    0.1s\n",
      "[Parallel(n_jobs=20)]: Done 160 tasks      | elapsed:    0.5s\n",
      "[Parallel(n_jobs=20)]: Done 200 out of 200 | elapsed:    0.6s finished\n",
      "[Parallel(n_jobs=20)]: Done  10 tasks      | elapsed:    0.0s\n",
      "[Parallel(n_jobs=20)]: Done 160 tasks      | elapsed:    0.2s\n",
      "[Parallel(n_jobs=20)]: Done 200 out of 200 | elapsed:    0.3s finished\n"
     ]
    },
    {
     "name": "stdout",
     "output_type": "stream",
     "text": [
      "0.8\n"
     ]
    },
    {
     "name": "stderr",
     "output_type": "stream",
     "text": [
      "[Parallel(n_jobs=20)]: Done  10 tasks      | elapsed:    1.2s\n",
      "[Parallel(n_jobs=20)]: Done 160 tasks      | elapsed:    7.7s\n",
      "[Parallel(n_jobs=20)]: Done 200 out of 200 | elapsed:    9.2s finished\n",
      "[Parallel(n_jobs=20)]: Done  10 tasks      | elapsed:    0.1s\n",
      "[Parallel(n_jobs=20)]: Done 160 tasks      | elapsed:    0.5s\n",
      "[Parallel(n_jobs=20)]: Done 200 out of 200 | elapsed:    0.6s finished\n",
      "[Parallel(n_jobs=20)]: Done  10 tasks      | elapsed:    0.0s\n",
      "[Parallel(n_jobs=20)]: Done 160 tasks      | elapsed:    0.2s\n",
      "[Parallel(n_jobs=20)]: Done 200 out of 200 | elapsed:    0.2s finished\n"
     ]
    },
    {
     "name": "stdout",
     "output_type": "stream",
     "text": [
      "1.0\n"
     ]
    },
    {
     "name": "stderr",
     "output_type": "stream",
     "text": [
      "[Parallel(n_jobs=20)]: Done  10 tasks      | elapsed:    1.2s\n",
      "[Parallel(n_jobs=20)]: Done 160 tasks      | elapsed:    7.2s\n",
      "[Parallel(n_jobs=20)]: Done 200 out of 200 | elapsed:    8.7s finished\n",
      "[Parallel(n_jobs=20)]: Done  10 tasks      | elapsed:    0.1s\n",
      "[Parallel(n_jobs=20)]: Done 160 tasks      | elapsed:    0.5s\n",
      "[Parallel(n_jobs=20)]: Done 200 out of 200 | elapsed:    0.6s finished\n",
      "[Parallel(n_jobs=20)]: Done  10 tasks      | elapsed:    0.0s\n",
      "[Parallel(n_jobs=20)]: Done 160 tasks      | elapsed:    0.2s\n",
      "[Parallel(n_jobs=20)]: Done 200 out of 200 | elapsed:    0.2s finished\n"
     ]
    },
    {
     "name": "stdout",
     "output_type": "stream",
     "text": [
      "1.3\n"
     ]
    },
    {
     "name": "stderr",
     "output_type": "stream",
     "text": [
      "[Parallel(n_jobs=20)]: Done  10 tasks      | elapsed:    0.9s\n",
      "[Parallel(n_jobs=20)]: Done 160 tasks      | elapsed:    6.6s\n",
      "[Parallel(n_jobs=20)]: Done 200 out of 200 | elapsed:    7.9s finished\n",
      "[Parallel(n_jobs=20)]: Done  10 tasks      | elapsed:    0.1s\n",
      "[Parallel(n_jobs=20)]: Done 160 tasks      | elapsed:    0.5s\n",
      "[Parallel(n_jobs=20)]: Done 200 out of 200 | elapsed:    0.6s finished\n",
      "[Parallel(n_jobs=20)]: Done  10 tasks      | elapsed:    0.0s\n",
      "[Parallel(n_jobs=20)]: Done 160 tasks      | elapsed:    0.2s\n",
      "[Parallel(n_jobs=20)]: Done 200 out of 200 | elapsed:    0.2s finished\n"
     ]
    },
    {
     "name": "stdout",
     "output_type": "stream",
     "text": [
      "1.5\n"
     ]
    },
    {
     "name": "stderr",
     "output_type": "stream",
     "text": [
      "[Parallel(n_jobs=20)]: Done  10 tasks      | elapsed:    1.0s\n",
      "[Parallel(n_jobs=20)]: Done 160 tasks      | elapsed:    6.6s\n",
      "[Parallel(n_jobs=20)]: Done 200 out of 200 | elapsed:    8.0s finished\n",
      "[Parallel(n_jobs=20)]: Done  10 tasks      | elapsed:    0.1s\n",
      "[Parallel(n_jobs=20)]: Done 160 tasks      | elapsed:    0.5s\n",
      "[Parallel(n_jobs=20)]: Done 200 out of 200 | elapsed:    0.6s finished\n",
      "[Parallel(n_jobs=20)]: Done  10 tasks      | elapsed:    0.0s\n",
      "[Parallel(n_jobs=20)]: Done 160 tasks      | elapsed:    0.2s\n",
      "[Parallel(n_jobs=20)]: Done 200 out of 200 | elapsed:    0.2s finished\n"
     ]
    },
    {
     "name": "stdout",
     "output_type": "stream",
     "text": [
      "1.8\n"
     ]
    },
    {
     "name": "stderr",
     "output_type": "stream",
     "text": [
      "[Parallel(n_jobs=20)]: Done  10 tasks      | elapsed:    1.0s\n",
      "[Parallel(n_jobs=20)]: Done 160 tasks      | elapsed:    6.2s\n",
      "[Parallel(n_jobs=20)]: Done 200 out of 200 | elapsed:    7.4s finished\n",
      "[Parallel(n_jobs=20)]: Done  10 tasks      | elapsed:    0.1s\n",
      "[Parallel(n_jobs=20)]: Done 160 tasks      | elapsed:    0.4s\n",
      "[Parallel(n_jobs=20)]: Done 200 out of 200 | elapsed:    0.5s finished\n",
      "[Parallel(n_jobs=20)]: Done  10 tasks      | elapsed:    0.0s\n",
      "[Parallel(n_jobs=20)]: Done 160 tasks      | elapsed:    0.2s\n",
      "[Parallel(n_jobs=20)]: Done 200 out of 200 | elapsed:    0.2s finished\n"
     ]
    },
    {
     "name": "stdout",
     "output_type": "stream",
     "text": [
      "2.1\n"
     ]
    },
    {
     "name": "stderr",
     "output_type": "stream",
     "text": [
      "[Parallel(n_jobs=20)]: Done  10 tasks      | elapsed:    1.0s\n",
      "[Parallel(n_jobs=20)]: Done 160 tasks      | elapsed:    5.8s\n",
      "[Parallel(n_jobs=20)]: Done 200 out of 200 | elapsed:    7.0s finished\n",
      "[Parallel(n_jobs=20)]: Done  10 tasks      | elapsed:    0.1s\n",
      "[Parallel(n_jobs=20)]: Done 160 tasks      | elapsed:    0.4s\n",
      "[Parallel(n_jobs=20)]: Done 200 out of 200 | elapsed:    0.5s finished\n",
      "[Parallel(n_jobs=20)]: Done  10 tasks      | elapsed:    0.0s\n",
      "[Parallel(n_jobs=20)]: Done 160 tasks      | elapsed:    0.1s\n",
      "[Parallel(n_jobs=20)]: Done 200 out of 200 | elapsed:    0.2s finished\n"
     ]
    },
    {
     "name": "stdout",
     "output_type": "stream",
     "text": [
      "2.3\n"
     ]
    },
    {
     "name": "stderr",
     "output_type": "stream",
     "text": [
      "[Parallel(n_jobs=20)]: Done  10 tasks      | elapsed:    0.8s\n",
      "[Parallel(n_jobs=20)]: Done 160 tasks      | elapsed:    5.4s\n",
      "[Parallel(n_jobs=20)]: Done 200 out of 200 | elapsed:    6.6s finished\n",
      "[Parallel(n_jobs=20)]: Done  10 tasks      | elapsed:    0.1s\n",
      "[Parallel(n_jobs=20)]: Done 160 tasks      | elapsed:    0.4s\n",
      "[Parallel(n_jobs=20)]: Done 200 out of 200 | elapsed:    0.5s finished\n",
      "[Parallel(n_jobs=20)]: Done  10 tasks      | elapsed:    0.0s\n",
      "[Parallel(n_jobs=20)]: Done 160 tasks      | elapsed:    0.1s\n",
      "[Parallel(n_jobs=20)]: Done 200 out of 200 | elapsed:    0.2s finished\n"
     ]
    },
    {
     "name": "stdout",
     "output_type": "stream",
     "text": [
      "2.6\n"
     ]
    },
    {
     "name": "stderr",
     "output_type": "stream",
     "text": [
      "[Parallel(n_jobs=20)]: Done  10 tasks      | elapsed:    0.8s\n",
      "[Parallel(n_jobs=20)]: Done 160 tasks      | elapsed:    5.2s\n",
      "[Parallel(n_jobs=20)]: Done 200 out of 200 | elapsed:    6.4s finished\n",
      "[Parallel(n_jobs=20)]: Done  10 tasks      | elapsed:    0.1s\n",
      "[Parallel(n_jobs=20)]: Done 160 tasks      | elapsed:    0.3s\n",
      "[Parallel(n_jobs=20)]: Done 200 out of 200 | elapsed:    0.4s finished\n",
      "[Parallel(n_jobs=20)]: Done  10 tasks      | elapsed:    0.0s\n",
      "[Parallel(n_jobs=20)]: Done 160 tasks      | elapsed:    0.1s\n",
      "[Parallel(n_jobs=20)]: Done 200 out of 200 | elapsed:    0.2s finished\n"
     ]
    },
    {
     "name": "stdout",
     "output_type": "stream",
     "text": [
      "2.8\n"
     ]
    },
    {
     "name": "stderr",
     "output_type": "stream",
     "text": [
      "[Parallel(n_jobs=20)]: Done  10 tasks      | elapsed:    0.8s\n",
      "[Parallel(n_jobs=20)]: Done 160 tasks      | elapsed:    5.1s\n",
      "[Parallel(n_jobs=20)]: Done 200 out of 200 | elapsed:    6.2s finished\n",
      "[Parallel(n_jobs=20)]: Done  10 tasks      | elapsed:    0.1s\n",
      "[Parallel(n_jobs=20)]: Done 160 tasks      | elapsed:    0.4s\n",
      "[Parallel(n_jobs=20)]: Done 200 out of 200 | elapsed:    0.4s finished\n",
      "[Parallel(n_jobs=20)]: Done  10 tasks      | elapsed:    0.0s\n",
      "[Parallel(n_jobs=20)]: Done 160 tasks      | elapsed:    0.1s\n",
      "[Parallel(n_jobs=20)]: Done 200 out of 200 | elapsed:    0.2s finished\n"
     ]
    },
    {
     "name": "stdout",
     "output_type": "stream",
     "text": [
      "3.1\n"
     ]
    },
    {
     "name": "stderr",
     "output_type": "stream",
     "text": [
      "[Parallel(n_jobs=20)]: Done  10 tasks      | elapsed:    0.8s\n",
      "[Parallel(n_jobs=20)]: Done 160 tasks      | elapsed:    5.0s\n",
      "[Parallel(n_jobs=20)]: Done 200 out of 200 | elapsed:    6.0s finished\n",
      "[Parallel(n_jobs=20)]: Done  10 tasks      | elapsed:    0.1s\n",
      "[Parallel(n_jobs=20)]: Done 160 tasks      | elapsed:    0.3s\n",
      "[Parallel(n_jobs=20)]: Done 200 out of 200 | elapsed:    0.4s finished\n",
      "[Parallel(n_jobs=20)]: Done  10 tasks      | elapsed:    0.0s\n",
      "[Parallel(n_jobs=20)]: Done 160 tasks      | elapsed:    0.1s\n",
      "[Parallel(n_jobs=20)]: Done 200 out of 200 | elapsed:    0.2s finished\n"
     ]
    },
    {
     "name": "stdout",
     "output_type": "stream",
     "text": [
      "3.3\n"
     ]
    },
    {
     "name": "stderr",
     "output_type": "stream",
     "text": [
      "[Parallel(n_jobs=20)]: Done  10 tasks      | elapsed:    0.8s\n",
      "[Parallel(n_jobs=20)]: Done 160 tasks      | elapsed:    5.1s\n",
      "[Parallel(n_jobs=20)]: Done 200 out of 200 | elapsed:    6.2s finished\n",
      "[Parallel(n_jobs=20)]: Done  10 tasks      | elapsed:    0.1s\n",
      "[Parallel(n_jobs=20)]: Done 160 tasks      | elapsed:    0.3s\n",
      "[Parallel(n_jobs=20)]: Done 200 out of 200 | elapsed:    0.4s finished\n",
      "[Parallel(n_jobs=20)]: Done  10 tasks      | elapsed:    0.0s\n",
      "[Parallel(n_jobs=20)]: Done 160 tasks      | elapsed:    0.1s\n",
      "[Parallel(n_jobs=20)]: Done 200 out of 200 | elapsed:    0.2s finished\n"
     ]
    },
    {
     "name": "stdout",
     "output_type": "stream",
     "text": [
      "3.6\n"
     ]
    },
    {
     "name": "stderr",
     "output_type": "stream",
     "text": [
      "[Parallel(n_jobs=20)]: Done  10 tasks      | elapsed:    0.7s\n",
      "[Parallel(n_jobs=20)]: Done 160 tasks      | elapsed:    4.6s\n",
      "[Parallel(n_jobs=20)]: Done 200 out of 200 | elapsed:    5.5s finished\n",
      "[Parallel(n_jobs=20)]: Done  10 tasks      | elapsed:    0.1s\n",
      "[Parallel(n_jobs=20)]: Done 160 tasks      | elapsed:    0.3s\n",
      "[Parallel(n_jobs=20)]: Done 200 out of 200 | elapsed:    0.3s finished\n",
      "[Parallel(n_jobs=20)]: Done  10 tasks      | elapsed:    0.0s\n",
      "[Parallel(n_jobs=20)]: Done 160 tasks      | elapsed:    0.1s\n",
      "[Parallel(n_jobs=20)]: Done 200 out of 200 | elapsed:    0.1s finished\n"
     ]
    },
    {
     "name": "stdout",
     "output_type": "stream",
     "text": [
      "3.8\n"
     ]
    },
    {
     "name": "stderr",
     "output_type": "stream",
     "text": [
      "[Parallel(n_jobs=20)]: Done  10 tasks      | elapsed:    0.6s\n",
      "[Parallel(n_jobs=20)]: Done 160 tasks      | elapsed:    4.3s\n",
      "[Parallel(n_jobs=20)]: Done 200 out of 200 | elapsed:    5.3s finished\n",
      "[Parallel(n_jobs=20)]: Done  10 tasks      | elapsed:    0.1s\n",
      "[Parallel(n_jobs=20)]: Done 160 tasks      | elapsed:    0.3s\n",
      "[Parallel(n_jobs=20)]: Done 200 out of 200 | elapsed:    0.3s finished\n",
      "[Parallel(n_jobs=20)]: Done  10 tasks      | elapsed:    0.0s\n",
      "[Parallel(n_jobs=20)]: Done 160 tasks      | elapsed:    0.1s\n",
      "[Parallel(n_jobs=20)]: Done 200 out of 200 | elapsed:    0.2s finished\n"
     ]
    },
    {
     "name": "stdout",
     "output_type": "stream",
     "text": [
      "4.1\n"
     ]
    },
    {
     "name": "stderr",
     "output_type": "stream",
     "text": [
      "[Parallel(n_jobs=20)]: Done  10 tasks      | elapsed:    0.6s\n",
      "[Parallel(n_jobs=20)]: Done 160 tasks      | elapsed:    4.3s\n",
      "[Parallel(n_jobs=20)]: Done 200 out of 200 | elapsed:    5.2s finished\n",
      "[Parallel(n_jobs=20)]: Done  10 tasks      | elapsed:    0.1s\n",
      "[Parallel(n_jobs=20)]: Done 160 tasks      | elapsed:    0.3s\n",
      "[Parallel(n_jobs=20)]: Done 200 out of 200 | elapsed:    0.3s finished\n",
      "[Parallel(n_jobs=20)]: Done  10 tasks      | elapsed:    0.0s\n",
      "[Parallel(n_jobs=20)]: Done 160 tasks      | elapsed:    0.1s\n",
      "[Parallel(n_jobs=20)]: Done 200 out of 200 | elapsed:    0.1s finished\n"
     ]
    },
    {
     "name": "stdout",
     "output_type": "stream",
     "text": [
      "4.4\n"
     ]
    },
    {
     "name": "stderr",
     "output_type": "stream",
     "text": [
      "[Parallel(n_jobs=20)]: Done  10 tasks      | elapsed:    0.7s\n",
      "[Parallel(n_jobs=20)]: Done 160 tasks      | elapsed:    4.4s\n",
      "[Parallel(n_jobs=20)]: Done 200 out of 200 | elapsed:    5.3s finished\n",
      "[Parallel(n_jobs=20)]: Done  10 tasks      | elapsed:    0.0s\n",
      "[Parallel(n_jobs=20)]: Done 160 tasks      | elapsed:    0.2s\n",
      "[Parallel(n_jobs=20)]: Done 200 out of 200 | elapsed:    0.3s finished\n",
      "[Parallel(n_jobs=20)]: Done  10 tasks      | elapsed:    0.0s\n",
      "[Parallel(n_jobs=20)]: Done 160 tasks      | elapsed:    0.1s\n",
      "[Parallel(n_jobs=20)]: Done 200 out of 200 | elapsed:    0.1s finished\n"
     ]
    },
    {
     "name": "stdout",
     "output_type": "stream",
     "text": [
      "4.6\n"
     ]
    },
    {
     "name": "stderr",
     "output_type": "stream",
     "text": [
      "[Parallel(n_jobs=20)]: Done  10 tasks      | elapsed:    0.7s\n",
      "[Parallel(n_jobs=20)]: Done 160 tasks      | elapsed:    4.2s\n",
      "[Parallel(n_jobs=20)]: Done 200 out of 200 | elapsed:    5.0s finished\n",
      "[Parallel(n_jobs=20)]: Done  10 tasks      | elapsed:    0.0s\n",
      "[Parallel(n_jobs=20)]: Done 160 tasks      | elapsed:    0.2s\n",
      "[Parallel(n_jobs=20)]: Done 200 out of 200 | elapsed:    0.3s finished\n",
      "[Parallel(n_jobs=20)]: Done  10 tasks      | elapsed:    0.0s\n",
      "[Parallel(n_jobs=20)]: Done 160 tasks      | elapsed:    0.1s\n",
      "[Parallel(n_jobs=20)]: Done 200 out of 200 | elapsed:    0.1s finished\n"
     ]
    },
    {
     "name": "stdout",
     "output_type": "stream",
     "text": [
      "4.9\n"
     ]
    },
    {
     "name": "stderr",
     "output_type": "stream",
     "text": [
      "[Parallel(n_jobs=20)]: Done  10 tasks      | elapsed:    0.6s\n",
      "[Parallel(n_jobs=20)]: Done 160 tasks      | elapsed:    4.1s\n",
      "[Parallel(n_jobs=20)]: Done 200 out of 200 | elapsed:    4.9s finished\n",
      "[Parallel(n_jobs=20)]: Done  10 tasks      | elapsed:    0.1s\n",
      "[Parallel(n_jobs=20)]: Done 160 tasks      | elapsed:    0.3s\n",
      "[Parallel(n_jobs=20)]: Done 200 out of 200 | elapsed:    0.3s finished\n",
      "[Parallel(n_jobs=20)]: Done  10 tasks      | elapsed:    0.0s\n",
      "[Parallel(n_jobs=20)]: Done 160 tasks      | elapsed:    0.1s\n",
      "[Parallel(n_jobs=20)]: Done 200 out of 200 | elapsed:    0.1s finished\n"
     ]
    },
    {
     "name": "stdout",
     "output_type": "stream",
     "text": [
      "5.1\n"
     ]
    },
    {
     "name": "stderr",
     "output_type": "stream",
     "text": [
      "[Parallel(n_jobs=20)]: Done  10 tasks      | elapsed:    0.6s\n",
      "[Parallel(n_jobs=20)]: Done 160 tasks      | elapsed:    4.0s\n",
      "[Parallel(n_jobs=20)]: Done 200 out of 200 | elapsed:    4.8s finished\n",
      "[Parallel(n_jobs=20)]: Done  10 tasks      | elapsed:    0.0s\n",
      "[Parallel(n_jobs=20)]: Done 160 tasks      | elapsed:    0.2s\n",
      "[Parallel(n_jobs=20)]: Done 200 out of 200 | elapsed:    0.3s finished\n",
      "[Parallel(n_jobs=20)]: Done  10 tasks      | elapsed:    0.0s\n",
      "[Parallel(n_jobs=20)]: Done 160 tasks      | elapsed:    0.1s\n",
      "[Parallel(n_jobs=20)]: Done 200 out of 200 | elapsed:    0.1s finished\n"
     ]
    },
    {
     "name": "stdout",
     "output_type": "stream",
     "text": [
      "5.4\n"
     ]
    },
    {
     "name": "stderr",
     "output_type": "stream",
     "text": [
      "[Parallel(n_jobs=20)]: Done  10 tasks      | elapsed:    0.7s\n",
      "[Parallel(n_jobs=20)]: Done 160 tasks      | elapsed:    3.9s\n",
      "[Parallel(n_jobs=20)]: Done 200 out of 200 | elapsed:    4.8s finished\n",
      "[Parallel(n_jobs=20)]: Done  10 tasks      | elapsed:    0.0s\n",
      "[Parallel(n_jobs=20)]: Done 160 tasks      | elapsed:    0.2s\n",
      "[Parallel(n_jobs=20)]: Done 200 out of 200 | elapsed:    0.3s finished\n",
      "[Parallel(n_jobs=20)]: Done  10 tasks      | elapsed:    0.0s\n",
      "[Parallel(n_jobs=20)]: Done 160 tasks      | elapsed:    0.1s\n",
      "[Parallel(n_jobs=20)]: Done 200 out of 200 | elapsed:    0.1s finished\n"
     ]
    },
    {
     "name": "stdout",
     "output_type": "stream",
     "text": [
      "5.6\n"
     ]
    },
    {
     "name": "stderr",
     "output_type": "stream",
     "text": [
      "[Parallel(n_jobs=20)]: Done  10 tasks      | elapsed:    0.6s\n",
      "[Parallel(n_jobs=20)]: Done 160 tasks      | elapsed:    3.9s\n",
      "[Parallel(n_jobs=20)]: Done 200 out of 200 | elapsed:    4.8s finished\n",
      "[Parallel(n_jobs=20)]: Done  10 tasks      | elapsed:    0.0s\n",
      "[Parallel(n_jobs=20)]: Done 160 tasks      | elapsed:    0.2s\n",
      "[Parallel(n_jobs=20)]: Done 200 out of 200 | elapsed:    0.3s finished\n",
      "[Parallel(n_jobs=20)]: Done  10 tasks      | elapsed:    0.0s\n",
      "[Parallel(n_jobs=20)]: Done 160 tasks      | elapsed:    0.1s\n",
      "[Parallel(n_jobs=20)]: Done 200 out of 200 | elapsed:    0.2s finished\n"
     ]
    },
    {
     "name": "stdout",
     "output_type": "stream",
     "text": [
      "5.9\n"
     ]
    },
    {
     "name": "stderr",
     "output_type": "stream",
     "text": [
      "[Parallel(n_jobs=20)]: Done  10 tasks      | elapsed:    0.7s\n",
      "[Parallel(n_jobs=20)]: Done 160 tasks      | elapsed:    4.1s\n",
      "[Parallel(n_jobs=20)]: Done 200 out of 200 | elapsed:    5.0s finished\n",
      "[Parallel(n_jobs=20)]: Done  10 tasks      | elapsed:    0.0s\n",
      "[Parallel(n_jobs=20)]: Done 160 tasks      | elapsed:    0.2s\n",
      "[Parallel(n_jobs=20)]: Done 200 out of 200 | elapsed:    0.3s finished\n",
      "[Parallel(n_jobs=20)]: Done  10 tasks      | elapsed:    0.0s\n",
      "[Parallel(n_jobs=20)]: Done 160 tasks      | elapsed:    0.1s\n",
      "[Parallel(n_jobs=20)]: Done 200 out of 200 | elapsed:    0.1s finished\n"
     ]
    },
    {
     "name": "stdout",
     "output_type": "stream",
     "text": [
      "6.2\n"
     ]
    },
    {
     "name": "stderr",
     "output_type": "stream",
     "text": [
      "[Parallel(n_jobs=20)]: Done  10 tasks      | elapsed:    0.6s\n",
      "[Parallel(n_jobs=20)]: Done 160 tasks      | elapsed:    3.8s\n",
      "[Parallel(n_jobs=20)]: Done 200 out of 200 | elapsed:    4.6s finished\n",
      "[Parallel(n_jobs=20)]: Done  10 tasks      | elapsed:    0.0s\n",
      "[Parallel(n_jobs=20)]: Done 160 tasks      | elapsed:    0.2s\n",
      "[Parallel(n_jobs=20)]: Done 200 out of 200 | elapsed:    0.3s finished\n",
      "[Parallel(n_jobs=20)]: Done  10 tasks      | elapsed:    0.0s\n",
      "[Parallel(n_jobs=20)]: Done 160 tasks      | elapsed:    0.1s\n",
      "[Parallel(n_jobs=20)]: Done 200 out of 200 | elapsed:    0.1s finished\n"
     ]
    },
    {
     "name": "stdout",
     "output_type": "stream",
     "text": [
      "6.4\n"
     ]
    },
    {
     "name": "stderr",
     "output_type": "stream",
     "text": [
      "[Parallel(n_jobs=20)]: Done  10 tasks      | elapsed:    0.5s\n",
      "[Parallel(n_jobs=20)]: Done 160 tasks      | elapsed:    3.6s\n",
      "[Parallel(n_jobs=20)]: Done 200 out of 200 | elapsed:    4.4s finished\n",
      "[Parallel(n_jobs=20)]: Done  10 tasks      | elapsed:    0.0s\n",
      "[Parallel(n_jobs=20)]: Done 160 tasks      | elapsed:    0.2s\n",
      "[Parallel(n_jobs=20)]: Done 200 out of 200 | elapsed:    0.2s finished\n",
      "[Parallel(n_jobs=20)]: Done  10 tasks      | elapsed:    0.0s\n",
      "[Parallel(n_jobs=20)]: Done 160 tasks      | elapsed:    0.1s\n",
      "[Parallel(n_jobs=20)]: Done 200 out of 200 | elapsed:    0.1s finished\n"
     ]
    },
    {
     "name": "stdout",
     "output_type": "stream",
     "text": [
      "6.7\n"
     ]
    },
    {
     "name": "stderr",
     "output_type": "stream",
     "text": [
      "[Parallel(n_jobs=20)]: Done  10 tasks      | elapsed:    0.6s\n",
      "[Parallel(n_jobs=20)]: Done 160 tasks      | elapsed:    3.6s\n",
      "[Parallel(n_jobs=20)]: Done 200 out of 200 | elapsed:    4.4s finished\n",
      "[Parallel(n_jobs=20)]: Done  10 tasks      | elapsed:    0.0s\n",
      "[Parallel(n_jobs=20)]: Done 160 tasks      | elapsed:    0.2s\n",
      "[Parallel(n_jobs=20)]: Done 200 out of 200 | elapsed:    0.2s finished\n",
      "[Parallel(n_jobs=20)]: Done  10 tasks      | elapsed:    0.0s\n",
      "[Parallel(n_jobs=20)]: Done 160 tasks      | elapsed:    0.1s\n",
      "[Parallel(n_jobs=20)]: Done 200 out of 200 | elapsed:    0.1s finished\n"
     ]
    },
    {
     "name": "stdout",
     "output_type": "stream",
     "text": [
      "6.9\n"
     ]
    },
    {
     "name": "stderr",
     "output_type": "stream",
     "text": [
      "[Parallel(n_jobs=20)]: Done  10 tasks      | elapsed:    0.5s\n",
      "[Parallel(n_jobs=20)]: Done 160 tasks      | elapsed:    3.4s\n",
      "[Parallel(n_jobs=20)]: Done 200 out of 200 | elapsed:    4.2s finished\n",
      "[Parallel(n_jobs=20)]: Done  10 tasks      | elapsed:    0.0s\n",
      "[Parallel(n_jobs=20)]: Done 160 tasks      | elapsed:    0.2s\n",
      "[Parallel(n_jobs=20)]: Done 200 out of 200 | elapsed:    0.2s finished\n",
      "[Parallel(n_jobs=20)]: Done  10 tasks      | elapsed:    0.0s\n",
      "[Parallel(n_jobs=20)]: Done 160 tasks      | elapsed:    0.1s\n",
      "[Parallel(n_jobs=20)]: Done 200 out of 200 | elapsed:    0.1s finished\n"
     ]
    },
    {
     "name": "stdout",
     "output_type": "stream",
     "text": [
      "7.2\n"
     ]
    },
    {
     "name": "stderr",
     "output_type": "stream",
     "text": [
      "[Parallel(n_jobs=20)]: Done  10 tasks      | elapsed:    0.6s\n",
      "[Parallel(n_jobs=20)]: Done 160 tasks      | elapsed:    3.5s\n",
      "[Parallel(n_jobs=20)]: Done 200 out of 200 | elapsed:    4.2s finished\n",
      "[Parallel(n_jobs=20)]: Done  10 tasks      | elapsed:    0.0s\n",
      "[Parallel(n_jobs=20)]: Done 160 tasks      | elapsed:    0.2s\n",
      "[Parallel(n_jobs=20)]: Done 200 out of 200 | elapsed:    0.2s finished\n",
      "[Parallel(n_jobs=20)]: Done  10 tasks      | elapsed:    0.0s\n",
      "[Parallel(n_jobs=20)]: Done 160 tasks      | elapsed:    0.1s\n",
      "[Parallel(n_jobs=20)]: Done 200 out of 200 | elapsed:    0.1s finished\n"
     ]
    },
    {
     "name": "stdout",
     "output_type": "stream",
     "text": [
      "7.4\n"
     ]
    },
    {
     "name": "stderr",
     "output_type": "stream",
     "text": [
      "[Parallel(n_jobs=20)]: Done  10 tasks      | elapsed:    0.5s\n",
      "[Parallel(n_jobs=20)]: Done 160 tasks      | elapsed:    3.3s\n",
      "[Parallel(n_jobs=20)]: Done 200 out of 200 | elapsed:    4.0s finished\n",
      "[Parallel(n_jobs=20)]: Done  10 tasks      | elapsed:    0.0s\n",
      "[Parallel(n_jobs=20)]: Done 160 tasks      | elapsed:    0.2s\n",
      "[Parallel(n_jobs=20)]: Done 200 out of 200 | elapsed:    0.2s finished\n",
      "[Parallel(n_jobs=20)]: Done  10 tasks      | elapsed:    0.0s\n",
      "[Parallel(n_jobs=20)]: Done 160 tasks      | elapsed:    0.1s\n",
      "[Parallel(n_jobs=20)]: Done 200 out of 200 | elapsed:    0.1s finished\n"
     ]
    },
    {
     "name": "stdout",
     "output_type": "stream",
     "text": [
      "7.7\n"
     ]
    },
    {
     "name": "stderr",
     "output_type": "stream",
     "text": [
      "[Parallel(n_jobs=20)]: Done  10 tasks      | elapsed:    0.5s\n",
      "[Parallel(n_jobs=20)]: Done 160 tasks      | elapsed:    3.0s\n",
      "[Parallel(n_jobs=20)]: Done 200 out of 200 | elapsed:    3.7s finished\n",
      "[Parallel(n_jobs=20)]: Done  10 tasks      | elapsed:    0.0s\n",
      "[Parallel(n_jobs=20)]: Done 160 tasks      | elapsed:    0.2s\n",
      "[Parallel(n_jobs=20)]: Done 200 out of 200 | elapsed:    0.2s finished\n",
      "[Parallel(n_jobs=20)]: Done  10 tasks      | elapsed:    0.0s\n",
      "[Parallel(n_jobs=20)]: Done 160 tasks      | elapsed:    0.1s\n",
      "[Parallel(n_jobs=20)]: Done 200 out of 200 | elapsed:    0.1s finished\n"
     ]
    },
    {
     "name": "stdout",
     "output_type": "stream",
     "text": [
      "7.9\n"
     ]
    },
    {
     "name": "stderr",
     "output_type": "stream",
     "text": [
      "[Parallel(n_jobs=20)]: Done  10 tasks      | elapsed:    0.4s\n",
      "[Parallel(n_jobs=20)]: Done 160 tasks      | elapsed:    2.8s\n",
      "[Parallel(n_jobs=20)]: Done 200 out of 200 | elapsed:    3.4s finished\n",
      "[Parallel(n_jobs=20)]: Done  10 tasks      | elapsed:    0.0s\n",
      "[Parallel(n_jobs=20)]: Done 160 tasks      | elapsed:    0.2s\n",
      "[Parallel(n_jobs=20)]: Done 200 out of 200 | elapsed:    0.2s finished\n",
      "[Parallel(n_jobs=20)]: Done  10 tasks      | elapsed:    0.0s\n",
      "[Parallel(n_jobs=20)]: Done 160 tasks      | elapsed:    0.1s\n",
      "[Parallel(n_jobs=20)]: Done 200 out of 200 | elapsed:    0.1s finished\n"
     ]
    },
    {
     "name": "stdout",
     "output_type": "stream",
     "text": [
      "8.2\n"
     ]
    },
    {
     "name": "stderr",
     "output_type": "stream",
     "text": [
      "[Parallel(n_jobs=20)]: Done  10 tasks      | elapsed:    0.5s\n",
      "[Parallel(n_jobs=20)]: Done 160 tasks      | elapsed:    2.7s\n",
      "[Parallel(n_jobs=20)]: Done 200 out of 200 | elapsed:    3.3s finished\n",
      "[Parallel(n_jobs=20)]: Done  10 tasks      | elapsed:    0.0s\n",
      "[Parallel(n_jobs=20)]: Done 160 tasks      | elapsed:    0.2s\n",
      "[Parallel(n_jobs=20)]: Done 200 out of 200 | elapsed:    0.2s finished\n",
      "[Parallel(n_jobs=20)]: Done  10 tasks      | elapsed:    0.0s\n",
      "[Parallel(n_jobs=20)]: Done 160 tasks      | elapsed:    0.1s\n",
      "[Parallel(n_jobs=20)]: Done 200 out of 200 | elapsed:    0.1s finished\n"
     ]
    },
    {
     "name": "stdout",
     "output_type": "stream",
     "text": [
      "8.5\n"
     ]
    },
    {
     "name": "stderr",
     "output_type": "stream",
     "text": [
      "[Parallel(n_jobs=20)]: Done  10 tasks      | elapsed:    0.4s\n",
      "[Parallel(n_jobs=20)]: Done 160 tasks      | elapsed:    2.7s\n",
      "[Parallel(n_jobs=20)]: Done 200 out of 200 | elapsed:    3.3s finished\n",
      "[Parallel(n_jobs=20)]: Done  10 tasks      | elapsed:    0.0s\n",
      "[Parallel(n_jobs=20)]: Done 160 tasks      | elapsed:    0.2s\n",
      "[Parallel(n_jobs=20)]: Done 200 out of 200 | elapsed:    0.2s finished\n",
      "[Parallel(n_jobs=20)]: Done  10 tasks      | elapsed:    0.0s\n",
      "[Parallel(n_jobs=20)]: Done 160 tasks      | elapsed:    0.1s\n",
      "[Parallel(n_jobs=20)]: Done 200 out of 200 | elapsed:    0.1s finished\n"
     ]
    },
    {
     "name": "stdout",
     "output_type": "stream",
     "text": [
      "8.7\n"
     ]
    },
    {
     "name": "stderr",
     "output_type": "stream",
     "text": [
      "[Parallel(n_jobs=20)]: Done  10 tasks      | elapsed:    0.4s\n",
      "[Parallel(n_jobs=20)]: Done 160 tasks      | elapsed:    2.5s\n",
      "[Parallel(n_jobs=20)]: Done 200 out of 200 | elapsed:    3.1s finished\n",
      "[Parallel(n_jobs=20)]: Done  10 tasks      | elapsed:    0.0s\n",
      "[Parallel(n_jobs=20)]: Done 160 tasks      | elapsed:    0.2s\n",
      "[Parallel(n_jobs=20)]: Done 200 out of 200 | elapsed:    0.2s finished\n",
      "[Parallel(n_jobs=20)]: Done  10 tasks      | elapsed:    0.0s\n",
      "[Parallel(n_jobs=20)]: Done 160 tasks      | elapsed:    0.1s\n",
      "[Parallel(n_jobs=20)]: Done 200 out of 200 | elapsed:    0.1s finished\n"
     ]
    },
    {
     "name": "stdout",
     "output_type": "stream",
     "text": [
      "9.0\n"
     ]
    },
    {
     "name": "stderr",
     "output_type": "stream",
     "text": [
      "[Parallel(n_jobs=20)]: Done  10 tasks      | elapsed:    0.3s\n",
      "[Parallel(n_jobs=20)]: Done 160 tasks      | elapsed:    2.5s\n",
      "[Parallel(n_jobs=20)]: Done 200 out of 200 | elapsed:    3.0s finished\n",
      "[Parallel(n_jobs=20)]: Done  10 tasks      | elapsed:    0.0s\n",
      "[Parallel(n_jobs=20)]: Done 160 tasks      | elapsed:    0.1s\n",
      "[Parallel(n_jobs=20)]: Done 200 out of 200 | elapsed:    0.2s finished\n",
      "[Parallel(n_jobs=20)]: Done  10 tasks      | elapsed:    0.0s\n",
      "[Parallel(n_jobs=20)]: Done 160 tasks      | elapsed:    0.1s\n",
      "[Parallel(n_jobs=20)]: Done 200 out of 200 | elapsed:    0.1s finished\n"
     ]
    },
    {
     "name": "stdout",
     "output_type": "stream",
     "text": [
      "9.2\n"
     ]
    },
    {
     "name": "stderr",
     "output_type": "stream",
     "text": [
      "[Parallel(n_jobs=20)]: Done  10 tasks      | elapsed:    0.4s\n",
      "[Parallel(n_jobs=20)]: Done 160 tasks      | elapsed:    2.4s\n",
      "[Parallel(n_jobs=20)]: Done 200 out of 200 | elapsed:    2.9s finished\n",
      "[Parallel(n_jobs=20)]: Done  10 tasks      | elapsed:    0.0s\n",
      "[Parallel(n_jobs=20)]: Done 160 tasks      | elapsed:    0.2s\n",
      "[Parallel(n_jobs=20)]: Done 200 out of 200 | elapsed:    0.2s finished\n",
      "[Parallel(n_jobs=20)]: Done  10 tasks      | elapsed:    0.0s\n",
      "[Parallel(n_jobs=20)]: Done 160 tasks      | elapsed:    0.1s\n",
      "[Parallel(n_jobs=20)]: Done 200 out of 200 | elapsed:    0.1s finished\n"
     ]
    },
    {
     "name": "stdout",
     "output_type": "stream",
     "text": [
      "9.5\n"
     ]
    },
    {
     "name": "stderr",
     "output_type": "stream",
     "text": [
      "[Parallel(n_jobs=20)]: Done  10 tasks      | elapsed:    0.3s\n",
      "[Parallel(n_jobs=20)]: Done 160 tasks      | elapsed:    2.3s\n",
      "[Parallel(n_jobs=20)]: Done 200 out of 200 | elapsed:    2.9s finished\n",
      "[Parallel(n_jobs=20)]: Done  10 tasks      | elapsed:    0.0s\n",
      "[Parallel(n_jobs=20)]: Done 160 tasks      | elapsed:    0.1s\n",
      "[Parallel(n_jobs=20)]: Done 200 out of 200 | elapsed:    0.2s finished\n",
      "[Parallel(n_jobs=20)]: Done  10 tasks      | elapsed:    0.0s\n",
      "[Parallel(n_jobs=20)]: Done 160 tasks      | elapsed:    0.1s\n",
      "[Parallel(n_jobs=20)]: Done 200 out of 200 | elapsed:    0.1s finished\n"
     ]
    },
    {
     "name": "stdout",
     "output_type": "stream",
     "text": [
      "9.7\n"
     ]
    },
    {
     "name": "stderr",
     "output_type": "stream",
     "text": [
      "[Parallel(n_jobs=20)]: Done  10 tasks      | elapsed:    0.3s\n",
      "[Parallel(n_jobs=20)]: Done 160 tasks      | elapsed:    2.1s\n",
      "[Parallel(n_jobs=20)]: Done 200 out of 200 | elapsed:    2.5s finished\n",
      "[Parallel(n_jobs=20)]: Done  10 tasks      | elapsed:    0.0s\n",
      "[Parallel(n_jobs=20)]: Done 160 tasks      | elapsed:    0.2s\n",
      "[Parallel(n_jobs=20)]: Done 200 out of 200 | elapsed:    0.2s finished\n",
      "[Parallel(n_jobs=20)]: Done  10 tasks      | elapsed:    0.0s\n",
      "[Parallel(n_jobs=20)]: Done 160 tasks      | elapsed:    0.1s\n",
      "[Parallel(n_jobs=20)]: Done 200 out of 200 | elapsed:    0.1s finished\n"
     ]
    },
    {
     "name": "stdout",
     "output_type": "stream",
     "text": [
      "10.0\n"
     ]
    },
    {
     "name": "stderr",
     "output_type": "stream",
     "text": [
      "[Parallel(n_jobs=20)]: Done  10 tasks      | elapsed:    0.4s\n",
      "[Parallel(n_jobs=20)]: Done 160 tasks      | elapsed:    2.3s\n",
      "[Parallel(n_jobs=20)]: Done 200 out of 200 | elapsed:    2.8s finished\n",
      "[Parallel(n_jobs=20)]: Done  10 tasks      | elapsed:    0.0s\n",
      "[Parallel(n_jobs=20)]: Done 160 tasks      | elapsed:    0.1s\n",
      "[Parallel(n_jobs=20)]: Done 200 out of 200 | elapsed:    0.2s finished\n",
      "[Parallel(n_jobs=20)]: Done  10 tasks      | elapsed:    0.0s\n",
      "[Parallel(n_jobs=20)]: Done 160 tasks      | elapsed:    0.1s\n",
      "[Parallel(n_jobs=20)]: Done 200 out of 200 | elapsed:    0.1s finished\n"
     ]
    }
   ],
   "source": [
    "score = np.array([[],[]])\n",
    "for x in np.round(np.linspace(0,10,40),1):\n",
    "    print(x)\n",
    "    dataCrab = pd.read_pickle('data/theta-cuts/dataCrab'+str(x))\n",
    "    X_train,X_test, y_train, y_test = train_test_split(dataCrab.drop('label',axis=1), dataCrab.label)\n",
    "    Tree = RandomForestClassifier(random_state=0, max_depth=14, \n",
    "        n_estimators=200, n_jobs=20,verbose=1)\n",
    "    Tree.fit(X_train, y_train)\n",
    "    score = np.append(score, [[Tree.score(X_train,y_train)],[Tree.score(X_test,y_test)]], axis=1)"
   ]
  },
  {
   "cell_type": "code",
   "execution_count": 4,
   "metadata": {
    "collapsed": false
   },
   "outputs": [
    {
     "data": {
      "image/png": "[encoded data removed]",
      "text/plain": [
       "<matplotlib.figure.Figure at 0x7fd0ab06c9b0>"
      ]
     },
     "metadata": {},
     "output_type": "display_data"
    }
   ],
   "source": [
    "plt.plot(np.round(np.linspace(0,10,40),1),score[0], label='train score')\n",
    "plt.plot(np.round(np.linspace(0,10,40),1),score[1], label='test score')\n",
    "plt.legend(loc='best')\n",
    "plt.show()"
   ]
  },
  {
   "cell_type": "code",
   "execution_count": 53,
   "metadata": {
    "collapsed": false
   },
   "outputs": [
    {
     "name": "stdout",
     "output_type": "stream",
     "text": [
      "[[ 0.82565556  0.83032222  0.83413333  0.83782222  0.84142222  0.84518889\n",
      "   0.84898889  0.94765071  1.        ]\n",
      " [ 0.80373333  0.8084      0.81278889  0.81755556  0.82248889  0.82648889\n",
      "   0.82945556  0.92739248  0.99966719]]\n"
     ]
    }
   ],
   "source": [
    "print(score)"
   ]
  },
  {
   "cell_type": "code",
   "execution_count": 65,
   "metadata": {
    "collapsed": false
   },
   "outputs": [
    {
     "data": {
      "text/plain": [
       "array([  0.  ,   0.53,   1.05,   1.58,   2.11,   2.63,   3.16,   3.68,\n",
       "         4.21,   4.74,   5.26,   5.79,   6.32,   6.84,   7.37,   7.89,\n",
       "         8.42,   8.95,   9.47,  10.  ])"
      ]
     },
     "execution_count": 65,
     "metadata": {},
     "output_type": "execute_result"
    }
   ],
   "source": [
    "np.round(np.linspace(0,10,20), 2)"
   ]
  },
  {
   "cell_type": "code",
   "execution_count": 8,
   "metadata": {
    "collapsed": false
   },
   "outputs": [
    {
     "name": "stderr",
     "output_type": "stream",
     "text": [
      "[Parallel(n_jobs=20)]: Done  10 tasks      | elapsed:    0.3s\n",
      "[Parallel(n_jobs=20)]: Done 160 tasks      | elapsed:    2.1s\n",
      "[Parallel(n_jobs=20)]: Done 200 out of 200 | elapsed:    2.6s finished\n",
      "[Parallel(n_jobs=20)]: Done  10 tasks      | elapsed:    0.0s\n",
      "[Parallel(n_jobs=20)]: Done 160 tasks      | elapsed:    0.1s\n",
      "[Parallel(n_jobs=20)]: Done 200 out of 200 | elapsed:    0.2s finished\n",
      "[Parallel(n_jobs=20)]: Done  10 tasks      | elapsed:    0.0s\n"
     ]
    },
    {
     "name": "stdout",
     "output_type": "stream",
     "text": [
      "0.999985221311 0.999357127023\n"
     ]
    },
    {
     "name": "stderr",
     "output_type": "stream",
     "text": [
      "[Parallel(n_jobs=20)]: Done 160 tasks      | elapsed:    0.1s\n",
      "[Parallel(n_jobs=20)]: Done 200 out of 200 | elapsed:    0.1s finished\n"
     ]
    }
   ],
   "source": [
    "dataCrab = pd.read_pickle('data/theta-cuts/dataCrab10.0')\n",
    "X_train,X_test, y_train, y_test = train_test_split(dataCrab.drop('label',axis=1), dataCrab.label)\n",
    "Tree = RandomForestClassifier(random_state=0, max_depth=14, \n",
    "    n_estimators=200, n_jobs=20,verbose=1)\n",
    "Tree.fit(X_train, y_train)\n",
    "print(Tree.score(X_train,y_train),Tree.score(X_test,y_test))"
   ]
  },
  {
   "cell_type": "code",
   "execution_count": 10,
   "metadata": {
    "collapsed": false
   },
   "outputs": [
    {
     "name": "stderr",
     "output_type": "stream",
     "text": [
      "[Parallel(n_jobs=20)]: Done  10 tasks      | elapsed:    0.1s\n",
      "[Parallel(n_jobs=20)]: Done 160 tasks      | elapsed:    0.4s\n",
      "[Parallel(n_jobs=20)]: Done 200 out of 200 | elapsed:    0.5s finished\n"
     ]
    },
    {
     "name": "stdout",
     "output_type": "stream",
     "text": [
      "0.473858139535\n"
     ]
    },
    {
     "name": "stderr",
     "output_type": "stream",
     "text": [
      "[Parallel(n_jobs=20)]: Done  10 tasks      | elapsed:    0.1s\n",
      "[Parallel(n_jobs=20)]: Done 160 tasks      | elapsed:    0.4s\n",
      "[Parallel(n_jobs=20)]: Done 200 out of 200 | elapsed:    0.5s finished\n"
     ]
    },
    {
     "data": {
      "text/plain": [
       "array([[ 23760, 226240],\n",
       "       [     1, 179999]])"
      ]
     },
     "execution_count": 10,
     "metadata": {},
     "output_type": "execute_result"
    }
   ],
   "source": [
    "dataCrab = pd.read_pickle('data/theta-cuts/dataCrab0.0')\n",
    "print(Tree.score(dataCrab.drop('label',axis=1), dataCrab.label))\n",
    "pred = Tree.predict(dataCrab.drop('label',axis=1))\n",
    "from sklearn.metrics import confusion_matrix\n",
    "confusion_matrix(dataCrab.label, pred)"
   ]
  },
  {
   "cell_type": "code",
   "execution_count": null,
   "metadata": {
    "collapsed": true
   },
   "outputs": [],
   "source": []
  }
 ],
 "metadata": {
  "kernelspec": {
   "display_name": "Python [default]",
   "language": "python",
   "name": "python3"
  },
  "language_info": {
   "codemirror_mode": {
    "name": "ipython",
    "version": 3
   },
   "file_extension": ".py",
   "mimetype": "text/x-python",
   "name": "python",
   "nbconvert_exporter": "python",
   "pygments_lexer": "ipython3",
   "version": "3.5.2"
  }
 },
 "nbformat": 4,
 "nbformat_minor": 2
}
