{
 "cells": [
  {
   "cell_type": "code",
   "execution_count": 97,
   "metadata": {
    "collapsed": true
   },
   "outputs": [],
   "source": [
    "import numpy as np\n",
    "import pandas as pd\n",
    "from xgboost.sklearn import XGBClassifier\n",
    "from sklearn.metrics import roc_auc_score\n",
    "from sklearn.model_selection import GridSearchCV, cross_val_score"
   ]
  },
  {
   "cell_type": "code",
   "execution_count": 98,
   "metadata": {},
   "outputs": [
    {
     "name": "stdout",
     "output_type": "stream",
     "text": [
      "---Theta**2 = 0.5\n"
     ]
    }
   ],
   "source": [
    "from fact.io import read_h5py\n",
    "exec(open('/home/msackel/Desktop/gammaClassification/programm/theta_cut/theta_cut.py').read())\n",
    "exec(open('/home/msackel/Desktop/gammaClassification/programm/model_significance/model_significance.py').read())\n",
    "\n",
    "with open('/home/msackel/Desktop/gammaClassification/config/feature.yaml') as f:\n",
    "        feature = yaml.load(f)\n",
    "\n",
    "eval_data = read_h5py(\n",
    "                '/home/msackel/Desktop/gammaClassification/data/raw_data/crab_precuts.hdf5',\n",
    "                key='events',\n",
    "                columns=list(feature) + [\n",
    "                        'theta_deg',\n",
    "                        'theta_deg_off_1',\n",
    "                        'theta_deg_off_2',\n",
    "                        'theta_deg_off_3',\n",
    "                        'theta_deg_off_4',\n",
    "                        'theta_deg_off_5',\n",
    "                        ]\n",
    "                )\n",
    "\n",
    "print('---Theta**2 = 0.5')\n",
    "train_data = theta_cut('/home/msackel/Desktop/gammaClassification/data/raw_data/gamma_precuts.hdf5',\n",
    "                    '/home/msackel/Desktop/gammaClassification/data/raw_data/crab_precuts.hdf5', 0.5)"
   ]
  },
  {
   "cell_type": "code",
   "execution_count": 99,
   "metadata": {},
   "outputs": [],
   "source": [
    "data = pd.concat([train_data.query('label == 1')[:100000], train_data.query('label == 0')[:100000]])"
   ]
  },
  {
   "cell_type": "markdown",
   "metadata": {},
   "source": [
    "# Best depth 5 score"
   ]
  },
  {
   "cell_type": "code",
   "execution_count": 103,
   "metadata": {},
   "outputs": [
    {
     "data": {
      "text/plain": [
       "array([ 0.88092333,  0.87990479,  0.88650168])"
      ]
     },
     "execution_count": 103,
     "metadata": {},
     "output_type": "execute_result"
    }
   ],
   "source": [
    "parameters = {\n",
    "    'max_depth':5,\n",
    "    'min_child_weight':0.8,\n",
    "    'gamma': 0.1,\n",
    "    'subsample':0.5,\n",
    "    'colsample_bytree':.9,\n",
    "    'learning_rate':0.1,\n",
    "    'nthread':25,\n",
    "    'objective':'binary:logistic', \n",
    "    'scoring':'roc_auc'\n",
    "}\n",
    "rnd = XGBClassifier(**parameters)\n",
    "cross_val_score(rnd, data.drop('label', axis=1), data.label, scoring='roc_auc')"
   ]
  },
  {
   "cell_type": "code",
   "execution_count": null,
   "metadata": {},
   "outputs": [],
   "source": []
  },
  {
   "cell_type": "code",
   "execution_count": null,
   "metadata": {
    "collapsed": true
   },
   "outputs": [],
   "source": []
  }
 ],
 "metadata": {
  "kernelspec": {
   "display_name": "Python [conda env:msackel]",
   "language": "python",
   "name": "conda-env-msackel-py"
  },
  "language_info": {
   "codemirror_mode": {
    "name": "ipython",
    "version": 3
   },
   "file_extension": ".py",
   "mimetype": "text/x-python",
   "name": "python",
   "nbconvert_exporter": "python",
   "pygments_lexer": "ipython3",
   "version": "3.6.1"
  }
 },
 "nbformat": 4,
 "nbformat_minor": 2
}
